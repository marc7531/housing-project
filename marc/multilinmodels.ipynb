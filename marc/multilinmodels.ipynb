{
 "cells": [
  {
   "cell_type": "markdown",
   "metadata": {},
   "source": [
    "MULTILINEAR REGRESSION FRAMEWORK FOR TRAIN/TEST"
   ]
  },
  {
   "cell_type": "code",
   "execution_count": 2,
   "metadata": {},
   "outputs": [],
   "source": [
    "#Transformation \n",
    "import pandas as pd\n",
    "import numpy as np\n",
    "from scipy import stats\n",
    "import matplotlib.pyplot as plt\n",
    "from sklearn import preprocessing"
   ]
  },
  {
   "cell_type": "code",
   "execution_count": 62,
   "metadata": {},
   "outputs": [],
   "source": [
    "training = pd.read_csv('../../data/train_clean.csv', index_col=0)\n",
    "testing = pd.read_csv('../../data/test_clean.csv', index_col=0)"
   ]
  },
  {
   "cell_type": "code",
   "execution_count": 63,
   "metadata": {},
   "outputs": [
    {
     "data": {
      "text/plain": [
       "Index(['LotArea', 'YearBuilt', 'YearRemodAdd', 'GrLivArea', 'BsmtFullBath',\n",
       "       'BedroomAbvGr', 'KitchenAbvGr', 'GarageType', 'GarageArea', 'Kitchen',\n",
       "       'Fireplace', 'ExterQ', 'BsmtQ', 'HeatingQ', 'n_toilets', 'n_showers'],\n",
       "      dtype='object')"
      ]
     },
     "execution_count": 63,
     "metadata": {},
     "output_type": "execute_result"
    }
   ],
   "source": [
    "testing.columns"
   ]
  },
  {
   "cell_type": "code",
   "execution_count": 64,
   "metadata": {},
   "outputs": [],
   "source": [
    "#Convert year building was built/remodeled into a numeric Age (training data set)\n",
    "training['AgeBuilt'] = 2019 - training['YearBuilt']\n",
    "training['AgeRemodel'] = 2019 - training['YearRemodAdd']"
   ]
  },
  {
   "cell_type": "code",
   "execution_count": 65,
   "metadata": {},
   "outputs": [],
   "source": [
    "#Convert year building was built/remodeled into a numeric Age (testing data set)\n",
    "testing['AgeBuilt'] = 2019 - testing['YearBuilt']\n",
    "testing['AgeRemodel'] = 2019 - testing['YearRemodAdd']"
   ]
  },
  {
   "cell_type": "code",
   "execution_count": 66,
   "metadata": {},
   "outputs": [],
   "source": [
    "#Normalization of 5 features: training\n",
    "training['NormLot'] = (training.LotArea - training.LotArea.mean())/training.LotArea.std()\n",
    "training['NormAgeBuilt'] = (training.AgeBuilt - training.AgeBuilt.mean())/training.AgeBuilt.std()\n",
    "training['NormAgeRemodel'] = (training.AgeRemodel - training.AgeRemodel.mean())/training.AgeRemodel.std()\n",
    "training['NormGrLivArea'] = (training.GrLivArea - training.GrLivArea.mean())/training.GrLivArea.std()\n",
    "training['NormGarageArea'] = (training.GarageArea - training.GarageArea.mean())/training.GarageArea.std()\n",
    "training['NormSalePrice'] = (training.SalePrice - training.SalePrice.mean())/training.SalePrice.std()"
   ]
  },
  {
   "cell_type": "code",
   "execution_count": 67,
   "metadata": {},
   "outputs": [],
   "source": [
    "#Normalization of 5 features: testing\n",
    "testing['NormLot'] = (testing.LotArea - testing.LotArea.mean())/testing.LotArea.std()\n",
    "testing['NormAgeBuilt'] = (testing.AgeBuilt - testing.AgeBuilt.mean())/testing.AgeBuilt.std()\n",
    "testing['NormAgeRemodel'] = (testing.AgeRemodel - testing.AgeRemodel.mean())/testing.AgeRemodel.std()\n",
    "testing['NormGrLivArea'] = (testing.GrLivArea - testing.GrLivArea.mean())/testing.GrLivArea.std()\n",
    "testing['NormGarageArea'] = (testing.GarageArea - testing.GarageArea.mean())/testing.GarageArea.std()\n",
    "#testing['NormSalePrice'] = (testing.SalePrice - testing.SalePrice.mean())/testing.SalePrice.std()"
   ]
  },
  {
   "cell_type": "code",
   "execution_count": 68,
   "metadata": {},
   "outputs": [],
   "source": [
    "#Training data // train_y could be SalePrice or NormSalePrice\n",
    "x_list = ['NormLot','NormAgeBuilt','NormAgeRemodel','NormGrLivArea','BsmtFullBath','BedroomAbvGr','KitchenAbvGr',\n",
    "         'GarageType','NormGarageArea','Kitchen','Fireplace','ExterQ','BsmtQ','HeatingQ','n_toilets','n_showers']\n",
    "train_x = training[x_list]\n",
    "train_y = training['SalePrice']\n",
    "test_x = testing[x_list]"
   ]
  },
  {
   "cell_type": "code",
   "execution_count": 69,
   "metadata": {},
   "outputs": [
    {
     "name": "stdout",
     "output_type": "stream",
     "text": [
      "Intercept: 21056.703093\n",
      "Coefficients: [  9125.27242419  -2867.10279689  -1253.04475823  35325.91819729\n",
      " -16928.22844855   -573.94957162 -12898.67640819  -5422.7375221\n",
      "   9673.77507128  13928.67454885   3408.27902767  26631.13672299\n",
      "   8218.95003407   1713.20398085  -1694.35568704   4764.96821738]\n",
      "R^2: 0.833345\n"
     ]
    }
   ],
   "source": [
    "#Multilinear - Simple\n",
    "from sklearn import linear_model\n",
    "ols = linear_model.LinearRegression()\n",
    "ols.fit(train_x, train_y)\n",
    "print(\"Intercept: %f\" %ols.intercept_)\n",
    "print(\"Coefficients: %s\" %str(ols.coef_))\n",
    "print(\"R^2: %f\" %(ols.score(train_x, train_y)))"
   ]
  },
  {
   "cell_type": "code",
   "execution_count": 70,
   "metadata": {},
   "outputs": [],
   "source": [
    "from sklearn.linear_model import LinearRegression, Ridge, Lasso, ElasticNet"
   ]
  },
  {
   "cell_type": "markdown",
   "metadata": {},
   "source": [
    "LASSO REGRESSION / COEFFICIENT ESTIMATES AT DIFFERENT ALPHA LEVELS"
   ]
  },
  {
   "cell_type": "code",
   "execution_count": 82,
   "metadata": {},
   "outputs": [
    {
     "data": {
      "text/html": [
       "<div>\n",
       "<style scoped>\n",
       "    .dataframe tbody tr th:only-of-type {\n",
       "        vertical-align: middle;\n",
       "    }\n",
       "\n",
       "    .dataframe tbody tr th {\n",
       "        vertical-align: top;\n",
       "    }\n",
       "\n",
       "    .dataframe thead th {\n",
       "        text-align: right;\n",
       "    }\n",
       "</style>\n",
       "<table border=\"1\" class=\"dataframe\">\n",
       "  <thead>\n",
       "    <tr style=\"text-align: right;\">\n",
       "      <th></th>\n",
       "      <th>NormLot</th>\n",
       "      <th>NormAgeBuilt</th>\n",
       "      <th>NormAgeRemodel</th>\n",
       "      <th>NormGrLivArea</th>\n",
       "      <th>BsmtFullBath</th>\n",
       "      <th>BedroomAbvGr</th>\n",
       "      <th>KitchenAbvGr</th>\n",
       "      <th>GarageType</th>\n",
       "      <th>NormGarageArea</th>\n",
       "      <th>Kitchen</th>\n",
       "      <th>Fireplace</th>\n",
       "      <th>ExterQ</th>\n",
       "      <th>BsmtQ</th>\n",
       "      <th>HeatingQ</th>\n",
       "      <th>n_toilets</th>\n",
       "      <th>n_showers</th>\n",
       "    </tr>\n",
       "  </thead>\n",
       "  <tbody>\n",
       "    <tr>\n",
       "      <th>0.100000</th>\n",
       "      <td>9125.186695</td>\n",
       "      <td>-2867.216800</td>\n",
       "      <td>-1253.166696</td>\n",
       "      <td>35325.625773</td>\n",
       "      <td>-16926.616686</td>\n",
       "      <td>-573.530780</td>\n",
       "      <td>-12895.830747</td>\n",
       "      <td>-5420.797670</td>\n",
       "      <td>9673.847938</td>\n",
       "      <td>13928.736871</td>\n",
       "      <td>3408.391330</td>\n",
       "      <td>26631.124379</td>\n",
       "      <td>8219.050374</td>\n",
       "      <td>1713.280168</td>\n",
       "      <td>-1693.555136</td>\n",
       "      <td>4763.089452</td>\n",
       "    </tr>\n",
       "    <tr>\n",
       "      <th>1.152632</th>\n",
       "      <td>9124.504595</td>\n",
       "      <td>-2868.011916</td>\n",
       "      <td>-1254.274924</td>\n",
       "      <td>35321.446335</td>\n",
       "      <td>-16909.829478</td>\n",
       "      <td>-569.372904</td>\n",
       "      <td>-12865.369467</td>\n",
       "      <td>-5399.584399</td>\n",
       "      <td>9674.646416</td>\n",
       "      <td>13929.168607</td>\n",
       "      <td>3409.571677</td>\n",
       "      <td>26631.188036</td>\n",
       "      <td>8220.248193</td>\n",
       "      <td>1714.280949</td>\n",
       "      <td>-1683.508416</td>\n",
       "      <td>4743.029618</td>\n",
       "    </tr>\n",
       "    <tr>\n",
       "      <th>2.205263</th>\n",
       "      <td>9123.811113</td>\n",
       "      <td>-2868.767572</td>\n",
       "      <td>-1255.355396</td>\n",
       "      <td>35317.192105</td>\n",
       "      <td>-16892.851901</td>\n",
       "      <td>-565.176559</td>\n",
       "      <td>-12834.747235</td>\n",
       "      <td>-5378.339934</td>\n",
       "      <td>9675.467299</td>\n",
       "      <td>13929.608603</td>\n",
       "      <td>3410.760085</td>\n",
       "      <td>26631.326359</td>\n",
       "      <td>8221.496271</td>\n",
       "      <td>1715.312537</td>\n",
       "      <td>-1673.338192</td>\n",
       "      <td>4722.776615</td>\n",
       "    </tr>\n",
       "    <tr>\n",
       "      <th>3.257895</th>\n",
       "      <td>9123.125237</td>\n",
       "      <td>-2869.513234</td>\n",
       "      <td>-1256.432244</td>\n",
       "      <td>35312.908544</td>\n",
       "      <td>-16875.892445</td>\n",
       "      <td>-560.990543</td>\n",
       "      <td>-12804.119848</td>\n",
       "      <td>-5357.072831</td>\n",
       "      <td>9676.287682</td>\n",
       "      <td>13930.041072</td>\n",
       "      <td>3411.947906</td>\n",
       "      <td>26631.465779</td>\n",
       "      <td>8222.745439</td>\n",
       "      <td>1716.348280</td>\n",
       "      <td>-1663.125719</td>\n",
       "      <td>4702.527544</td>\n",
       "    </tr>\n",
       "    <tr>\n",
       "      <th>4.310526</th>\n",
       "      <td>9122.447642</td>\n",
       "      <td>-2870.244639</td>\n",
       "      <td>-1257.503085</td>\n",
       "      <td>35308.585688</td>\n",
       "      <td>-16858.942580</td>\n",
       "      <td>-556.814343</td>\n",
       "      <td>-12773.476377</td>\n",
       "      <td>-5335.777046</td>\n",
       "      <td>9677.108865</td>\n",
       "      <td>13930.465161</td>\n",
       "      <td>3413.135533</td>\n",
       "      <td>26631.611131</td>\n",
       "      <td>8223.999019</td>\n",
       "      <td>1717.390844</td>\n",
       "      <td>-1652.855665</td>\n",
       "      <td>4682.271126</td>\n",
       "    </tr>\n",
       "    <tr>\n",
       "      <th>5.363158</th>\n",
       "      <td>9121.778377</td>\n",
       "      <td>-2870.956875</td>\n",
       "      <td>-1258.564940</td>\n",
       "      <td>35304.212773</td>\n",
       "      <td>-16841.987900</td>\n",
       "      <td>-552.645981</td>\n",
       "      <td>-12742.801774</td>\n",
       "      <td>-5314.446633</td>\n",
       "      <td>9677.932769</td>\n",
       "      <td>13930.880550</td>\n",
       "      <td>3414.323601</td>\n",
       "      <td>26631.769219</td>\n",
       "      <td>8225.261637</td>\n",
       "      <td>1718.443553</td>\n",
       "      <td>-1642.511125</td>\n",
       "      <td>4661.990723</td>\n",
       "    </tr>\n",
       "    <tr>\n",
       "      <th>6.415789</th>\n",
       "      <td>9121.062057</td>\n",
       "      <td>-2871.714491</td>\n",
       "      <td>-1259.639189</td>\n",
       "      <td>35299.985437</td>\n",
       "      <td>-16824.871762</td>\n",
       "      <td>-548.406755</td>\n",
       "      <td>-12712.108080</td>\n",
       "      <td>-5293.236605</td>\n",
       "      <td>9678.766317</td>\n",
       "      <td>13931.341595</td>\n",
       "      <td>3415.517477</td>\n",
       "      <td>26631.943585</td>\n",
       "      <td>8226.533187</td>\n",
       "      <td>1719.481752</td>\n",
       "      <td>-1632.371519</td>\n",
       "      <td>4641.629384</td>\n",
       "    </tr>\n",
       "    <tr>\n",
       "      <th>7.468421</th>\n",
       "      <td>9120.400130</td>\n",
       "      <td>-2872.402810</td>\n",
       "      <td>-1260.688838</td>\n",
       "      <td>35295.553098</td>\n",
       "      <td>-16807.891754</td>\n",
       "      <td>-544.242322</td>\n",
       "      <td>-12681.384267</td>\n",
       "      <td>-5271.867285</td>\n",
       "      <td>9679.595414</td>\n",
       "      <td>13931.748936</td>\n",
       "      <td>3416.706861</td>\n",
       "      <td>26632.122757</td>\n",
       "      <td>8227.810473</td>\n",
       "      <td>1720.548180</td>\n",
       "      <td>-1621.937252</td>\n",
       "      <td>4621.303664</td>\n",
       "    </tr>\n",
       "    <tr>\n",
       "      <th>8.521053</th>\n",
       "      <td>9119.683736</td>\n",
       "      <td>-2873.161008</td>\n",
       "      <td>-1261.763418</td>\n",
       "      <td>35291.327106</td>\n",
       "      <td>-16790.776899</td>\n",
       "      <td>-540.003201</td>\n",
       "      <td>-12650.692130</td>\n",
       "      <td>-5250.658058</td>\n",
       "      <td>9680.428773</td>\n",
       "      <td>13932.210081</td>\n",
       "      <td>3417.900678</td>\n",
       "      <td>26632.296432</td>\n",
       "      <td>8229.081549</td>\n",
       "      <td>1721.586008</td>\n",
       "      <td>-1611.799724</td>\n",
       "      <td>4600.943960</td>\n",
       "    </tr>\n",
       "    <tr>\n",
       "      <th>9.573684</th>\n",
       "      <td>9119.027019</td>\n",
       "      <td>-2873.820231</td>\n",
       "      <td>-1262.797013</td>\n",
       "      <td>35286.826163</td>\n",
       "      <td>-16773.742580</td>\n",
       "      <td>-535.836436</td>\n",
       "      <td>-12619.895844</td>\n",
       "      <td>-5229.246632</td>\n",
       "      <td>9681.266374</td>\n",
       "      <td>13932.611049</td>\n",
       "      <td>3419.092597</td>\n",
       "      <td>26632.507570</td>\n",
       "      <td>8230.380800</td>\n",
       "      <td>1722.670413</td>\n",
       "      <td>-1601.260200</td>\n",
       "      <td>4580.544392</td>\n",
       "    </tr>\n",
       "  </tbody>\n",
       "</table>\n",
       "</div>"
      ],
      "text/plain": [
       "              NormLot  NormAgeBuilt  NormAgeRemodel  NormGrLivArea  \\\n",
       "0.100000  9125.186695  -2867.216800    -1253.166696   35325.625773   \n",
       "1.152632  9124.504595  -2868.011916    -1254.274924   35321.446335   \n",
       "2.205263  9123.811113  -2868.767572    -1255.355396   35317.192105   \n",
       "3.257895  9123.125237  -2869.513234    -1256.432244   35312.908544   \n",
       "4.310526  9122.447642  -2870.244639    -1257.503085   35308.585688   \n",
       "5.363158  9121.778377  -2870.956875    -1258.564940   35304.212773   \n",
       "6.415789  9121.062057  -2871.714491    -1259.639189   35299.985437   \n",
       "7.468421  9120.400130  -2872.402810    -1260.688838   35295.553098   \n",
       "8.521053  9119.683736  -2873.161008    -1261.763418   35291.327106   \n",
       "9.573684  9119.027019  -2873.820231    -1262.797013   35286.826163   \n",
       "\n",
       "          BsmtFullBath  BedroomAbvGr  KitchenAbvGr   GarageType  \\\n",
       "0.100000 -16926.616686   -573.530780 -12895.830747 -5420.797670   \n",
       "1.152632 -16909.829478   -569.372904 -12865.369467 -5399.584399   \n",
       "2.205263 -16892.851901   -565.176559 -12834.747235 -5378.339934   \n",
       "3.257895 -16875.892445   -560.990543 -12804.119848 -5357.072831   \n",
       "4.310526 -16858.942580   -556.814343 -12773.476377 -5335.777046   \n",
       "5.363158 -16841.987900   -552.645981 -12742.801774 -5314.446633   \n",
       "6.415789 -16824.871762   -548.406755 -12712.108080 -5293.236605   \n",
       "7.468421 -16807.891754   -544.242322 -12681.384267 -5271.867285   \n",
       "8.521053 -16790.776899   -540.003201 -12650.692130 -5250.658058   \n",
       "9.573684 -16773.742580   -535.836436 -12619.895844 -5229.246632   \n",
       "\n",
       "          NormGarageArea       Kitchen    Fireplace        ExterQ  \\\n",
       "0.100000     9673.847938  13928.736871  3408.391330  26631.124379   \n",
       "1.152632     9674.646416  13929.168607  3409.571677  26631.188036   \n",
       "2.205263     9675.467299  13929.608603  3410.760085  26631.326359   \n",
       "3.257895     9676.287682  13930.041072  3411.947906  26631.465779   \n",
       "4.310526     9677.108865  13930.465161  3413.135533  26631.611131   \n",
       "5.363158     9677.932769  13930.880550  3414.323601  26631.769219   \n",
       "6.415789     9678.766317  13931.341595  3415.517477  26631.943585   \n",
       "7.468421     9679.595414  13931.748936  3416.706861  26632.122757   \n",
       "8.521053     9680.428773  13932.210081  3417.900678  26632.296432   \n",
       "9.573684     9681.266374  13932.611049  3419.092597  26632.507570   \n",
       "\n",
       "                BsmtQ     HeatingQ    n_toilets    n_showers  \n",
       "0.100000  8219.050374  1713.280168 -1693.555136  4763.089452  \n",
       "1.152632  8220.248193  1714.280949 -1683.508416  4743.029618  \n",
       "2.205263  8221.496271  1715.312537 -1673.338192  4722.776615  \n",
       "3.257895  8222.745439  1716.348280 -1663.125719  4702.527544  \n",
       "4.310526  8223.999019  1717.390844 -1652.855665  4682.271126  \n",
       "5.363158  8225.261637  1718.443553 -1642.511125  4661.990723  \n",
       "6.415789  8226.533187  1719.481752 -1632.371519  4641.629384  \n",
       "7.468421  8227.810473  1720.548180 -1621.937252  4621.303664  \n",
       "8.521053  8229.081549  1721.586008 -1611.799724  4600.943960  \n",
       "9.573684  8230.380800  1722.670413 -1601.260200  4580.544392  "
      ]
     },
     "execution_count": 82,
     "metadata": {},
     "output_type": "execute_result"
    }
   ],
   "source": [
    "lasso  = Lasso()\n",
    "alphas = np.linspace(0.1,20.1,20)\n",
    "lasso.set_params(normalize=False)\n",
    "coefs_lasso  = []\n",
    "intercepts_lasso = []\n",
    "\n",
    "for alpha in alphas:\n",
    "    lasso.set_params(alpha=alpha)\n",
    "    lasso.fit(train_x, train_y)  \n",
    "    coefs_lasso.append(lasso.coef_)\n",
    "    intercepts_lasso.append(lasso.intercept_)\n",
    "        \n",
    "coefs_lasso = pd.DataFrame(coefs_lasso, index = alphas, columns = train_x.columns)  \n",
    "coefs_lasso.head(10)"
   ]
  },
  {
   "cell_type": "code",
   "execution_count": 91,
   "metadata": {},
   "outputs": [
    {
     "data": {
      "text/plain": [
       "<matplotlib.legend.Legend at 0x1a19b60780>"
      ]
     },
     "execution_count": 91,
     "metadata": {},
     "output_type": "execute_result"
    },
    {
     "data": {
      "image/png": "[encoded data removed]",
      "text/plain": [
       "<Figure size 432x288 with 1 Axes>"
      ]
     },
     "metadata": {
      "needs_background": "light"
     },
     "output_type": "display_data"
    }
   ],
   "source": [
    "for name in coefs_lasso.columns:\n",
    "    plt.plot(coefs_lasso.index, coefs_lasso[name], label=name)\n",
    "plt.xlabel(r'hyperparameter $\\lambda$')\n",
    "plt.ylabel(r'slope values')\n",
    "plt.legend(loc=1)   "
   ]
  },
  {
   "cell_type": "code",
   "execution_count": 48,
   "metadata": {},
   "outputs": [
    {
     "name": "stdout",
     "output_type": "stream",
     "text": [
      "The coef of determination of ridge regression is: 0.8333\n"
     ]
    }
   ],
   "source": [
    "ridge = linear_model.Ridge(alpha = 1) # create a ridge regression instance\n",
    "ridge.fit(train_x, train_y) # fit data\n",
    "ridge.coef_, ridge.intercept_ # print out the coefficients\n",
    "print(\"The coef of determination of ridge regression is: %.4f\" %ridge.score(train_x, train_y))"
   ]
  },
  {
   "cell_type": "code",
   "execution_count": 74,
   "metadata": {},
   "outputs": [],
   "source": [
    "ridge_scores_train = []\n",
    "lasso_scores_train = []\n",
    "#ridge_scores_test  = []\n",
    "#lasso_scores_test  = []\n",
    "\n",
    "alphas = np.linspace(0.01, 1, 100)\n",
    "\n",
    "for alpha in alphas:\n",
    "    ridge.set_params(alpha=alpha)\n",
    "    lasso.set_params(alpha=alpha)\n",
    "    ridge.fit(train_x, train_y)\n",
    "    lasso.fit(train_x, train_y)\n",
    "    ridge_scores_train.append(ridge.score(train_x, train_y))\n",
    "    #ridge_scores_test.append(ridge.score(X_test, Y_test))\n",
    "    lasso_scores_train.append(lasso.score(train_x, train_y))\n",
    "    #lasso_scores_test.append(lasso.score(X_test, Y_test))\n",
    "    \n",
    "ridge_scores_train = np.array(ridge_scores_train) \n",
    "#ridge_scores_test  = np.array(ridge_scores_test)\n",
    "lasso_scores_train = np.array(lasso_scores_train) \n",
    "#lasso_scores_test  = np.array(lasso_scores_test)"
   ]
  },
  {
   "cell_type": "code",
   "execution_count": 75,
   "metadata": {},
   "outputs": [
    {
     "data": {
      "text/plain": [
       "Text(0,0.5,'$R^2$')"
      ]
     },
     "execution_count": 75,
     "metadata": {},
     "output_type": "execute_result"
    },
    {
     "data": {
      "image/png": "[encoded data removed]",
      "text/plain": [
       "<Figure size 432x288 with 1 Axes>"
      ]
     },
     "metadata": {
      "needs_background": "light"
     },
     "output_type": "display_data"
    }
   ],
   "source": [
    "plt.plot(alphas, ridge_scores_train, label=r'$train\\ R^2$')\n",
    "#plt.plot(alphas, ridge_scores_test, label=r'$test\\ R^2$')\n",
    "plt.legend(loc=1)\n",
    "plt.title(r'Ridge Train $R^2$')\n",
    "#ridge_underfit = ridge_scores_train < ridge_scores_test\n",
    "#last_underfit  = np.max(alphas[ridge_underfit])\n",
    "#plt.axvline(last_underfit, linestyle='--', color='g', label='optimal lambda', alpha=0.4)\n",
    "plt.legend(loc=1)\n",
    "plt.xlabel(r'hyperparameter $\\lambda$')\n",
    "plt.ylabel(r'$R^2$')"
   ]
  },
  {
   "cell_type": "code",
   "execution_count": 77,
   "metadata": {},
   "outputs": [
    {
     "data": {
      "text/plain": [
       "Text(0,0.5,'$R^2$')"
      ]
     },
     "execution_count": 77,
     "metadata": {},
     "output_type": "execute_result"
    },
    {
     "data": {
      "image/png": "[encoded data removed]",
      "text/plain": [
       "<Figure size 432x288 with 1 Axes>"
      ]
     },
     "metadata": {
      "needs_background": "light"
     },
     "output_type": "display_data"
    }
   ],
   "source": [
    "plt.plot(alphas, lasso_scores_train, label=r'$train\\ R^2$')\n",
    "#plt.plot(alphas, lasso_scores_test, label=r'$test\\ R^2$')\n",
    "plt.title(r'Lasso Train $R^2$ Comparison')\n",
    "#lasso_underfit = lasso_scores_train < lasso_scores_test\n",
    "#last_underfit  = np.max(alphas[lasso_underfit])\n",
    "#plt.axvline(last_underfit, linestyle='--', color='g', label='optimal lambda', alpha=0.4)\n",
    "plt.legend(loc=1)\n",
    "plt.xlabel(r'hyperparameter $\\lambda$')\n",
    "plt.ylabel(r'$R^2$')"
   ]
  },
  {
   "cell_type": "code",
   "execution_count": null,
   "metadata": {},
   "outputs": [],
   "source": []
  }
 ],
 "metadata": {
  "kernelspec": {
   "display_name": "Python 3",
   "language": "python",
   "name": "python3"
  },
  "language_info": {
   "codemirror_mode": {
    "name": "ipython",
    "version": 3
   },
   "file_extension": ".py",
   "mimetype": "text/x-python",
   "name": "python",
   "nbconvert_exporter": "python",
   "pygments_lexer": "ipython3",
   "version": "3.7.1"
  }
 },
 "nbformat": 4,
 "nbformat_minor": 2
}
