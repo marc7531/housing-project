{
 "cells": [
  {
   "cell_type": "code",
   "execution_count": 1,
   "metadata": {},
   "outputs": [],
   "source": [
    "# Import modules\n",
    "import pandas as pd\n",
    "import numpy as np\n",
    "from scipy import stats\n",
    "import matplotlib.pyplot as plt\n",
    "import matplotlib as mpl\n",
    "from sklearn import preprocessing\n",
    "from sklearn import linear_model\n",
    "from sklearn.metrics import mean_squared_error\n",
    "from sklearn.metrics import r2_score"
   ]
  },
  {
   "cell_type": "code",
   "execution_count": 2,
   "metadata": {},
   "outputs": [],
   "source": [
    "pd.set_option('display.max_columns', 500)"
   ]
  },
  {
   "cell_type": "code",
   "execution_count": 3,
   "metadata": {},
   "outputs": [],
   "source": [
    "# Import training data\n",
    "train = pd.read_csv('../../data/train.csv')\n",
    "test = pd.read_csv('../../data/test.csv')"
   ]
  },
  {
   "cell_type": "code",
   "execution_count": 4,
   "metadata": {},
   "outputs": [],
   "source": [
    "#Save the Id columns for use later\n",
    "trainID = train['Id']\n",
    "testID = test['Id']"
   ]
  },
  {
   "cell_type": "code",
   "execution_count": 5,
   "metadata": {},
   "outputs": [],
   "source": [
    "#Drop Id columns from original data sets\n",
    "train.drop(\"Id\", axis = 1, inplace = True)\n",
    "test.drop(\"Id\", axis = 1, inplace = True)"
   ]
  },
  {
   "cell_type": "code",
   "execution_count": 6,
   "metadata": {},
   "outputs": [],
   "source": [
    "train = train[~((train['SalePrice'] < 300000) & (train['GrLivArea'] > 4000))]\n"
   ]
  },
  {
   "cell_type": "code",
   "execution_count": 7,
   "metadata": {},
   "outputs": [],
   "source": [
    "#Transform SalePrice using log1p ; save a backup of the untransformed saleprice.\n",
    "y_train = np.log1p(train['SalePrice'])"
   ]
  },
  {
   "cell_type": "code",
   "execution_count": 8,
   "metadata": {},
   "outputs": [
    {
     "name": "stderr",
     "output_type": "stream",
     "text": [
      "/Users/marchass1/anaconda3/lib/python3.6/site-packages/ipykernel_launcher.py:1: FutureWarning: Sorting because non-concatenation axis is not aligned. A future version\n",
      "of pandas will change to not sort by default.\n",
      "\n",
      "To accept the future behavior, pass 'sort=False'.\n",
      "\n",
      "To retain the current behavior and silence the warning, pass 'sort=True'.\n",
      "\n",
      "  \"\"\"Entry point for launching an IPython kernel.\n"
     ]
    }
   ],
   "source": [
    "combo = pd.concat((train, test)).reset_index(drop=True)\n",
    "combo.drop(['SalePrice'], axis=1, inplace=True)"
   ]
  },
  {
   "cell_type": "code",
   "execution_count": 9,
   "metadata": {},
   "outputs": [
    {
     "data": {
      "text/plain": [
       "(2917, 79)"
      ]
     },
     "execution_count": 9,
     "metadata": {},
     "output_type": "execute_result"
    }
   ],
   "source": [
    "combo.shape"
   ]
  },
  {
   "cell_type": "code",
   "execution_count": 10,
   "metadata": {},
   "outputs": [
    {
     "data": {
      "text/plain": [
       "(1458, 80)"
      ]
     },
     "execution_count": 10,
     "metadata": {},
     "output_type": "execute_result"
    }
   ],
   "source": [
    "train.shape\n"
   ]
  },
  {
   "cell_type": "code",
   "execution_count": 12,
   "metadata": {},
   "outputs": [],
   "source": [
    "#Strategy for Missingness: Define a List of columns to impute None, 0, or mode.\n",
    "MissingNone = ['PoolQC','MiscFeature','Alley','Fence','FireplaceQu','GarageType','GarageFinish','GarageQual','MasVnrType',\n",
    "              'GarageCond','BsmtQual','BsmtCond','BsmtQual','BsmtCond','BsmtExposure','BsmtFinType1','BsmtFinType2','MSSubClass']\n",
    "MissingZero = ['GarageYrBlt','GarageArea','GarageCars','BsmtFinSF1','BsmtFinSF2','BsmtUnfSF','TotalBsmtSF',\n",
    "              'BsmtFullBath','BsmtHalfBath','MasVnrArea','LotFrontage']\n",
    "MissingMode = ['MSZoning','Electrical','KitchenQual','Exterior1st','Exterior2nd','SaleType']"
   ]
  },
  {
   "cell_type": "code",
   "execution_count": 13,
   "metadata": {},
   "outputs": [],
   "source": [
    "#Apply Missing Strategy for each column\n",
    "for col in MissingNone:\n",
    "    combo[col] = combo[col].fillna('None')\n",
    "    \n",
    "for col in MissingZero:\n",
    "    combo[col] = combo[col].fillna(0)\n",
    "    \n",
    "for col in MissingMode:\n",
    "    combo[col] = combo[col].fillna(combo[col].mode()[0])"
   ]
  },
  {
   "cell_type": "code",
   "execution_count": 14,
   "metadata": {},
   "outputs": [],
   "source": [
    "#Drop Utilities column - no variance\n",
    "combo = combo.drop(['Utilities'], axis=1)"
   ]
  },
  {
   "cell_type": "markdown",
   "metadata": {},
   "source": [
    "Only remaining column with significant missingness = LotFrontage.  For now, we drop."
   ]
  },
  {
   "cell_type": "code",
   "execution_count": 15,
   "metadata": {},
   "outputs": [],
   "source": [
    "#Strategy for LotFrontage = drop.  May replace with 0 if score is not great.  May also replace with mode, or median\n",
    "combo = combo.drop(['LotFrontage'], axis=1)"
   ]
  },
  {
   "cell_type": "code",
   "execution_count": 16,
   "metadata": {},
   "outputs": [],
   "source": [
    "#These appear as numerics, but are really categorical.\n",
    "\n",
    "#MSSubClass=The building class\n",
    "combo['MSSubClass'] = combo['MSSubClass'].apply(str)\n",
    "\n",
    "\n",
    "#Changing OverallCond into a categorical variable\n",
    "combo['OverallCond'] = combo['OverallCond'].astype(str)\n",
    "\n",
    "\n",
    "#Year and month sold are transformed into categorical features.\n",
    "combo['YrSold'] = combo['YrSold'].astype(str)\n",
    "combo['MoSold'] = combo['MoSold'].astype(str)\n"
   ]
  },
  {
   "cell_type": "code",
   "execution_count": 17,
   "metadata": {},
   "outputs": [],
   "source": [
    "# Convert ordinal variables into ranked numbers : added a few more features to this list\n",
    "from sklearn.preprocessing import LabelEncoder\n",
    "\n",
    "#ord_list = ['KitchenQual', 'FireplaceQu', 'GarageQual', 'GarageCond', \n",
    "# 'ExterQual', 'ExterCond', 'BsmtQual', 'BsmtCond', 'HeatingQC',\n",
    "#'PoolQC', 'GarageType', 'Street', 'LandContour', 'BsmtFinType1', 'BsmtFinType2',\n",
    "#'SaleType', 'PavedDrive', 'GarageFinish', 'Functional', 'SaleCondition', 'Street',\n",
    "#'Electrical', 'CentralAir', 'Heating', 'BsmtExposure', 'Foundation', 'MSSubClass',\n",
    "#'MasVnrType', 'LandSlope', 'RoofMatl', 'Alley','LotShape','GarageFinish','Fence']\n",
    "\n",
    "ord_list1 = ('FireplaceQu', 'BsmtQual', 'BsmtCond', 'GarageQual', 'GarageCond', \n",
    "        'ExterQual', 'ExterCond','HeatingQC', 'PoolQC', 'KitchenQual', 'BsmtFinType1', \n",
    "        'BsmtFinType2', 'Functional', 'Fence', 'BsmtExposure', 'GarageFinish', 'LandSlope',\n",
    "        'LotShape', 'PavedDrive', 'Street', 'Alley', 'CentralAir', 'MSSubClass', 'OverallCond', \n",
    "        'YrSold', 'MoSold')\n",
    "\n",
    "\n",
    "for item in ord_list1:\n",
    "    lbl = LabelEncoder() \n",
    "    lbl.fit(list(combo[item].values)) \n",
    "    combo[item] = lbl.transform(list(combo[item].values))"
   ]
  },
  {
   "cell_type": "markdown",
   "metadata": {},
   "source": [
    "Introduce a strategy to examine & address variable skew"
   ]
  },
  {
   "cell_type": "code",
   "execution_count": 18,
   "metadata": {},
   "outputs": [],
   "source": [
    "from scipy import stats\n",
    "from scipy.stats import norm, skew\n",
    "skew_list = ['MiscVal','PoolArea','LotArea','LowQualFinSF','3SsnPorch','KitchenAbvGr','BsmtFinSF2',\n",
    "            'EnclosedPorch','ScreenPorch']\n",
    "#LandSlope"
   ]
  },
  {
   "cell_type": "code",
   "execution_count": 19,
   "metadata": {},
   "outputs": [],
   "source": [
    "#Generate a list of numeric variables, i.e. where datatype != object.  Take only the index, which is combo colname.\n",
    "numeric_list = combo.dtypes[combo.dtypes != \"object\"].index"
   ]
  },
  {
   "cell_type": "code",
   "execution_count": 20,
   "metadata": {},
   "outputs": [],
   "source": [
    "#A ranked Skew-list for each of the numerics:  apply the scipy.stats function skew to each col in numeric_list\n",
    "numeric_feats = combo[numeric_list].apply(lambda x: skew(x)).sort_values(ascending=False)\n"
   ]
  },
  {
   "cell_type": "code",
   "execution_count": 21,
   "metadata": {},
   "outputs": [
    {
     "data": {
      "text/plain": [
       "MiscVal          21.939672\n",
       "PoolArea         17.688664\n",
       "LotArea          13.109495\n",
       "LowQualFinSF     12.084539\n",
       "3SsnPorch        11.372080\n",
       "LandSlope         4.973254\n",
       "KitchenAbvGr      4.300550\n",
       "BsmtFinSF2        4.144503\n",
       "EnclosedPorch     4.002344\n",
       "ScreenPorch       3.945101\n",
       "BsmtHalfBath      3.929996\n",
       "MasVnrArea        2.621719\n",
       "OpenPorchSF       2.529358\n",
       "WoodDeckSF        1.844792\n",
       "1stFlrSF          1.257286\n",
       "GrLivArea         1.068750\n",
       "BsmtExposure     -1.117321\n",
       "KitchenQual      -1.449814\n",
       "ExterQual        -1.800062\n",
       "Fence            -1.992649\n",
       "ExterCond        -2.496489\n",
       "BsmtCond         -2.861271\n",
       "PavedDrive       -2.977741\n",
       "BsmtFinType2     -3.042979\n",
       "GarageQual       -3.072788\n",
       "CentralAir       -3.457555\n",
       "GarageCond       -3.594290\n",
       "GarageYrBlt      -3.904632\n",
       "Functional       -4.047698\n",
       "Street          -15.494756\n",
       "PoolQC          -21.217600\n",
       "dtype: float64"
      ]
     },
     "execution_count": 21,
     "metadata": {},
     "output_type": "execute_result"
    }
   ],
   "source": [
    "#identify a list of features with a skew greater than 1.  (Absolute Value)\n",
    "numeric_feats[abs(numeric_feats)>1]"
   ]
  },
  {
   "cell_type": "code",
   "execution_count": 22,
   "metadata": {},
   "outputs": [],
   "source": [
    "#Box-Cox transformation of skewed columns; leverages the original make_boxed_normal function\n",
    "\n",
    "from scipy.special import boxcox1p\n",
    "\n",
    "skewed_numerics = numeric_feats[abs(numeric_feats)>0.65].index\n",
    "lambda_value = 0.15\n",
    "\n",
    "for name in skewed_numerics:\n",
    "    combo[name] = boxcox1p(combo[name],lambda_value)\n",
    "\n",
    "#can also use boxcox1p function"
   ]
  },
  {
   "cell_type": "code",
   "execution_count": 23,
   "metadata": {},
   "outputs": [
    {
     "data": {
      "text/plain": [
       "(2917, 77)"
      ]
     },
     "execution_count": 23,
     "metadata": {},
     "output_type": "execute_result"
    }
   ],
   "source": [
    "combo.shape"
   ]
  },
  {
   "cell_type": "code",
   "execution_count": 24,
   "metadata": {},
   "outputs": [],
   "source": [
    "combo = pd.get_dummies(combo)"
   ]
  },
  {
   "cell_type": "code",
   "execution_count": 25,
   "metadata": {},
   "outputs": [
    {
     "data": {
      "text/plain": [
       "(2917, 218)"
      ]
     },
     "execution_count": 25,
     "metadata": {},
     "output_type": "execute_result"
    }
   ],
   "source": [
    "combo.shape"
   ]
  },
  {
   "cell_type": "code",
   "execution_count": 26,
   "metadata": {},
   "outputs": [],
   "source": [
    "nrow_train = train.shape[0]\n",
    "nrow_test = test.shape[0]"
   ]
  },
  {
   "cell_type": "code",
   "execution_count": 27,
   "metadata": {},
   "outputs": [],
   "source": [
    "#Now splitting combo into test & train data sets.  All rows until nrow_train are training data; after is testing\n",
    "training = combo[:nrow_train] \n",
    "testing = combo[nrow_train:]"
   ]
  },
  {
   "cell_type": "code",
   "execution_count": 28,
   "metadata": {},
   "outputs": [
    {
     "data": {
      "text/plain": [
       "(1458, 218)"
      ]
     },
     "execution_count": 28,
     "metadata": {},
     "output_type": "execute_result"
    }
   ],
   "source": [
    "training.shape"
   ]
  },
  {
   "cell_type": "code",
   "execution_count": 29,
   "metadata": {},
   "outputs": [],
   "source": [
    "#Validation function \n",
    "from sklearn.model_selection import KFold, cross_val_score, train_test_split\n",
    "n_folds = 5\n",
    "\n",
    "def rmsle_cv(model):\n",
    "    kf = KFold(n_folds, shuffle=True, random_state=42).get_n_splits(training.values)\n",
    "    rmse= np.sqrt(-cross_val_score(model, training.values, y_train, scoring=\"neg_mean_squared_error\", cv = kf))\n",
    "    return(rmse)"
   ]
  },
  {
   "cell_type": "code",
   "execution_count": 30,
   "metadata": {},
   "outputs": [],
   "source": [
    "from sklearn.pipeline import make_pipeline\n",
    "from sklearn.preprocessing import RobustScaler\n",
    "from sklearn.linear_model import LassoCV, Lasso\n",
    "\n",
    "robust_scaler = RobustScaler()\n",
    "lasso = make_pipeline(RobustScaler(), Lasso(alpha =0.0005, random_state=1,normalize=True))\n"
   ]
  },
  {
   "cell_type": "code",
   "execution_count": 31,
   "metadata": {},
   "outputs": [
    {
     "name": "stdout",
     "output_type": "stream",
     "text": [
      "\n",
      "Lasso score: 0.1259 (0.0074)\n",
      "\n"
     ]
    }
   ],
   "source": [
    "score = rmsle_cv(lasso)\n",
    "print(\"\\nLasso score: {:.4f} ({:.4f})\\n\".format(score.mean(), score.std()))"
   ]
  },
  {
   "cell_type": "code",
   "execution_count": 41,
   "metadata": {},
   "outputs": [
    {
     "data": {
      "text/plain": [
       "0.934838454992297"
      ]
     },
     "execution_count": 41,
     "metadata": {},
     "output_type": "execute_result"
    }
   ],
   "source": [
    "from sklearn.linear_model import LassoCV, Lasso\n",
    "\n",
    "reg = LassoCV(cv=5)\n",
    "reg.set_params(normalize=True)\n",
    "reg.fit(training,y_train)\n",
    "reg.score(training, y_train) \n",
    "a = reg.score(training,y_train)\n",
    "a"
   ]
  },
  {
   "cell_type": "code",
   "execution_count": 34,
   "metadata": {},
   "outputs": [
    {
     "name": "stdout",
     "output_type": "stream",
     "text": [
      "\n",
      "Lasso score: 0.1119 (0.0076)\n",
      "\n"
     ]
    }
   ],
   "source": [
    "score1 = rmsle_cv(reg)\n",
    "print(\"\\nLassoCV score: {:.4f} ({:.4f})\\n\".format(score1.mean(), score1.std()))"
   ]
  },
  {
   "cell_type": "code",
   "execution_count": 53,
   "metadata": {},
   "outputs": [
    {
     "name": "stdout",
     "output_type": "stream",
     "text": [
      "ElasticNet score: 0.1112 (0.0074)\n",
      "\n",
      "ElasticNet measured score: 0.9358956395490678\n"
     ]
    }
   ],
   "source": [
    "from sklearn.linear_model import Ridge,ElasticNet\n",
    "\n",
    "ENet = make_pipeline(RobustScaler(), ElasticNet(alpha=0.0005, l1_ratio=.9, random_state=3))\n",
    "#ENet.set_params(normalize=True)\n",
    "ENet.fit(training,y_train)\n",
    "b = ENet.score(training,y_train)\n",
    "score2 = rmsle_cv(ENet)\n",
    "print(\"ElasticNet score: {:.4f} ({:.4f})\\n\".format(score2.mean(), score2.std()))\n",
    "print(\"ElasticNet measured score:\",b)"
   ]
  },
  {
   "cell_type": "code",
   "execution_count": 49,
   "metadata": {},
   "outputs": [],
   "source": [
    "#Create a test submission  (exp can be used, or expm1 which is mroe precise)\n",
    "prediction6 = np.expm1(reg.predict(testing))\n",
    "submission6 = pd.DataFrame()\n",
    "submission6['Id'] = testID\n",
    "submission6['SalePrice'] = prediction6\n",
    "submission6.to_csv('../../data/submission6.csv',index=False)\n"
   ]
  },
  {
   "cell_type": "code",
   "execution_count": 55,
   "metadata": {},
   "outputs": [],
   "source": [
    "#Create a test submission  (exp can be used, or expm1 which is mroe precise)\n",
    "prediction7 = np.expm1(ENet.predict(testing))\n",
    "submission7 = pd.DataFrame()\n",
    "submission7['Id'] = testID\n",
    "submission7['SalePrice'] = prediction7\n",
    "submission7.to_csv('../../data/submission7.csv',index=False)"
   ]
  },
  {
   "cell_type": "code",
   "execution_count": 73,
   "metadata": {},
   "outputs": [
    {
     "name": "stdout",
     "output_type": "stream",
     "text": [
      "0.9408913321612878\n"
     ]
    }
   ],
   "source": [
    "# Recursive Feature Elimination\n",
    "\n",
    "from sklearn.svm import LinearSVC\n",
    "from sklearn.feature_selection import RFE\n",
    "\n",
    "model = LinearRegression()\n",
    "# create the RFE model for the svm classifier \n",
    "# and select attributes\n",
    "rfe = RFE(model, 200)\n",
    "rfe = rfe.fit(training, y_train)\n",
    "# print summaries for the selection of attributes\n",
    "#print(rfe.support_)\n",
    "print(rfe.score(training,y_train))"
   ]
  },
  {
   "cell_type": "code",
   "execution_count": 74,
   "metadata": {},
   "outputs": [],
   "source": [
    "#Create a test submission for RFE (exp can be used, or expm1 which is mroe precise)\n",
    "prediction8 = np.expm1(rfe.predict(testing))\n",
    "submission8 = pd.DataFrame()\n",
    "submission8['Id'] = testID\n",
    "submission8['SalePrice'] = prediction8\n",
    "submission8.to_csv('../../data/submission8.csv',index=False)"
   ]
  },
  {
   "cell_type": "code",
   "execution_count": 77,
   "metadata": {},
   "outputs": [
    {
     "name": "stdout",
     "output_type": "stream",
     "text": [
      "Gradient Boosting score: 0.1166 (0.0088)\n",
      "\n"
     ]
    }
   ],
   "source": [
    "#Gradient Boost Model\n",
    "from sklearn.ensemble import RandomForestRegressor,  GradientBoostingRegressor\n",
    "\n",
    "GBoost = GradientBoostingRegressor(n_estimators=3000, learning_rate=0.05,\n",
    "                                   max_depth=4, max_features='sqrt',\n",
    "                                   min_samples_leaf=15, min_samples_split=10, \n",
    "                                   loss='huber', random_state =5)\n",
    "\n",
    "score = rmsle_cv(GBoost)\n",
    "print(\"Gradient Boosting score: {:.4f} ({:.4f})\\n\".format(score.mean(), score.std()))"
   ]
  },
  {
   "cell_type": "code",
   "execution_count": 80,
   "metadata": {},
   "outputs": [],
   "source": [
    "GBoost = GBoost.fit(training,y_train)\n",
    "prediction9 = np.expm1(GBoost.predict(testing))\n",
    "submission9 = pd.DataFrame()\n",
    "submission9['Id'] = testID\n",
    "submission9['SalePrice'] = prediction9\n",
    "submission9.to_csv('../../data/submission9.csv',index=False)"
   ]
  },
  {
   "cell_type": "code",
   "execution_count": 173,
   "metadata": {},
   "outputs": [],
   "source": [
    "#Copy the combo dataframe, apply new name, and apply further feature engineering to it.\n",
    "simple_combo = combo"
   ]
  },
  {
   "cell_type": "code",
   "execution_count": 117,
   "metadata": {},
   "outputs": [],
   "source": [
    "#Filter out some outliers\n"
   ]
  },
  {
   "cell_type": "code",
   "execution_count": null,
   "metadata": {},
   "outputs": [],
   "source": []
  },
  {
   "cell_type": "code",
   "execution_count": null,
   "metadata": {},
   "outputs": [],
   "source": [
    "from sklearn.linear_model import Lasso\n",
    "\n",
    "# create a ridge regression instance\n",
    "lasso = Lasso()\n",
    "\n",
    "lasso_scores_train = []\n",
    "lasso_scores_test = []\n",
    "coefs_lasso  = []\n",
    "intercepts_lasso = []\n",
    "\n",
    "alphas = np.linspace(0.1, 150, 5)\n",
    "\n",
    "for alpha in alphas:\n",
    "    lasso.set_params(alpha=alpha,normalize=True)\n",
    "    lasso.fit(train_x, train_y)\n",
    "    lasso_scores_train.append(lasso.score(train_x, train_y))\n",
    "    lasso_scores_test.append(lasso.score(test_x, test_y))\n",
    "    coefs_lasso.append(lasso.coef_)\n",
    "    intercepts_lasso.append(lasso.intercept_)\n",
    "\n",
    "    \n",
    "lasso_scores_train = np.array(lasso_scores_train)\n",
    "lasso_scores_test = np.array(lasso_scores_test)\n",
    "\n",
    "plt.plot(alphas, lasso_scores_train, label=r'$train\\ R^2$')\n",
    "plt.plot(alphas, lasso_scores_test, label=r'$test\\ R^2$')\n",
    "plt.legend(loc=1)\n",
    "plt.title(r'Lasso Train-Test $R^2$ Comparison')\n",
    "\n",
    "plt.xlabel(r'hyperparameter $\\lambda$')\n",
    "plt.ylabel(r'$R^2$')"
   ]
  },
  {
   "cell_type": "code",
   "execution_count": 4,
   "metadata": {},
   "outputs": [],
   "source": [
    "def make_num_flex(val, rating_system):\n",
    "    if val in rating_system:\n",
    "        return int(len(rating_system) - 1 - rating_system.index(val))\n",
    "    return 0\n",
    "\n",
    "def make_boxed_normal(df):\n",
    "    new_dict = {}\n",
    "    logs = []\n",
    "    devs = []\n",
    "    means = []\n",
    "    cols = df.columns\n",
    "    for name in cols: \n",
    "        key = 'norm_' + name\n",
    "        arr = np.array(df[name]) + 1\n",
    "        arr, log_num = stats.boxcox(arr)\n",
    "        upper = arr.max()\n",
    "        lower = arr.min()\n",
    "        \n",
    "        value = (arr-np.mean(arr))/(np.std(arr))\n",
    "        print (arr)\n",
    "        new_dict[key] = value\n",
    "        logs.append(log_num)\n",
    "        devs.append(np.std(arr))\n",
    "        means.append(np.mean(arr))\n",
    "        \n",
    "    return pd.DataFrame(new_dict), logs, devs, means"
   ]
  },
  {
   "cell_type": "code",
   "execution_count": 5,
   "metadata": {},
   "outputs": [],
   "source": [
    "# Filter out commercial properties\n",
    "MSZoningMask = (train.MSZoning=='A') | (train.MSZoning=='C') | (train.MSZoning=='I') | (train.MSZoning=='C (all)')\n",
    "train = train[~MSZoningMask]\n",
    "\n",
    "# Drop NAs\n",
    "train = train.fillna(value=0)\n",
    "\n",
    "\n",
    "    \n",
    "# Create flag for irregular lot shape\n",
    "train['LotShape'] = [1 if x == 'Reg' else 0 for x in train['LotShape']]\n",
    "\n",
    "# # Dummify Remaining columns\n",
    "\n",
    "drop_list = ['MSSubClass', 'MSZoning', #'BsmtFinType1', 'BsmtFinType2',\n",
    "            'BldgType','HouseStyle', 'Condition1', 'Condition2',\n",
    "            'Neighborhood', 'LotConfig', 'RoofStyle', 'MoSold', 'YrSold',\n",
    "            'Exterior1st', 'Exterior2nd','MiscFeature','Fence']\n",
    "\n",
    "for item in drop_list:\n",
    "    dummies = pd.get_dummies(train[item]).rename(columns=lambda x: item + str(x))\n",
    "    train = pd.concat([train, dummies], axis=1)    \n",
    "\n",
    "train = train.drop(drop_list, axis=1)\n",
    "\n",
    "# Convert years to ages\n",
    "train['YearBuilt'] = 2019 - train['YearBuilt']\n",
    "train['YearRemodAdd'] = 2019 - train['YearRemodAdd']\n",
    "train['GarageYrBlt'] = 2019 - train['GarageYrBlt']"
   ]
  },
  {
   "cell_type": "markdown",
   "metadata": {},
   "source": [
    "**Additional Modification *****************************************************************\n",
    "\n",
    "Section 1) Separate toilets (half baths) and showers\n",
    "Section 2) Basements: Total number of livable (spaces) in the basement (1,2)\n",
    "            + Basements: Division of actual square footage into good/low quality space\n",
    "            + Creation of GrLivArea\n",
    "Section 3) Combine Porch Square Footage & create Rec Space\n",
    "Section 4) Drop additional columns"
   ]
  },
  {
   "cell_type": "code",
   "execution_count": 6,
   "metadata": {},
   "outputs": [],
   "source": [
    "# Section 1: create list for subset of data the includes the word bath \n",
    "all_bathrooms = [x for x in train.columns if \"Bath\" in  x]\n",
    "\n",
    "# create list for subset of data that tell us the number of showers\n",
    "with_shower = [x for x in all_bathrooms if 'Full' in x]\n",
    "\n",
    "train['n_toilets'] = np.sum(train[all_bathrooms], axis=1)\n",
    "train['n_showers'] = np.sum(train[with_shower], axis =1)"
   ]
  },
  {
   "cell_type": "code",
   "execution_count": 7,
   "metadata": {},
   "outputs": [],
   "source": [
    "# Section 2: Basement \n",
    "\n",
    "#Livible ratings -- Binomial Flag (1,2) depending on whether the basement space is livable or not\n",
    "rates = ['GLQ', 'ALQ', 'BLQ']\n",
    "# counts livible basements in fintype1\n",
    "train['Basement1'] = [1 if x in rates else 0 for x in train['BsmtFinType1']]\n",
    "# counts livible basements in fintype2\n",
    "train['Basement2'] = [1 if x in rates  else 0 for x in train['BsmtFinType2']]\n",
    "# combines the livible area\n",
    "train['Basement'] = train['Basement1'].values + train['Basement2'].values\n",
    "# counts livible basement as present when there's two types\n",
    "train['Basement'] = train['Basement'].replace(2,1) \n",
    "\n",
    "train['lowqualbsmt1'] = train['BsmtFinSF1'] * train['Basement1']\n",
    "train['lowqualbsmt2'] = train['BsmtFinSF2'] * train['Basement2']\n",
    "train['goodbsmt1'] = train['BsmtFinSF1'] * train['Basement1']\n",
    "train['goodbsmt2'] = train['BsmtFinSF2'] * train['Basement2']\n",
    "\n",
    "train['GrLivArea'] = train['GrLivArea'] + train['goodbsmt1'] + train['goodbsmt2']"
   ]
  },
  {
   "cell_type": "code",
   "execution_count": 8,
   "metadata": {},
   "outputs": [],
   "source": [
    "# Section 3: combine porch/deck areas & create RecSpace\n",
    "train['PorchFT'] = train['WoodDeckSF'] + train['OpenPorchSF'] + train['EnclosedPorch'] + train['3SsnPorch'] + train['ScreenPorch']\n",
    "\n",
    "# Flag the exsistance of a porch\n",
    "train['PorchYN'] = [0 if x==0 else 1 for x in train['PorchFT']]\n",
    "\n",
    "# Create the Rec space variable as the sum of deck area and rough basement\n",
    "train['RecSpaceFt'] = train['PorchFT'] + train['lowqualbsmt1'] + train['lowqualbsmt2']"
   ]
  },
  {
   "cell_type": "code",
   "execution_count": 9,
   "metadata": {},
   "outputs": [],
   "source": [
    "# Section 4: drops extra columns. Overwrites existing table \n",
    "train = train.drop(['Basement1', 'Basement2', 'BsmtFinType1', 'lowqualbsmt1','lowqualbsmt2','goodbsmt1', 'goodbsmt2', 'BsmtFinSF1', 'BsmtFinType2', 'BsmtFinSF2', 'LowQualFinSF', 'PorchFT', 'PorchYN', 'WoodDeckSF', 'OpenPorchSF', 'EnclosedPorch', '3SsnPorch', 'ScreenPorch'], axis = 1)"
   ]
  },
  {
   "cell_type": "code",
   "execution_count": 10,
   "metadata": {},
   "outputs": [
    {
     "data": {
      "text/plain": [
       "(1450, 202)"
      ]
     },
     "execution_count": 10,
     "metadata": {},
     "output_type": "execute_result"
    }
   ],
   "source": [
    "train.shape"
   ]
  },
  {
   "cell_type": "markdown",
   "metadata": {},
   "source": [
    "*** FILTER OUT ROWS WITH OUTLIERS -- NOT TO BE DONE WITH TEST DATA ***"
   ]
  },
  {
   "cell_type": "code",
   "execution_count": 11,
   "metadata": {},
   "outputs": [],
   "source": [
    "train = train[~(train['LotArea'] > 50000)]\n",
    "train = train[~(train['GrLivArea'] > 6000)]"
   ]
  },
  {
   "cell_type": "code",
   "execution_count": 12,
   "metadata": {},
   "outputs": [
    {
     "data": {
      "text/plain": [
       "(1437, 202)"
      ]
     },
     "execution_count": 12,
     "metadata": {},
     "output_type": "execute_result"
    }
   ],
   "source": [
    "train.shape"
   ]
  },
  {
   "cell_type": "code",
   "execution_count": 13,
   "metadata": {},
   "outputs": [],
   "source": [
    "# Separate price and drop\n",
    "train_price = train['SalePrice']\n",
    "train = train.drop('SalePrice', axis=1)"
   ]
  },
  {
   "cell_type": "markdown",
   "metadata": {},
   "source": [
    "**SEPARATE TRAIN INTO CONTINUOUS & ALL OTHER FOR PURPOSES OF TRANSFORMATION"
   ]
  },
  {
   "cell_type": "code",
   "execution_count": 14,
   "metadata": {},
   "outputs": [],
   "source": [
    "continuous_varlist = ['YearBuilt','YearRemodAdd','LotArea','LotFrontage','GrLivArea','GarageArea']\n",
    "train_cont = train[continuous_varlist]\n",
    "train_other = train[train.columns.difference(continuous_varlist)]"
   ]
  },
  {
   "cell_type": "code",
   "execution_count": 15,
   "metadata": {},
   "outputs": [
    {
     "name": "stdout",
     "output_type": "stream",
     "text": [
      "[3.93259214 5.90583755 4.14263436 ... 7.34224395 7.03003521 6.43179868]\n",
      "[2.47020679 3.15557143 2.51325026 ... 2.32216222 2.72622739 3.30724749]\n",
      "[88.88466171 93.63673908 99.88961533 ... 91.37651357 94.10054238\n",
      " 94.96362037]\n",
      "[31.09793206 36.60768328 32.22144616 ... 31.47373455 32.22144616\n",
      " 34.7998865 ]\n",
      "[11.4662317  11.31006004 11.33926314 ... 11.63085028  9.94149209\n",
      " 11.16400515]\n",
      "[214.72436143 185.87808688 233.91277455 ... 113.11916884 108.64874634\n",
      " 121.94845642]\n"
     ]
    }
   ],
   "source": [
    "train_norm, logs,devs,means = make_boxed_normal(train_cont)"
   ]
  },
  {
   "cell_type": "code",
   "execution_count": 16,
   "metadata": {},
   "outputs": [],
   "source": [
    "train_norm.reset_index(drop=True, inplace=True)\n",
    "train_other.reset_index(drop=True, inplace=True)\n",
    "train = pd.concat([train_norm,train_other],axis=1)"
   ]
  },
  {
   "cell_type": "code",
   "execution_count": 17,
   "metadata": {},
   "outputs": [],
   "source": [
    "notintest = ['HouseStyle2.5Fin','Condition2RRAe','Condition2RRAn','Condition2RRNn','Exterior1stImStucc','Exterior1stStone','Exterior2ndOther','MiscFeatureTenC']\n",
    "notintrain = ['MSSubClass150','MSZoning0','MSZoningC (all)','Exterior1st0','Exterior2nd0']"
   ]
  },
  {
   "cell_type": "code",
   "execution_count": 18,
   "metadata": {},
   "outputs": [],
   "source": [
    "# Recursive Feature Elimination\n",
    "\n",
    "from sklearn.feature_selection import RFE\n",
    "from sklearn.linear_model import LinearRegression\n",
    "\n",
    "train_to_fit = train.drop(notintest,axis=1)\n",
    "\n",
    "train_x = train_to_fit[0:1200]\n",
    "train_y = np.log(train_price[0:1200])\n",
    "\n",
    "# create a base classifier used to evaluate a subset of attributes\n",
    "model = LinearRegression()\n",
    "# create the RFE model and select 25 attributes\n",
    "rfe = RFE(model, 25)\n",
    "rfe = rfe.fit(train_x, train_y)\n",
    "# summarize the selection of the attributes\n",
    "#print(rfe.support_)\n",
    "#print(rfe.ranking_)\n",
    "\n",
    "df = train_to_fit[train_to_fit.columns[rfe.support_]]\n"
   ]
  },
  {
   "cell_type": "code",
   "execution_count": 19,
   "metadata": {},
   "outputs": [
    {
     "data": {
      "text/plain": [
       "LinearRegression(copy_X=True, fit_intercept=True, n_jobs=1, normalize=False)"
      ]
     },
     "execution_count": 19,
     "metadata": {},
     "output_type": "execute_result"
    }
   ],
   "source": [
    "rfe.estimator_"
   ]
  },
  {
   "cell_type": "code",
   "execution_count": 20,
   "metadata": {},
   "outputs": [
    {
     "name": "stderr",
     "output_type": "stream",
     "text": [
      "/Users/marchasson/anaconda3/lib/python3.7/site-packages/sklearn/linear_model/coordinate_descent.py:491: ConvergenceWarning: Objective did not converge. You might want to increase the number of iterations. Fitting data with very small alpha may cause precision problems.\n",
      "  ConvergenceWarning)\n"
     ]
    },
    {
     "data": {
      "text/plain": [
       "Text(0,0.5,'$R^2$')"
      ]
     },
     "execution_count": 20,
     "metadata": {},
     "output_type": "execute_result"
    },
    {
     "data": {
      "image/png": "[encoded data removed]",
      "text/plain": [
       "<Figure size 432x288 with 1 Axes>"
      ]
     },
     "metadata": {
      "needs_background": "light"
     },
     "output_type": "display_data"
    }
   ],
   "source": [
    "# Woo doggies\n"
   ]
  },
  {
   "cell_type": "code",
   "execution_count": 21,
   "metadata": {},
   "outputs": [
    {
     "data": {
      "image/png": "[encoded data removed]",
      "text/plain": [
       "<Figure size 432x288 with 1 Axes>"
      ]
     },
     "metadata": {
      "needs_background": "light"
     },
     "output_type": "display_data"
    }
   ],
   "source": [
    "coefs_lasso = pd.DataFrame(coefs_lasso, index = alphas, columns = train_x.columns)  \n",
    "\n",
    "for name in coefs_lasso.columns:\n",
    "    plt.plot(coefs_lasso.index, coefs_lasso[name], label=name)\n",
    "plt.xlabel(r'hyperparameter $\\lambda$')\n",
    "plt.ylabel(r'slope values')\n",
    "plt.show()\n"
   ]
  },
  {
   "cell_type": "code",
   "execution_count": 22,
   "metadata": {},
   "outputs": [
    {
     "data": {
      "image/png": "[encoded data removed]",
      "text/plain": [
       "<Figure size 432x288 with 1 Axes>"
      ]
     },
     "metadata": {
      "needs_background": "light"
     },
     "output_type": "display_data"
    }
   ],
   "source": [
    "coefs_lasso = pd.DataFrame(coefs_lasso, index = alphas, columns = train_x.columns)  \n",
    "\n",
    "for name in coefs_lasso.columns:\n",
    "    plt.plot(coefs_lasso.index, coefs_lasso[name], label=name)\n",
    "plt.xlabel(r'hyperparameter $\\lambda$')\n",
    "plt.ylabel(r'slope values')\n",
    "\n",
    "plt.xlim(0, 150)\n",
    "plt.ylim(-20000, 50000)\n",
    "\n",
    "plt.show()\n"
   ]
  },
  {
   "cell_type": "code",
   "execution_count": 23,
   "metadata": {},
   "outputs": [
    {
     "data": {
      "text/plain": [
       "180423.08002783576"
      ]
     },
     "execution_count": 23,
     "metadata": {},
     "output_type": "execute_result"
    }
   ],
   "source": [
    "train_price.mean()"
   ]
  },
  {
   "cell_type": "code",
   "execution_count": 24,
   "metadata": {},
   "outputs": [],
   "source": [
    "test = pd.read_csv('../../data/test.csv', index_col=0)\n",
    "\n",
    "# Filter out commercial properties\n",
    "MSZoningMask = (test.MSZoning=='A') | (test.MSZoning=='C') | (test.MSZoning=='I') | (test.MSZoning=='C (all)')\n",
    "#test = test[~MSZoningMask]\n",
    "\n",
    "# Drop NAs\n",
    "test = test.fillna(value=0)\n",
    "\n",
    "# Convert ordinals into numbers \n",
    "ord_list = ['KitchenQual', 'FireplaceQu', 'GarageQual', 'GarageCond', \n",
    " 'ExterQual', 'ExterCond', 'BsmtQual', 'BsmtCond', 'HeatingQC',\n",
    "'PoolQC', 'GarageType', 'Street', 'LandContour', 'Utilities', \n",
    "'SaleType', 'PavedDrive', 'GarageFinish', 'Functional', 'SaleCondition',\n",
    "'Electrical', 'CentralAir', 'Heating', 'BsmtExposure', 'Foundation',\n",
    "'MasVnrType', 'LandSlope', 'RoofMatl', 'Alley']\n",
    "\n",
    "for item in ord_list:\n",
    "\n",
    "    test[item] = test[item].astype('category')\n",
    "    cat_columns = test.select_dtypes(['category']).columns\n",
    "    test[cat_columns] = test[cat_columns].apply(lambda x: x.cat.codes)\n",
    "    \n",
    "# Create flag for irregular lot shape\n",
    "test['LotShape'] = [1 if x == 'Reg' else 0 for x in test['LotShape']]\n",
    "\n",
    "# # Dummify Remaining columns\n",
    "\n",
    "drop_list = ['MSSubClass', 'MSZoning', #'BsmtFinType1', 'BsmtFinType2',\n",
    "            'BldgType','HouseStyle', 'Condition1', 'Condition2',\n",
    "            'Neighborhood', 'LotConfig', 'RoofStyle', 'MoSold', 'YrSold',\n",
    "            'Exterior1st', 'Exterior2nd','MiscFeature','Fence']\n",
    "\n",
    "for item in drop_list:\n",
    "    dummies = pd.get_dummies(test[item]).rename(columns=lambda x: item + str(x))\n",
    "    test = pd.concat([test, dummies], axis=1)    \n",
    "\n",
    "test = test.drop(drop_list, axis=1)\n",
    "\n",
    "# Convert years to ages\n",
    "test['YearBuilt'] = 2019 - test['YearBuilt']\n",
    "test['YearRemodAdd'] = 2019 - test['YearRemodAdd']\n",
    "test['GarageYrBlt'] = 2019 - test['GarageYrBlt']\n",
    "\n",
    "# Section 1: create list for subset of data the includes the word bath \n",
    "all_bathrooms = [x for x in test.columns if \"Bath\" in  x]\n",
    "\n",
    "# create list for subset of data that tell us the number of showers\n",
    "with_shower = [x for x in all_bathrooms if 'Full' in x]\n",
    "\n",
    "test['n_toilets'] = np.sum(test[all_bathrooms], axis=1)\n",
    "test['n_showers'] = np.sum(test[with_shower], axis =1)\n",
    "\n",
    "# Section 2: Basement \n",
    "\n",
    "#Livible ratings -- Binomial Flag (1,2) depending on whether the basement space is livable or not\n",
    "rates = ['GLQ', 'ALQ', 'BLQ']\n",
    "# counts livible basements in fintype1\n",
    "test['Basement1'] = [1 if x in rates else 0 for x in test['BsmtFinType1']]\n",
    "# counts livible basements in fintype2\n",
    "test['Basement2'] = [1 if x in rates  else 0 for x in test['BsmtFinType2']]\n",
    "# combines the livible area\n",
    "test['Basement'] = test['Basement1'].values + test['Basement2'].values\n",
    "# counts livible basement as present when there's two types\n",
    "test['Basement'] = test['Basement'].replace(2,1) \n",
    "\n",
    "test['lowqualbsmt1'] = test['BsmtFinSF1'] * test['Basement1']\n",
    "test['lowqualbsmt2'] = test['BsmtFinSF2'] * test['Basement2']\n",
    "test['goodbsmt1'] = test['BsmtFinSF1'] * test['Basement1']\n",
    "test['goodbsmt2'] = test['BsmtFinSF2'] * test['Basement2']\n",
    "\n",
    "test['GrLivArea'] = test['GrLivArea'] + test['goodbsmt1'] + test['goodbsmt2']\n",
    "\n",
    "# Section 3: combine porch/deck areas & create RecSpace\n",
    "test['PorchFT'] = test['WoodDeckSF'] + test['OpenPorchSF'] + test['EnclosedPorch'] + test['3SsnPorch'] + test['ScreenPorch']\n",
    "\n",
    "# Flag the exsistance of a porch\n",
    "test['PorchYN'] = [0 if x==0 else 1 for x in test['PorchFT']]\n",
    "\n",
    "# Create the Rec space variable as the sum of deck area and rough basement\n",
    "test['RecSpaceFt'] = test['PorchFT'] + test['lowqualbsmt1'] + test['lowqualbsmt2']\n",
    "\n",
    "# Section 4: drops extra columns. Overwrites existing table \n",
    "test = test.drop(['Basement1', 'Basement2', 'BsmtFinType1', 'lowqualbsmt1','lowqualbsmt2','goodbsmt1', 'goodbsmt2', 'BsmtFinSF1', 'BsmtFinType2', 'BsmtFinSF2', 'LowQualFinSF', 'PorchFT', 'PorchYN', 'WoodDeckSF', 'OpenPorchSF', 'EnclosedPorch', '3SsnPorch', 'ScreenPorch'], axis = 1)\n",
    "\n"
   ]
  },
  {
   "cell_type": "code",
   "execution_count": 25,
   "metadata": {},
   "outputs": [
    {
     "data": {
      "text/plain": [
       "(1459, 198)"
      ]
     },
     "execution_count": 25,
     "metadata": {},
     "output_type": "execute_result"
    }
   ],
   "source": [
    "test.shape"
   ]
  },
  {
   "cell_type": "code",
   "execution_count": 26,
   "metadata": {},
   "outputs": [
    {
     "name": "stdout",
     "output_type": "stream",
     "text": [
      "[6.50854617 6.62782704 4.46748147 ... 6.54882568 4.8603879  4.78649643]\n",
      "[4.10871313 4.15907507 3.10893598 ... 3.19697098 3.3530053  3.27798057]\n",
      "[67.41270166 72.47417005 71.68345958 ... 81.61836546 64.90420593\n",
      " 63.06384109]\n",
      "[44.085921   44.54602385 41.30370579 ... 78.55039202 35.61641614\n",
      " 41.30370579]\n",
      "[6.71390445 7.61036049 7.6802358  ... 7.69140656 7.08143708 7.49507316]\n",
      "[230.31245433 117.23187267 165.66419063 ... 190.83953063   0.\n",
      " 210.05181127]\n"
     ]
    }
   ],
   "source": [
    "#Box-Cox\n",
    "continuous_varlist = ['YearBuilt','YearRemodAdd','LotArea','LotFrontage','GrLivArea','GarageArea']\n",
    "test_cont = test[continuous_varlist]\n",
    "test_other = test[test.columns.difference(continuous_varlist)]\n",
    "\n",
    "test_norm, logs,devs,means = make_boxed_normal(test_cont)\n",
    "\n",
    "test_norm.reset_index(drop=True, inplace=True)\n",
    "test_other.reset_index(drop=True, inplace=True)\n",
    "test = pd.concat([test_norm,test_other],axis=1)"
   ]
  },
  {
   "cell_type": "code",
   "execution_count": 27,
   "metadata": {},
   "outputs": [],
   "source": [
    "notintest = ['HouseStyle2.5Fin','Condition2RRAe','Condition2RRAn','Condition2RRNn','Exterior1stImStucc','Exterior1stStone','Exterior2ndOther','MiscFeatureTenC']\n",
    "notintrain = ['MSSubClass150','MSZoning0','MSZoningC (all)','Exterior1st0','Exterior2nd0']\n",
    "test_to_fit = test.drop(notintrain,axis=1)"
   ]
  },
  {
   "cell_type": "code",
   "execution_count": 28,
   "metadata": {},
   "outputs": [],
   "source": [
    "testwithRFE = test_to_fit[test_to_fit.columns[rfe.support_]]"
   ]
  },
  {
   "cell_type": "code",
   "execution_count": 29,
   "metadata": {},
   "outputs": [
    {
     "data": {
      "text/plain": [
       "(1459, 193)"
      ]
     },
     "execution_count": 29,
     "metadata": {},
     "output_type": "execute_result"
    }
   ],
   "source": [
    "test_to_fit.shape"
   ]
  },
  {
   "cell_type": "markdown",
   "metadata": {},
   "source": [
    "Inspection of Train & Test Data Sets reveals there are some column mismatches.\n",
    "Below, these are identified and removed, respectively\n",
    "The feature list, 'notintest' needs to be removed from training data; the features 'notintrain' from test data"
   ]
  },
  {
   "cell_type": "code",
   "execution_count": 30,
   "metadata": {},
   "outputs": [
    {
     "name": "stdout",
     "output_type": "stream",
     "text": [
      "Condition2RRAe\n",
      "Condition2RRAn\n",
      "Condition2RRNn\n",
      "Exterior1stImStucc\n",
      "Exterior1stStone\n",
      "Exterior2ndOther\n",
      "HouseStyle2.5Fin\n",
      "MiscFeatureTenC\n"
     ]
    }
   ],
   "source": [
    "a = test.columns\n",
    "b = train.columns\n",
    "c = train_to_fit.columns\n",
    "#d = test_to_fit.columns\n",
    "\n",
    "for x in b:\n",
    "    if not x in a:\n",
    "        print(x)"
   ]
  },
  {
   "cell_type": "code",
   "execution_count": 31,
   "metadata": {},
   "outputs": [
    {
     "name": "stdout",
     "output_type": "stream",
     "text": [
      "Exterior1st0\n",
      "Exterior2nd0\n",
      "MSSubClass150\n",
      "MSZoning0\n",
      "MSZoningC (all)\n"
     ]
    }
   ],
   "source": [
    "for x in a:\n",
    "    if not x in b:\n",
    "        print(x)"
   ]
  },
  {
   "cell_type": "code",
   "execution_count": 32,
   "metadata": {},
   "outputs": [
    {
     "name": "stdout",
     "output_type": "stream",
     "text": [
      "Exterior1st0\n",
      "Exterior2nd0\n",
      "MSSubClass150\n",
      "MSZoning0\n",
      "MSZoningC (all)\n"
     ]
    }
   ],
   "source": [
    "for x in a:\n",
    "    if not x in c:\n",
    "        print(x)"
   ]
  },
  {
   "cell_type": "code",
   "execution_count": 33,
   "metadata": {},
   "outputs": [
    {
     "data": {
      "text/plain": [
       "(1437, 193)"
      ]
     },
     "execution_count": 33,
     "metadata": {},
     "output_type": "execute_result"
    }
   ],
   "source": [
    "train_to_fit.shape"
   ]
  },
  {
   "cell_type": "code",
   "execution_count": 34,
   "metadata": {},
   "outputs": [
    {
     "data": {
      "text/plain": [
       "(1459, 193)"
      ]
     },
     "execution_count": 34,
     "metadata": {},
     "output_type": "execute_result"
    }
   ],
   "source": [
    "test_to_fit.shape"
   ]
  },
  {
   "cell_type": "code",
   "execution_count": 35,
   "metadata": {},
   "outputs": [],
   "source": [
    "sales = rfe.predict(test_to_fit)"
   ]
  },
  {
   "cell_type": "code",
   "execution_count": 36,
   "metadata": {},
   "outputs": [],
   "source": [
    "test_to_fit['SalePrice'] = np.exp(sales)\n",
    "snowdaypredict = test_to_fit.filter(['Id','SalePrice'])\n",
    "snowdaypredict.to_csv('../../data/submission4.csv')"
   ]
  },
  {
   "cell_type": "code",
   "execution_count": 37,
   "metadata": {},
   "outputs": [
    {
     "data": {
      "text/html": [
       "<div>\n",
       "<style scoped>\n",
       "    .dataframe tbody tr th:only-of-type {\n",
       "        vertical-align: middle;\n",
       "    }\n",
       "\n",
       "    .dataframe tbody tr th {\n",
       "        vertical-align: top;\n",
       "    }\n",
       "\n",
       "    .dataframe thead th {\n",
       "        text-align: right;\n",
       "    }\n",
       "</style>\n",
       "<table border=\"1\" class=\"dataframe\">\n",
       "  <thead>\n",
       "    <tr style=\"text-align: right;\">\n",
       "      <th></th>\n",
       "      <th>SalePrice</th>\n",
       "    </tr>\n",
       "  </thead>\n",
       "  <tbody>\n",
       "    <tr>\n",
       "      <th>0</th>\n",
       "      <td>117686.695562</td>\n",
       "    </tr>\n",
       "    <tr>\n",
       "      <th>1</th>\n",
       "      <td>134928.461210</td>\n",
       "    </tr>\n",
       "    <tr>\n",
       "      <th>2</th>\n",
       "      <td>172913.521884</td>\n",
       "    </tr>\n",
       "    <tr>\n",
       "      <th>3</th>\n",
       "      <td>170565.556942</td>\n",
       "    </tr>\n",
       "    <tr>\n",
       "      <th>4</th>\n",
       "      <td>158829.398142</td>\n",
       "    </tr>\n",
       "    <tr>\n",
       "      <th>5</th>\n",
       "      <td>166777.198930</td>\n",
       "    </tr>\n",
       "    <tr>\n",
       "      <th>6</th>\n",
       "      <td>143770.932076</td>\n",
       "    </tr>\n",
       "    <tr>\n",
       "      <th>7</th>\n",
       "      <td>166940.146840</td>\n",
       "    </tr>\n",
       "    <tr>\n",
       "      <th>8</th>\n",
       "      <td>171735.526793</td>\n",
       "    </tr>\n",
       "    <tr>\n",
       "      <th>9</th>\n",
       "      <td>166777.198930</td>\n",
       "    </tr>\n",
       "    <tr>\n",
       "      <th>10</th>\n",
       "      <td>123575.721288</td>\n",
       "    </tr>\n",
       "    <tr>\n",
       "      <th>11</th>\n",
       "      <td>118031.986353</td>\n",
       "    </tr>\n",
       "    <tr>\n",
       "      <th>12</th>\n",
       "      <td>118841.609749</td>\n",
       "    </tr>\n",
       "    <tr>\n",
       "      <th>13</th>\n",
       "      <td>179100.633469</td>\n",
       "    </tr>\n",
       "    <tr>\n",
       "      <th>14</th>\n",
       "      <td>179100.633469</td>\n",
       "    </tr>\n",
       "    <tr>\n",
       "      <th>15</th>\n",
       "      <td>158829.398142</td>\n",
       "    </tr>\n",
       "    <tr>\n",
       "      <th>16</th>\n",
       "      <td>173590.286274</td>\n",
       "    </tr>\n",
       "    <tr>\n",
       "      <th>17</th>\n",
       "      <td>170565.556942</td>\n",
       "    </tr>\n",
       "    <tr>\n",
       "      <th>18</th>\n",
       "      <td>171735.526793</td>\n",
       "    </tr>\n",
       "    <tr>\n",
       "      <th>19</th>\n",
       "      <td>170565.556942</td>\n",
       "    </tr>\n",
       "  </tbody>\n",
       "</table>\n",
       "</div>"
      ],
      "text/plain": [
       "        SalePrice\n",
       "0   117686.695562\n",
       "1   134928.461210\n",
       "2   172913.521884\n",
       "3   170565.556942\n",
       "4   158829.398142\n",
       "5   166777.198930\n",
       "6   143770.932076\n",
       "7   166940.146840\n",
       "8   171735.526793\n",
       "9   166777.198930\n",
       "10  123575.721288\n",
       "11  118031.986353\n",
       "12  118841.609749\n",
       "13  179100.633469\n",
       "14  179100.633469\n",
       "15  158829.398142\n",
       "16  173590.286274\n",
       "17  170565.556942\n",
       "18  171735.526793\n",
       "19  170565.556942"
      ]
     },
     "execution_count": 37,
     "metadata": {},
     "output_type": "execute_result"
    }
   ],
   "source": [
    "snowdaypredict.head(20)"
   ]
  },
  {
   "cell_type": "markdown",
   "metadata": {},
   "source": [
    "TRAIN-TEST SPLIT RIDGE / LASSO"
   ]
  },
  {
   "cell_type": "code",
   "execution_count": 38,
   "metadata": {},
   "outputs": [],
   "source": [
    "from sklearn.model_selection import train_test_split\n",
    "from sklearn.linear_model import LinearRegression, Ridge, Lasso, ElasticNet\n",
    "\n",
    "np.random.seed(50)  # changing the random seed can produce different scenarios which lead to exceptions\n",
    "ridge = Ridge()\n",
    "X_train, X_test, Y_train, Y_test = train_test_split(train_to_fit,train_price,test_size=0.25)"
   ]
  },
  {
   "cell_type": "code",
   "execution_count": 58,
   "metadata": {},
   "outputs": [],
   "source": [
    "\n",
    "ridge.set_params(normalize=True)\n",
    "ridge_scores_train = []\n",
    "ridge_scores_test  = []\n",
    "\n",
    "alphas = np.linspace(0.0, 0.000005, 20)\n",
    "alphas = np.logspace(-5, -1, 10)\n",
    "\n",
    "\n",
    "for alpha in alphas:\n",
    "    ridge.set_params(alpha=alpha)\n",
    "    ridge.fit(X_train, Y_train)\n",
    "    ridge_scores_train.append(ridge.score(X_train, Y_train))\n",
    "    ridge_scores_test.append(ridge.score(X_test, Y_test))\n",
    "\n",
    "ridge_scores_train = np.array(ridge_scores_train) \n",
    "ridge_scores_test  = np.array(ridge_scores_test)"
   ]
  },
  {
   "cell_type": "code",
   "execution_count": 59,
   "metadata": {},
   "outputs": [
    {
     "data": {
      "text/plain": [
       "[<matplotlib.lines.Line2D at 0x1a15ef2f28>]"
      ]
     },
     "execution_count": 59,
     "metadata": {},
     "output_type": "execute_result"
    },
    {
     "data": {
      "image/png": "[encoded data removed]",
      "text/plain": [
       "<Figure size 432x288 with 1 Axes>"
      ]
     },
     "metadata": {
      "needs_background": "light"
     },
     "output_type": "display_data"
    }
   ],
   "source": [
    "plt.plot(alphas, ridge_scores_train)\n",
    "plt.plot(alphas, ridge_scores_test)"
   ]
  },
  {
   "cell_type": "code",
   "execution_count": 41,
   "metadata": {},
   "outputs": [
    {
     "data": {
      "text/plain": [
       "{'alpha': 0.0002}"
      ]
     },
     "execution_count": 41,
     "metadata": {},
     "output_type": "execute_result"
    }
   ],
   "source": [
    "from sklearn.model_selection import GridSearchCV\n",
    "\n",
    "gs = GridSearchCV(ridge, {\"alpha\":alphas})\n",
    "gs.fit(X_train, Y_train)\n",
    "gs.best_params_"
   ]
  },
  {
   "cell_type": "code",
   "execution_count": 42,
   "metadata": {},
   "outputs": [
    {
     "data": {
      "text/plain": [
       "(array([  2.,   5.,  40., 366., 580.,  67.,   9.,   3.,   3.,   2.]),\n",
       " array([-107961.27299292,  -81942.62410914,  -55923.97522536,\n",
       "         -29905.32634158,   -3886.67745779,   22131.97142599,\n",
       "          48150.62030977,   74169.26919355,  100187.91807734,\n",
       "         126206.56696112,  152225.2158449 ]),\n",
       " <a list of 10 Patch objects>)"
      ]
     },
     "execution_count": 42,
     "metadata": {},
     "output_type": "execute_result"
    },
    {
     "data": {
      "image/png": "[encoded data removed]",
      "text/plain": [
       "<Figure size 432x288 with 1 Axes>"
      ]
     },
     "metadata": {
      "needs_background": "light"
     },
     "output_type": "display_data"
    }
   ],
   "source": [
    "lm = LinearRegression()\n",
    "lm.fit(X_train, (Y_train))\n",
    "residuals = (Y_train) - lm.predict(X_train)\n",
    "plt.hist(residuals)"
   ]
  },
  {
   "cell_type": "code",
   "execution_count": 43,
   "metadata": {},
   "outputs": [
    {
     "name": "stdout",
     "output_type": "stream",
     "text": [
      "R^2 is equal to 0.934\n",
      "RSS is equal to 0.000\n",
      "The intercept is -312418.160\n",
      "The slopes are [-1.29738000e+04 -3.23179200e+03  7.74316700e+03  5.73068000e+02\n",
      " -2.39678880e+04  8.63994000e+02  8.09390000e+01  8.44420000e+01\n",
      "  1.54156800e+03  2.77961500e+03 -5.64466000e+03  1.00889450e+04\n",
      " -4.91440800e+03  1.46007600e+03 -6.70353400e+03  6.89220000e+01\n",
      "  1.80223000e+03 -2.05249500e+03  8.16167000e+02  7.20500000e+01\n",
      " -4.34047800e+03 -1.16300000e+01  2.05449600e+03 -5.58632300e+03\n",
      "  2.24948200e+03  5.49129700e+03 -1.70608200e+03  4.85163500e+03\n",
      " -2.32823940e+04  5.43586200e+03  7.39042500e+03  5.15609700e+03\n",
      "  0.00000000e+00  2.22004140e+04  2.34071600e+04  5.59151550e+04\n",
      " -2.65801440e+04  8.21420000e+01  4.26404000e+02 -6.23807200e+03\n",
      "  2.30566690e+04  1.50959510e+04  2.97242440e+04  3.89759190e+04\n",
      "  2.38622610e+04  7.16049800e+03  2.39677140e+04  2.52814420e+04\n",
      "  2.17942360e+04  2.83559090e+04  2.24552950e+04  1.12616700e+04\n",
      "  2.97346750e+04  1.49509870e+04  1.26075220e+04  1.63157240e+04\n",
      "  2.35591920e+04  2.38622610e+04  4.49046920e+04  1.79186320e+04\n",
      "  3.03525830e+04  2.24934400e+04  1.45146510e+04  1.79493160e+04\n",
      "  2.14435850e+04  2.03211340e+04  3.13550410e+04  1.43071240e+04\n",
      "  6.86952000e+02 -7.05321000e+03  5.41874400e+03  1.99761600e+03\n",
      " -1.05010200e+03 -2.14700000e+02  1.00460300e+03 -9.95530000e+01\n",
      " -7.60567000e+02  4.66729900e+03  4.40223700e+03 -4.29069000e+02\n",
      "  1.95914500e+03  1.80049500e+03  9.68832000e+02  1.44530000e+01\n",
      "  2.30887100e+03 -2.28869700e+03 -3.11200000e+01  1.43903280e+04\n",
      "  2.26352000e+04  1.22343990e+04 -1.12841500e+04  2.63613200e+03\n",
      "  1.98469410e+04  3.34829620e+04 -7.54928500e+03 -3.89501700e+03\n",
      " -6.95553000e+02  3.16264900e+03  2.38241100e+03  1.13878980e+04\n",
      " -2.65405800e+03 -1.36817420e+04  2.56549200e+03  3.80259100e+03\n",
      " -4.31594500e+03  1.58135100e+03 -3.90001900e+03  8.89361200e+03\n",
      "  4.60517000e+03 -3.56165800e+03 -3.66273900e+03 -1.68157250e+04\n",
      " -1.10887800e+03  9.09502500e+03  7.57938800e+03  1.68972640e+04\n",
      " -1.26008560e+04 -4.14606600e+03  1.46007600e+03  9.10859700e+03\n",
      "  1.94646700e+03 -6.33458100e+03 -4.72048300e+03  2.72080000e+01\n",
      "  5.12356500e+03  9.46129000e+04  8.58349700e+03  1.28011383e+05\n",
      "  9.39514110e+04  5.18800000e+00  9.98543900e+03 -5.25367100e+03\n",
      "  1.44728000e+02 -3.74764000e+02 -4.30293100e+03 -6.60911000e+02\n",
      "  2.34103300e+03  3.09100300e+03 -1.36859500e+03  1.46642500e+03\n",
      " -2.35852100e+03 -2.70923500e+03  9.46511300e+03  1.29991290e+04\n",
      "  1.42628440e+04  6.49255700e+03 -8.78704100e+03 -1.42965540e+04\n",
      "  1.82301250e+04 -1.13841280e+04 -1.19401810e+04 -2.38463000e+02\n",
      " -1.38472040e+04 -1.78292590e+04 -6.92338100e+03  2.55324600e+04\n",
      " -1.49245590e+04  7.31546500e+03  2.03530970e+04 -9.61314500e+03\n",
      " -7.25211600e+03 -3.47935800e+03 -9.47368400e+03 -1.70081960e+04\n",
      "  3.75020070e+04 -8.83913700e+03  3.68360900e+03  4.33045800e+03\n",
      "  8.00769800e+03  3.90270300e+03 -2.53018000e+02  8.41947480e+04\n",
      "  3.76610000e+01 -4.29216800e+03 -4.91894000e+02 -8.21505900e+03\n",
      " -4.10035500e+03 -7.76685100e+03 -1.22315200e+03  2.17973110e+04\n",
      "  3.19833000e+03 -7.25658000e+02  3.17837150e+04  3.01344400e+03\n",
      "  3.20010000e+01 -6.25823140e+04  2.65286200e+03 -8.97716000e+02\n",
      "  1.53365000e+02 -5.15005000e+02 -1.39350700e+03  5.56000000e+01\n",
      "  2.43652100e+03]\n"
     ]
    }
   ],
   "source": [
    "print('R^2 is equal to %.3f' % lm.score(X_train, Y_train))\n",
    "print('RSS is equal to %.3f' %(np.sum(Y_train - lm.predict(X_train)) ** 2))  \n",
    "print('The intercept is %.3f' % (lm.intercept_))\n",
    "print('The slopes are %s' % str(np.round(lm.coef_, 3)))"
   ]
  },
  {
   "cell_type": "code",
   "execution_count": 44,
   "metadata": {},
   "outputs": [],
   "source": [
    "test_to_fit.drop('SalePrice',axis=1,inplace=True)\n"
   ]
  },
  {
   "cell_type": "code",
   "execution_count": 45,
   "metadata": {},
   "outputs": [
    {
     "data": {
      "text/plain": [
       "array([ 77064.03806746,  92289.51214037, 121382.78153188, ...,\n",
       "       110191.54522511,  84341.38776481, 160149.08029417])"
      ]
     },
     "execution_count": 45,
     "metadata": {},
     "output_type": "execute_result"
    }
   ],
   "source": [
    "lm.predict(test_to_fit)"
   ]
  },
  {
   "cell_type": "code",
   "execution_count": 60,
   "metadata": {},
   "outputs": [
    {
     "data": {
      "text/plain": [
       "array([ 77089.94133306,  92717.46359185, 121681.48941043, ...,\n",
       "       110434.20291134,  84505.94266725, 160420.65521198])"
      ]
     },
     "execution_count": 60,
     "metadata": {},
     "output_type": "execute_result"
    }
   ],
   "source": [
    "gs.predict(test_to_fit)"
   ]
  },
  {
   "cell_type": "code",
   "execution_count": 65,
   "metadata": {},
   "outputs": [],
   "source": [
    "sales1 = gs.predict(test_to_fit)\n",
    "sales1log = np.exp(sales1)\n"
   ]
  },
  {
   "cell_type": "code",
   "execution_count": null,
   "metadata": {},
   "outputs": [],
   "source": [
    "test_to_fit['SalePrice'] = np.exp(sales)\n",
    "snowdaypredict = test_to_fit.filter(['Id','SalePrice'])\n",
    "snowdaypredict.to_csv('../../data/submission4.csv')"
   ]
  },
  {
   "cell_type": "code",
   "execution_count": 69,
   "metadata": {},
   "outputs": [
    {
     "data": {
      "text/plain": [
       "-35163.657179440546"
      ]
     },
     "execution_count": 69,
     "metadata": {},
     "output_type": "execute_result"
    }
   ],
   "source": [
    "sales1.min()"
   ]
  },
  {
   "cell_type": "code",
   "execution_count": null,
   "metadata": {},
   "outputs": [],
   "source": [
    "train = pd.read_csv('../../data/train.csv', index_col=0)"
   ]
  },
  {
   "cell_type": "code",
   "execution_count": null,
   "metadata": {},
   "outputs": [],
   "source": []
  }
 ],
 "metadata": {
  "kernelspec": {
   "display_name": "Python 3",
   "language": "python",
   "name": "python3"
  },
  "language_info": {
   "codemirror_mode": {
    "name": "ipython",
    "version": 3
   },
   "file_extension": ".py",
   "mimetype": "text/x-python",
   "name": "python",
   "nbconvert_exporter": "python",
   "pygments_lexer": "ipython3",
   "version": "3.6.7"
  }
 },
 "nbformat": 4,
 "nbformat_minor": 2
}
