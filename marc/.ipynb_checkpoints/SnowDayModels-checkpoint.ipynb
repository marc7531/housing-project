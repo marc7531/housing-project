{
 "cells": [
  {
   "cell_type": "code",
   "execution_count": 114,
   "metadata": {},
   "outputs": [],
   "source": [
    "# Import modules\n",
    "import pandas as pd\n",
    "import numpy as np\n",
    "from scipy import stats\n",
    "import matplotlib.pyplot as plt\n",
    "import matplotlib as mpl\n",
    "from sklearn import preprocessing\n",
    "from sklearn import linear_model\n",
    "from sklearn.metrics import mean_squared_error\n",
    "from sklearn.metrics import r2_score"
   ]
  },
  {
   "cell_type": "code",
   "execution_count": 396,
   "metadata": {},
   "outputs": [],
   "source": [
    "pd.set_option('display.max_columns', 500)"
   ]
  },
  {
   "cell_type": "code",
   "execution_count": 397,
   "metadata": {},
   "outputs": [],
   "source": [
    "# Import training data\n",
    "train = pd.read_csv('../../data/train.csv', index_col=0)"
   ]
  },
  {
   "cell_type": "code",
   "execution_count": 398,
   "metadata": {},
   "outputs": [],
   "source": [
    "def make_num_flex(val, rating_system):\n",
    "    if val in rating_system:\n",
    "        return int(len(rating_system) - 1 - rating_system.index(val))\n",
    "    return 0\n",
    "\n",
    "def make_boxed_normal(df):\n",
    "    new_dict = {}\n",
    "    logs = []\n",
    "    devs = []\n",
    "    means = []\n",
    "    cols = df.columns\n",
    "    for name in cols: \n",
    "        key = 'norm_' + name\n",
    "        arr = np.array(df[name]) + 1\n",
    "        arr, log_num = stats.boxcox(arr)\n",
    "        upper = arr.max()\n",
    "        lower = arr.min()\n",
    "        \n",
    "        value = (arr-np.mean(arr))/(np.std(arr))\n",
    "        print (arr)\n",
    "        new_dict[key] = value\n",
    "        logs.append(log_num)\n",
    "        devs.append(np.std(arr))\n",
    "        means.append(np.mean(arr))\n",
    "        \n",
    "    return pd.DataFrame(new_dict), logs, devs, means"
   ]
  },
  {
   "cell_type": "code",
   "execution_count": 399,
   "metadata": {},
   "outputs": [],
   "source": [
    "# Filter out commercial properties\n",
    "MSZoningMask = (train.MSZoning=='A') | (train.MSZoning=='C') | (train.MSZoning=='I') | (train.MSZoning=='C (all)')\n",
    "train = train[~MSZoningMask]\n",
    "\n",
    "# Drop NAs\n",
    "train = train.fillna(value=0)\n",
    "\n",
    "# Convert ordinals into numbers \n",
    "ord_list = ['KitchenQual', 'FireplaceQu', 'GarageQual', 'GarageCond', \n",
    " 'ExterQual', 'ExterCond', 'BsmtQual', 'BsmtCond', 'HeatingQC',\n",
    "'PoolQC', 'GarageType', 'Street', 'LandContour', 'Utilities', \n",
    "'SaleType', 'PavedDrive', 'GarageFinish', 'Functional', 'SaleCondition',\n",
    "'Electrical', 'CentralAir', 'Heating', 'BsmtExposure', 'Foundation',\n",
    "'MasVnrType', 'LandSlope', 'RoofMatl', 'Alley']\n",
    "\n",
    "for item in ord_list:\n",
    "\n",
    "    train[item] = train[item].astype('category')\n",
    "    cat_columns = train.select_dtypes(['category']).columns\n",
    "    train[cat_columns] = train[cat_columns].apply(lambda x: x.cat.codes)\n",
    "    \n",
    "# Create flag for irregular lot shape\n",
    "train['LotShape'] = [1 if x == 'Reg' else 0 for x in train['LotShape']]\n",
    "\n",
    "# # Dummify Remaining columns\n",
    "\n",
    "drop_list = ['MSSubClass', 'MSZoning', #'BsmtFinType1', 'BsmtFinType2',\n",
    "            'BldgType','HouseStyle', 'Condition1', 'Condition2',\n",
    "            'Neighborhood', 'LotConfig', 'RoofStyle', 'MoSold', 'YrSold',\n",
    "            'Exterior1st', 'Exterior2nd','MiscFeature','Fence']\n",
    "\n",
    "for item in drop_list:\n",
    "    dummies = pd.get_dummies(train[item]).rename(columns=lambda x: item + str(x))\n",
    "    train = pd.concat([train, dummies], axis=1)    \n",
    "\n",
    "train = train.drop(drop_list, axis=1)\n",
    "\n",
    "# Convert years to ages\n",
    "train['YearBuilt'] = 2019 - train['YearBuilt']\n",
    "train['YearRemodAdd'] = 2019 - train['YearRemodAdd']\n",
    "train['GarageYrBlt'] = 2019 - train['GarageYrBlt']"
   ]
  },
  {
   "cell_type": "code",
   "execution_count": 400,
   "metadata": {},
   "outputs": [],
   "source": [
    "# Separate price and drop\n",
    "train_price = train['SalePrice']\n",
    "train = train.drop('SalePrice', axis=1)"
   ]
  },
  {
   "cell_type": "markdown",
   "metadata": {},
   "source": [
    "**Additional Modification *****************************************************************\n",
    "\n",
    "Section 1) Separate toilets (half baths) and showers\n",
    "Section 2) Basements: Total number of livable (spaces) in the basement (1,2)\n",
    "            + Basements: Division of actual square footage into good/low quality space\n",
    "            + Creation of GrLivArea\n",
    "Section 3) Combine Porch Square Footage & create Rec Space\n",
    "Section 4) Drop additional columns"
   ]
  },
  {
   "cell_type": "code",
   "execution_count": 401,
   "metadata": {},
   "outputs": [],
   "source": [
    "# Section 1: create list for subset of data the includes the word bath \n",
    "all_bathrooms = [x for x in train.columns if \"Bath\" in  x]\n",
    "\n",
    "# create list for subset of data that tell us the number of showers\n",
    "with_shower = [x for x in all_bathrooms if 'Full' in x]\n",
    "\n",
    "train['n_toilets'] = np.sum(train[all_bathrooms], axis=1)\n",
    "train['n_showers'] = np.sum(train[with_shower], axis =1)"
   ]
  },
  {
   "cell_type": "code",
   "execution_count": 402,
   "metadata": {},
   "outputs": [],
   "source": [
    "# Section 2: Basement \n",
    "\n",
    "#Livible ratings -- Binomial Flag (1,2) depending on whether the basement space is livable or not\n",
    "rates = ['GLQ', 'ALQ', 'BLQ']\n",
    "# counts livible basements in fintype1\n",
    "train['Basement1'] = [1 if x in rates else 0 for x in train['BsmtFinType1']]\n",
    "# counts livible basements in fintype2\n",
    "train['Basement2'] = [1 if x in rates  else 0 for x in train['BsmtFinType2']]\n",
    "# combines the livible area\n",
    "train['Basement'] = train['Basement1'].values + train['Basement2'].values\n",
    "# counts livible basement as present when there's two types\n",
    "train['Basement'] = train['Basement'].replace(2,1) \n",
    "\n",
    "train['lowqualbsmt1'] = train['BsmtFinSF1'] * train['Basement1']\n",
    "train['lowqualbsmt2'] = train['BsmtFinSF2'] * train['Basement2']\n",
    "train['goodbsmt1'] = train['BsmtFinSF1'] * train['Basement1']\n",
    "train['goodbsmt2'] = train['BsmtFinSF2'] * train['Basement2']\n",
    "\n",
    "train['GrLivArea'] = train['GrLivArea'] + train['goodbsmt1'] + train['goodbsmt2']"
   ]
  },
  {
   "cell_type": "code",
   "execution_count": 403,
   "metadata": {},
   "outputs": [],
   "source": [
    "# Section 3: combine porch/deck areas & create RecSpace\n",
    "train['PorchFT'] = train['WoodDeckSF'] + train['OpenPorchSF'] + train['EnclosedPorch'] + train['3SsnPorch'] + train['ScreenPorch']\n",
    "\n",
    "# Flag the exsistance of a porch\n",
    "train['PorchYN'] = [0 if x==0 else 1 for x in train['PorchFT']]\n",
    "\n",
    "# Create the Rec space variable as the sum of deck area and rough basement\n",
    "train['RecSpaceFt'] = train['PorchFT'] + train['lowqualbsmt1'] + train['lowqualbsmt2']"
   ]
  },
  {
   "cell_type": "code",
   "execution_count": 404,
   "metadata": {},
   "outputs": [],
   "source": [
    "# Section 4: drops extra columns. Overwrites existing table \n",
    "train = train.drop(['Basement1', 'Basement2', 'BsmtFinType1', 'lowqualbsmt1','lowqualbsmt2','goodbsmt1', 'goodbsmt2', 'BsmtFinSF1', 'BsmtFinType2', 'BsmtFinSF2', 'LowQualFinSF', 'PorchFT', 'PorchYN', 'WoodDeckSF', 'OpenPorchSF', 'EnclosedPorch', '3SsnPorch', 'ScreenPorch'], axis = 1)"
   ]
  },
  {
   "cell_type": "code",
   "execution_count": 405,
   "metadata": {},
   "outputs": [
    {
     "data": {
      "text/plain": [
       "(1450, 201)"
      ]
     },
     "execution_count": 405,
     "metadata": {},
     "output_type": "execute_result"
    }
   ],
   "source": [
    "train.shape"
   ]
  },
  {
   "cell_type": "markdown",
   "metadata": {},
   "source": [
    "*** FILTER OUT ROWS WITH OUTLIERS -- NOT TO BE DONE WITH TEST DATA ***"
   ]
  },
  {
   "cell_type": "code",
   "execution_count": 406,
   "metadata": {},
   "outputs": [],
   "source": [
    "train = train[~(train['LotArea'] > 50000)]\n",
    "train = train[~(train['GrLivArea'] > 6000)]"
   ]
  },
  {
   "cell_type": "markdown",
   "metadata": {},
   "source": [
    "**SEPARATE TRAIN INTO CONTINUOUS & ALL OTHER FOR PURPOSES OF TRANSFORMATION"
   ]
  },
  {
   "cell_type": "code",
   "execution_count": 407,
   "metadata": {},
   "outputs": [],
   "source": [
    "continuous_varlist = ['YearBuilt','YearRemodAdd','LotArea','LotFrontage','GrLivArea','GarageArea']\n",
    "train_cont = train[continuous_varlist]\n",
    "train_other = train[train.columns.difference(continuous_varlist)]"
   ]
  },
  {
   "cell_type": "code",
   "execution_count": 408,
   "metadata": {},
   "outputs": [
    {
     "name": "stdout",
     "output_type": "stream",
     "text": [
      "[3.93259214 5.90583755 4.14263436 ... 7.34224395 7.03003521 6.43179868]\n",
      "[2.47020679 3.15557143 2.51325026 ... 2.32216222 2.72622739 3.30724749]\n",
      "[88.88466171 93.63673908 99.88961533 ... 91.37651357 94.10054238\n",
      " 94.96362037]\n",
      "[31.09793206 36.60768328 32.22144616 ... 31.47373455 32.22144616\n",
      " 34.7998865 ]\n",
      "[11.4662317  11.31006004 11.33926314 ... 11.63085028  9.94149209\n",
      " 11.16400515]\n",
      "[214.72436143 185.87808688 233.91277455 ... 113.11916884 108.64874634\n",
      " 121.94845642]\n"
     ]
    }
   ],
   "source": [
    "train_norm, logs,devs,means = make_boxed_normal(train_cont)"
   ]
  },
  {
   "cell_type": "code",
   "execution_count": 409,
   "metadata": {},
   "outputs": [],
   "source": [
    "train_norm.reset_index(drop=True, inplace=True)\n",
    "train_other.reset_index(drop=True, inplace=True)\n",
    "train = pd.concat([train_norm,train_other],axis=1)"
   ]
  },
  {
   "cell_type": "code",
   "execution_count": 410,
   "metadata": {},
   "outputs": [],
   "source": [
    "notintest = ['HouseStyle2.5Fin','Condition2RRAe','Condition2RRAn','Condition2RRNn','Exterior1stImStucc','Exterior1stStone','Exterior2ndOther','MiscFeatureTenC']\n",
    "notintrain = ['MSSubClass150','MSZoning0','MSZoningC (all)','Exterior1st0','Exterior2nd0']"
   ]
  },
  {
   "cell_type": "code",
   "execution_count": 411,
   "metadata": {},
   "outputs": [],
   "source": [
    "# Recursive Feature Elimination\n",
    "\n",
    "from sklearn.feature_selection import RFE\n",
    "from sklearn.linear_model import LinearRegression\n",
    "\n",
    "train_to_fit = train.drop(notintest,axis=1)\n",
    "\n",
    "train_x = train_to_fit[0:1200]\n",
    "train_y = train_price[0:1200]\n",
    "\n",
    "# create a base classifier used to evaluate a subset of attributes\n",
    "model = LinearRegression()\n",
    "# create the RFE model and select 25 attributes\n",
    "rfe = RFE(model, 25)\n",
    "rfe = rfe.fit(train_x, train_y)\n",
    "# summarize the selection of the attributes\n",
    "#print(rfe.support_)\n",
    "#print(rfe.ranking_)\n",
    "\n",
    "df = train_to_fit[train_to_fit.columns[rfe.support_]]\n"
   ]
  },
  {
   "cell_type": "code",
   "execution_count": 412,
   "metadata": {},
   "outputs": [
    {
     "data": {
      "text/plain": [
       "LinearRegression(copy_X=True, fit_intercept=True, n_jobs=None,\n",
       "         normalize=False)"
      ]
     },
     "execution_count": 412,
     "metadata": {},
     "output_type": "execute_result"
    }
   ],
   "source": [
    "rfe.estimator_"
   ]
  },
  {
   "cell_type": "code",
   "execution_count": 419,
   "metadata": {},
   "outputs": [
    {
     "name": "stderr",
     "output_type": "stream",
     "text": [
      "/Users/marchass1/anaconda3/lib/python3.6/site-packages/sklearn/linear_model/coordinate_descent.py:492: ConvergenceWarning: Objective did not converge. You might want to increase the number of iterations. Fitting data with very small alpha may cause precision problems.\n",
      "  ConvergenceWarning)\n"
     ]
    },
    {
     "data": {
      "text/plain": [
       "Text(0,0.5,'$R^2$')"
      ]
     },
     "execution_count": 419,
     "metadata": {},
     "output_type": "execute_result"
    },
    {
     "data": {
      "image/png": "[encoded data removed]",
      "text/plain": [
       "<matplotlib.figure.Figure at 0x114710f60>"
      ]
     },
     "metadata": {
      "needs_background": "light"
     },
     "output_type": "display_data"
    }
   ],
   "source": [
    "# Woo doggies\n",
    "from sklearn.linear_model import Lasso\n",
    "\n",
    "train_x = df[0:1200]\n",
    "test_x = df[1200:1400]\n",
    "\n",
    "# Split the targets into training/testing sets\n",
    "#train_price, train_logs, train_devs, train_means = make_boxed_normal(train[['SalePrice']])\n",
    "\n",
    "train_y = train_price[0:1200]\n",
    "test_y = train_price[1200:1400]\n",
    "\n",
    "# create a ridge regression instance\n",
    "lasso = Lasso()\n",
    "\n",
    "lasso_scores_train = []\n",
    "lasso_scores_test = []\n",
    "coefs_lasso  = []\n",
    "intercepts_lasso = []\n",
    "\n",
    "alphas = np.linspace(0.1, 150, 5)\n",
    "\n",
    "for alpha in alphas:\n",
    "    lasso.set_params(alpha=alpha,normalize=True)\n",
    "    lasso.fit(train_x, train_y)\n",
    "    lasso_scores_train.append(lasso.score(train_x, train_y))\n",
    "    lasso_scores_test.append(lasso.score(test_x, test_y))\n",
    "    coefs_lasso.append(lasso.coef_)\n",
    "    intercepts_lasso.append(lasso.intercept_)\n",
    "\n",
    "    \n",
    "lasso_scores_train = np.array(lasso_scores_train)\n",
    "lasso_scores_test = np.array(lasso_scores_test)\n",
    "\n",
    "plt.plot(alphas, lasso_scores_train, label=r'$train\\ R^2$')\n",
    "plt.plot(alphas, lasso_scores_test, label=r'$test\\ R^2$')\n",
    "plt.legend(loc=1)\n",
    "plt.title(r'Lasso Train-Test $R^2$ Comparison')\n",
    "\n",
    "plt.xlabel(r'hyperparameter $\\lambda$')\n",
    "plt.ylabel(r'$R^2$')"
   ]
  },
  {
   "cell_type": "code",
   "execution_count": 420,
   "metadata": {},
   "outputs": [
    {
     "data": {
      "image/png": "[encoded data removed]",
      "text/plain": [
       "<matplotlib.figure.Figure at 0x117fb5eb8>"
      ]
     },
     "metadata": {
      "needs_background": "light"
     },
     "output_type": "display_data"
    }
   ],
   "source": [
    "coefs_lasso = pd.DataFrame(coefs_lasso, index = alphas, columns = train_x.columns)  \n",
    "\n",
    "for name in coefs_lasso.columns:\n",
    "    plt.plot(coefs_lasso.index, coefs_lasso[name], label=name)\n",
    "plt.xlabel(r'hyperparameter $\\lambda$')\n",
    "plt.ylabel(r'slope values')\n",
    "plt.show()\n"
   ]
  },
  {
   "cell_type": "code",
   "execution_count": 422,
   "metadata": {},
   "outputs": [
    {
     "data": {
      "image/png": "[encoded data removed]",
      "text/plain": [
       "<matplotlib.figure.Figure at 0x118b9fa90>"
      ]
     },
     "metadata": {
      "needs_background": "light"
     },
     "output_type": "display_data"
    }
   ],
   "source": [
    "coefs_lasso = pd.DataFrame(coefs_lasso, index = alphas, columns = train_x.columns)  \n",
    "\n",
    "for name in coefs_lasso.columns:\n",
    "    plt.plot(coefs_lasso.index, coefs_lasso[name], label=name)\n",
    "plt.xlabel(r'hyperparameter $\\lambda$')\n",
    "plt.ylabel(r'slope values')\n",
    "\n",
    "plt.xlim(0, 150)\n",
    "plt.ylim(-20000, 50000)\n",
    "\n",
    "plt.show()\n"
   ]
  },
  {
   "cell_type": "code",
   "execution_count": 15,
   "metadata": {},
   "outputs": [
    {
     "data": {
      "text/plain": [
       "181654.94206896552"
      ]
     },
     "execution_count": 15,
     "metadata": {},
     "output_type": "execute_result"
    }
   ],
   "source": [
    "train_price.mean()"
   ]
  },
  {
   "cell_type": "code",
   "execution_count": 423,
   "metadata": {},
   "outputs": [],
   "source": [
    "test = pd.read_csv('../../data/test.csv', index_col=0)\n",
    "\n",
    "# Filter out commercial properties\n",
    "MSZoningMask = (test.MSZoning=='A') | (test.MSZoning=='C') | (test.MSZoning=='I') | (test.MSZoning=='C (all)')\n",
    "#test = test[~MSZoningMask]\n",
    "\n",
    "# Drop NAs\n",
    "test = test.fillna(value=0)\n",
    "\n",
    "# Convert ordinals into numbers \n",
    "ord_list = ['KitchenQual', 'FireplaceQu', 'GarageQual', 'GarageCond', \n",
    " 'ExterQual', 'ExterCond', 'BsmtQual', 'BsmtCond', 'HeatingQC',\n",
    "'PoolQC', 'GarageType', 'Street', 'LandContour', 'Utilities', \n",
    "'SaleType', 'PavedDrive', 'GarageFinish', 'Functional', 'SaleCondition',\n",
    "'Electrical', 'CentralAir', 'Heating', 'BsmtExposure', 'Foundation',\n",
    "'MasVnrType', 'LandSlope', 'RoofMatl', 'Alley']\n",
    "\n",
    "for item in ord_list:\n",
    "\n",
    "    test[item] = test[item].astype('category')\n",
    "    cat_columns = test.select_dtypes(['category']).columns\n",
    "    test[cat_columns] = test[cat_columns].apply(lambda x: x.cat.codes)\n",
    "    \n",
    "# Create flag for irregular lot shape\n",
    "test['LotShape'] = [1 if x == 'Reg' else 0 for x in test['LotShape']]\n",
    "\n",
    "# # Dummify Remaining columns\n",
    "\n",
    "drop_list = ['MSSubClass', 'MSZoning', #'BsmtFinType1', 'BsmtFinType2',\n",
    "            'BldgType','HouseStyle', 'Condition1', 'Condition2',\n",
    "            'Neighborhood', 'LotConfig', 'RoofStyle', 'MoSold', 'YrSold',\n",
    "            'Exterior1st', 'Exterior2nd','MiscFeature','Fence']\n",
    "\n",
    "for item in drop_list:\n",
    "    dummies = pd.get_dummies(test[item]).rename(columns=lambda x: item + str(x))\n",
    "    test = pd.concat([test, dummies], axis=1)    \n",
    "\n",
    "test = test.drop(drop_list, axis=1)\n",
    "\n",
    "# Convert years to ages\n",
    "test['YearBuilt'] = 2019 - test['YearBuilt']\n",
    "test['YearRemodAdd'] = 2019 - test['YearRemodAdd']\n",
    "test['GarageYrBlt'] = 2019 - test['GarageYrBlt']\n",
    "\n",
    "# Section 1: create list for subset of data the includes the word bath \n",
    "all_bathrooms = [x for x in test.columns if \"Bath\" in  x]\n",
    "\n",
    "# create list for subset of data that tell us the number of showers\n",
    "with_shower = [x for x in all_bathrooms if 'Full' in x]\n",
    "\n",
    "test['n_toilets'] = np.sum(test[all_bathrooms], axis=1)\n",
    "test['n_showers'] = np.sum(test[with_shower], axis =1)\n",
    "\n",
    "# Section 2: Basement \n",
    "\n",
    "#Livible ratings -- Binomial Flag (1,2) depending on whether the basement space is livable or not\n",
    "rates = ['GLQ', 'ALQ', 'BLQ']\n",
    "# counts livible basements in fintype1\n",
    "test['Basement1'] = [1 if x in rates else 0 for x in test['BsmtFinType1']]\n",
    "# counts livible basements in fintype2\n",
    "test['Basement2'] = [1 if x in rates  else 0 for x in test['BsmtFinType2']]\n",
    "# combines the livible area\n",
    "test['Basement'] = test['Basement1'].values + test['Basement2'].values\n",
    "# counts livible basement as present when there's two types\n",
    "test['Basement'] = test['Basement'].replace(2,1) \n",
    "\n",
    "test['lowqualbsmt1'] = test['BsmtFinSF1'] * test['Basement1']\n",
    "test['lowqualbsmt2'] = test['BsmtFinSF2'] * test['Basement2']\n",
    "test['goodbsmt1'] = test['BsmtFinSF1'] * test['Basement1']\n",
    "test['goodbsmt2'] = test['BsmtFinSF2'] * test['Basement2']\n",
    "\n",
    "test['GrLivArea'] = test['GrLivArea'] + test['goodbsmt1'] + test['goodbsmt2']\n",
    "\n",
    "# Section 3: combine porch/deck areas & create RecSpace\n",
    "test['PorchFT'] = test['WoodDeckSF'] + test['OpenPorchSF'] + test['EnclosedPorch'] + test['3SsnPorch'] + test['ScreenPorch']\n",
    "\n",
    "# Flag the exsistance of a porch\n",
    "test['PorchYN'] = [0 if x==0 else 1 for x in test['PorchFT']]\n",
    "\n",
    "# Create the Rec space variable as the sum of deck area and rough basement\n",
    "test['RecSpaceFt'] = test['PorchFT'] + test['lowqualbsmt1'] + test['lowqualbsmt2']\n",
    "\n",
    "# Section 4: drops extra columns. Overwrites existing table \n",
    "test = test.drop(['Basement1', 'Basement2', 'BsmtFinType1', 'lowqualbsmt1','lowqualbsmt2','goodbsmt1', 'goodbsmt2', 'BsmtFinSF1', 'BsmtFinType2', 'BsmtFinSF2', 'LowQualFinSF', 'PorchFT', 'PorchYN', 'WoodDeckSF', 'OpenPorchSF', 'EnclosedPorch', '3SsnPorch', 'ScreenPorch'], axis = 1)\n",
    "\n"
   ]
  },
  {
   "cell_type": "code",
   "execution_count": 424,
   "metadata": {},
   "outputs": [
    {
     "data": {
      "text/plain": [
       "(1459, 198)"
      ]
     },
     "execution_count": 424,
     "metadata": {},
     "output_type": "execute_result"
    }
   ],
   "source": [
    "test.shape"
   ]
  },
  {
   "cell_type": "code",
   "execution_count": 425,
   "metadata": {},
   "outputs": [
    {
     "name": "stdout",
     "output_type": "stream",
     "text": [
      "[6.50854617 6.62782704 4.46748147 ... 6.54882568 4.8603879  4.78649643]\n",
      "[4.10871313 4.15907507 3.10893598 ... 3.19697098 3.3530053  3.27798057]\n",
      "[67.41270166 72.47417005 71.68345958 ... 81.61836546 64.90420593\n",
      " 63.06384109]\n",
      "[44.085921   44.54602385 41.30370579 ... 78.55039202 35.61641614\n",
      " 41.30370579]\n",
      "[6.71390445 7.61036049 7.6802358  ... 7.69140656 7.08143708 7.49507316]\n",
      "[230.31245433 117.23187267 165.66419063 ... 190.83953063   0.\n",
      " 210.05181127]\n"
     ]
    }
   ],
   "source": [
    "#Box-Cox\n",
    "continuous_varlist = ['YearBuilt','YearRemodAdd','LotArea','LotFrontage','GrLivArea','GarageArea']\n",
    "test_cont = test[continuous_varlist]\n",
    "test_other = test[test.columns.difference(continuous_varlist)]\n",
    "\n",
    "test_norm, logs,devs,means = make_boxed_normal(test_cont)\n",
    "\n",
    "test_norm.reset_index(drop=True, inplace=True)\n",
    "test_other.reset_index(drop=True, inplace=True)\n",
    "test = pd.concat([test_norm,test_other],axis=1)"
   ]
  },
  {
   "cell_type": "code",
   "execution_count": 426,
   "metadata": {},
   "outputs": [],
   "source": [
    "notintest = ['HouseStyle2.5Fin','Condition2RRAe','Condition2RRAn','Condition2RRNn','Exterior1stImStucc','Exterior1stStone','Exterior2ndOther','MiscFeatureTenC']\n",
    "notintrain = ['MSSubClass150','MSZoning0','MSZoningC (all)','Exterior1st0','Exterior2nd0']\n",
    "test_to_fit = test.drop(notintrain,axis=1)"
   ]
  },
  {
   "cell_type": "code",
   "execution_count": 427,
   "metadata": {},
   "outputs": [],
   "source": [
    "testwithRFE = test_to_fit[test_to_fit.columns[rfe.support_]]"
   ]
  },
  {
   "cell_type": "code",
   "execution_count": 428,
   "metadata": {},
   "outputs": [
    {
     "data": {
      "text/plain": [
       "(1459, 193)"
      ]
     },
     "execution_count": 428,
     "metadata": {},
     "output_type": "execute_result"
    }
   ],
   "source": [
    "test_to_fit.shape"
   ]
  },
  {
   "cell_type": "markdown",
   "metadata": {},
   "source": [
    "Inspection of Train & Test Data Sets reveals there are some column mismatches.\n",
    "Below, these are identified and removed, respectively\n",
    "The feature list, 'notintest' needs to be removed from training data; the features 'notintrain' from test data"
   ]
  },
  {
   "cell_type": "code",
   "execution_count": 309,
   "metadata": {},
   "outputs": [
    {
     "name": "stdout",
     "output_type": "stream",
     "text": [
      "HouseStyle2.5Fin\n",
      "Condition2RRAe\n",
      "Condition2RRAn\n",
      "Condition2RRNn\n",
      "Exterior1stImStucc\n",
      "Exterior1stStone\n",
      "Exterior2ndOther\n",
      "MiscFeatureTenC\n"
     ]
    }
   ],
   "source": [
    "a = test.columns\n",
    "b = train.columns\n",
    "c = train_to_fit.columns\n",
    "#d = test_to_fit.columns\n",
    "\n",
    "for x in b:\n",
    "    if not x in a:\n",
    "        print(x)"
   ]
  },
  {
   "cell_type": "code",
   "execution_count": 310,
   "metadata": {},
   "outputs": [
    {
     "name": "stdout",
     "output_type": "stream",
     "text": [
      "MSSubClass150\n",
      "MSZoning0\n",
      "MSZoningC (all)\n",
      "Exterior1st0\n",
      "Exterior2nd0\n"
     ]
    }
   ],
   "source": [
    "for x in a:\n",
    "    if not x in b:\n",
    "        print(x)"
   ]
  },
  {
   "cell_type": "code",
   "execution_count": 313,
   "metadata": {},
   "outputs": [
    {
     "name": "stdout",
     "output_type": "stream",
     "text": [
      "MSSubClass150\n",
      "MSZoning0\n",
      "MSZoningC (all)\n",
      "Exterior1st0\n",
      "Exterior2nd0\n"
     ]
    }
   ],
   "source": [
    "for x in a:\n",
    "    if not x in c:\n",
    "        print(x)"
   ]
  },
  {
   "cell_type": "code",
   "execution_count": 429,
   "metadata": {},
   "outputs": [
    {
     "data": {
      "text/plain": [
       "(1437, 193)"
      ]
     },
     "execution_count": 429,
     "metadata": {},
     "output_type": "execute_result"
    }
   ],
   "source": [
    "train_to_fit.shape"
   ]
  },
  {
   "cell_type": "code",
   "execution_count": 430,
   "metadata": {},
   "outputs": [
    {
     "data": {
      "text/plain": [
       "(1459, 193)"
      ]
     },
     "execution_count": 430,
     "metadata": {},
     "output_type": "execute_result"
    }
   ],
   "source": [
    "test_to_fit.shape"
   ]
  },
  {
   "cell_type": "code",
   "execution_count": 431,
   "metadata": {},
   "outputs": [],
   "source": [
    "sales = rfe.predict(test_to_fit)"
   ]
  },
  {
   "cell_type": "code",
   "execution_count": 326,
   "metadata": {},
   "outputs": [],
   "source": [
    "test_to_fit['SalePrice'] = sales\n",
    "snowdaypredict = test_to_fit.filter(['Id','SalePrice'])\n",
    "snowdaypredict.to_csv('../../data/submission4.csv')"
   ]
  },
  {
   "cell_type": "code",
   "execution_count": 328,
   "metadata": {},
   "outputs": [
    {
     "data": {
      "text/html": [
       "<div>\n",
       "<style scoped>\n",
       "    .dataframe tbody tr th:only-of-type {\n",
       "        vertical-align: middle;\n",
       "    }\n",
       "\n",
       "    .dataframe tbody tr th {\n",
       "        vertical-align: top;\n",
       "    }\n",
       "\n",
       "    .dataframe thead th {\n",
       "        text-align: right;\n",
       "    }\n",
       "</style>\n",
       "<table border=\"1\" class=\"dataframe\">\n",
       "  <thead>\n",
       "    <tr style=\"text-align: right;\">\n",
       "      <th></th>\n",
       "      <th>SalePrice</th>\n",
       "    </tr>\n",
       "    <tr>\n",
       "      <th>Id</th>\n",
       "      <th></th>\n",
       "    </tr>\n",
       "  </thead>\n",
       "  <tbody>\n",
       "    <tr>\n",
       "      <th>1461</th>\n",
       "      <td>186016.0</td>\n",
       "    </tr>\n",
       "    <tr>\n",
       "      <th>1462</th>\n",
       "      <td>104690.0</td>\n",
       "    </tr>\n",
       "    <tr>\n",
       "      <th>1463</th>\n",
       "      <td>180462.0</td>\n",
       "    </tr>\n",
       "    <tr>\n",
       "      <th>1464</th>\n",
       "      <td>180462.0</td>\n",
       "    </tr>\n",
       "    <tr>\n",
       "      <th>1465</th>\n",
       "      <td>192314.0</td>\n",
       "    </tr>\n",
       "    <tr>\n",
       "      <th>1466</th>\n",
       "      <td>176114.0</td>\n",
       "    </tr>\n",
       "    <tr>\n",
       "      <th>1467</th>\n",
       "      <td>172274.0</td>\n",
       "    </tr>\n",
       "    <tr>\n",
       "      <th>1468</th>\n",
       "      <td>180462.0</td>\n",
       "    </tr>\n",
       "    <tr>\n",
       "      <th>1469</th>\n",
       "      <td>186016.0</td>\n",
       "    </tr>\n",
       "    <tr>\n",
       "      <th>1470</th>\n",
       "      <td>181746.0</td>\n",
       "    </tr>\n",
       "  </tbody>\n",
       "</table>\n",
       "</div>"
      ],
      "text/plain": [
       "      SalePrice\n",
       "Id             \n",
       "1461   186016.0\n",
       "1462   104690.0\n",
       "1463   180462.0\n",
       "1464   180462.0\n",
       "1465   192314.0\n",
       "1466   176114.0\n",
       "1467   172274.0\n",
       "1468   180462.0\n",
       "1469   186016.0\n",
       "1470   181746.0"
      ]
     },
     "execution_count": 328,
     "metadata": {},
     "output_type": "execute_result"
    }
   ],
   "source": [
    "snowdaypredict.head(10)"
   ]
  },
  {
   "cell_type": "code",
   "execution_count": null,
   "metadata": {},
   "outputs": [],
   "source": []
  }
 ],
 "metadata": {
  "kernelspec": {
   "display_name": "Python 3",
   "language": "python",
   "name": "python3"
  },
  "language_info": {
   "codemirror_mode": {
    "name": "ipython",
    "version": 3
   },
   "file_extension": ".py",
   "mimetype": "text/x-python",
   "name": "python",
   "nbconvert_exporter": "python",
   "pygments_lexer": "ipython3",
   "version": "3.6.7"
  }
 },
 "nbformat": 4,
 "nbformat_minor": 2
}
