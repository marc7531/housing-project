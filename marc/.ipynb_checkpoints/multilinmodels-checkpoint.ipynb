{
 "cells": [
  {
   "cell_type": "markdown",
   "metadata": {},
   "source": [
    "MULTILINEAR REGRESSION FRAMEWORK FOR TRAIN/TEST"
   ]
  },
  {
   "cell_type": "code",
   "execution_count": 2,
   "metadata": {},
   "outputs": [],
   "source": [
    "#Transformation \n",
    "import pandas as pd\n",
    "import numpy as np\n",
    "from scipy import stats\n",
    "import matplotlib.pyplot as plt\n",
    "from sklearn import preprocessing"
   ]
  },
  {
   "cell_type": "code",
   "execution_count": 62,
   "metadata": {},
   "outputs": [],
   "source": [
    "training = pd.read_csv('../../data/train_clean.csv', index_col=0)\n",
    "testing = pd.read_csv('../../data/test_clean.csv', index_col=0)"
   ]
  },
  {
   "cell_type": "code",
   "execution_count": 63,
   "metadata": {},
   "outputs": [
    {
     "data": {
      "text/plain": [
       "Index(['LotArea', 'YearBuilt', 'YearRemodAdd', 'GrLivArea', 'BsmtFullBath',\n",
       "       'BedroomAbvGr', 'KitchenAbvGr', 'GarageType', 'GarageArea', 'Kitchen',\n",
       "       'Fireplace', 'ExterQ', 'BsmtQ', 'HeatingQ', 'n_toilets', 'n_showers'],\n",
       "      dtype='object')"
      ]
     },
     "execution_count": 63,
     "metadata": {},
     "output_type": "execute_result"
    }
   ],
   "source": [
    "testing.columns"
   ]
  },
  {
   "cell_type": "code",
   "execution_count": 64,
   "metadata": {},
   "outputs": [],
   "source": [
    "#Convert year building was built/remodeled into a numeric Age (training data set)\n",
    "training['AgeBuilt'] = 2019 - training['YearBuilt']\n",
    "training['AgeRemodel'] = 2019 - training['YearRemodAdd']"
   ]
  },
  {
   "cell_type": "code",
   "execution_count": 65,
   "metadata": {},
   "outputs": [],
   "source": [
    "#Convert year building was built/remodeled into a numeric Age (testing data set)\n",
    "testing['AgeBuilt'] = 2019 - testing['YearBuilt']\n",
    "testing['AgeRemodel'] = 2019 - testing['YearRemodAdd']"
   ]
  },
  {
   "cell_type": "code",
   "execution_count": 95,
   "metadata": {},
   "outputs": [],
   "source": [
    "#Normalization of 5 features: training\n",
    "training['NormLot'] = (training.LotArea - training.LotArea.mean())/training.LotArea.std()\n",
    "training['NormAgeBuilt'] = (training.AgeBuilt - training.AgeBuilt.mean())/training.AgeBuilt.std()\n",
    "training['NormAgeRemodel'] = (training.AgeRemodel - training.AgeRemodel.mean())/training.AgeRemodel.std()\n",
    "training['NormGrLivArea'] = (training.GrLivArea - training.GrLivArea.mean())/training.GrLivArea.std()\n",
    "training['NormGarageArea'] = (training.GarageArea - training.GarageArea.mean())/training.GarageArea.std()\n",
    "training['NormSalePrice'] = (training.SalePrice - training.SalePrice.mean())/training.SalePrice.std()"
   ]
  },
  {
   "cell_type": "code",
   "execution_count": 67,
   "metadata": {},
   "outputs": [],
   "source": [
    "#Normalization of 5 features: testing\n",
    "testing['NormLot'] = (testing.LotArea - testing.LotArea.mean())/testing.LotArea.std()\n",
    "testing['NormAgeBuilt'] = (testing.AgeBuilt - testing.AgeBuilt.mean())/testing.AgeBuilt.std()\n",
    "testing['NormAgeRemodel'] = (testing.AgeRemodel - testing.AgeRemodel.mean())/testing.AgeRemodel.std()\n",
    "testing['NormGrLivArea'] = (testing.GrLivArea - testing.GrLivArea.mean())/testing.GrLivArea.std()\n",
    "testing['NormGarageArea'] = (testing.GarageArea - testing.GarageArea.mean())/testing.GarageArea.std()\n",
    "#testing['NormSalePrice'] = (testing.SalePrice - testing.SalePrice.mean())/testing.SalePrice.std()"
   ]
  },
  {
   "cell_type": "code",
   "execution_count": 96,
   "metadata": {},
   "outputs": [],
   "source": [
    "#Training data // train_y could be SalePrice or NormSalePrice\n",
    "x_list = ['NormLot','NormAgeBuilt','NormAgeRemodel','NormGrLivArea','BsmtFullBath','BedroomAbvGr','KitchenAbvGr',\n",
    "         'GarageType','NormGarageArea','Kitchen','Fireplace','ExterQ','BsmtQ','HeatingQ','n_toilets','n_showers']\n",
    "train_x = training[x_list]\n",
    "train_y = training['NormSalePrice']  #You can use either SalePrice\n",
    "                                        #or NormSalePrice\n",
    "test_x = testing[x_list]"
   ]
  },
  {
   "cell_type": "code",
   "execution_count": 97,
   "metadata": {},
   "outputs": [
    {
     "name": "stdout",
     "output_type": "stream",
     "text": [
      "Intercept: -2.069814\n",
      "Coefficients: [ 0.11851697 -0.03723728 -0.01627426  0.45880504 -0.21986    -0.00745433\n",
      " -0.16752509 -0.07042929  0.1256408   0.18090248  0.04426596  0.34587918\n",
      "  0.10674586  0.02225071 -0.02200591  0.06188633]\n",
      "R^2: 0.833345\n"
     ]
    }
   ],
   "source": [
    "#Multilinear - Simple -- Unpenalized model i.e. lambda = 0\n",
    "from sklearn import linear_model\n",
    "ols = linear_model.LinearRegression()\n",
    "ols.fit(train_x, train_y)\n",
    "print(\"Intercept: %f\" %ols.intercept_)\n",
    "print(\"Coefficients: %s\" %str(ols.coef_))\n",
    "print(\"R^2: %f\" %(ols.score(train_x, train_y)))"
   ]
  },
  {
   "cell_type": "code",
   "execution_count": 70,
   "metadata": {},
   "outputs": [],
   "source": [
    "from sklearn.linear_model import LinearRegression, Ridge, Lasso, ElasticNet"
   ]
  },
  {
   "cell_type": "markdown",
   "metadata": {},
   "source": [
    "LASSO REGRESSION / COEFFICIENT ESTIMATES AT DIFFERENT ALPHA LEVELS"
   ]
  },
  {
   "cell_type": "code",
   "execution_count": 111,
   "metadata": {},
   "outputs": [
    {
     "data": {
      "text/html": [
       "<div>\n",
       "<style scoped>\n",
       "    .dataframe tbody tr th:only-of-type {\n",
       "        vertical-align: middle;\n",
       "    }\n",
       "\n",
       "    .dataframe tbody tr th {\n",
       "        vertical-align: top;\n",
       "    }\n",
       "\n",
       "    .dataframe thead th {\n",
       "        text-align: right;\n",
       "    }\n",
       "</style>\n",
       "<table border=\"1\" class=\"dataframe\">\n",
       "  <thead>\n",
       "    <tr style=\"text-align: right;\">\n",
       "      <th></th>\n",
       "      <th>NormLot</th>\n",
       "      <th>NormAgeBuilt</th>\n",
       "      <th>NormAgeRemodel</th>\n",
       "      <th>NormGrLivArea</th>\n",
       "      <th>BsmtFullBath</th>\n",
       "      <th>BedroomAbvGr</th>\n",
       "      <th>KitchenAbvGr</th>\n",
       "      <th>GarageType</th>\n",
       "      <th>NormGarageArea</th>\n",
       "      <th>Kitchen</th>\n",
       "      <th>Fireplace</th>\n",
       "      <th>ExterQ</th>\n",
       "      <th>BsmtQ</th>\n",
       "      <th>HeatingQ</th>\n",
       "      <th>n_toilets</th>\n",
       "      <th>n_showers</th>\n",
       "    </tr>\n",
       "  </thead>\n",
       "  <tbody>\n",
       "    <tr>\n",
       "      <th>0.100000</th>\n",
       "      <td>0.027993</td>\n",
       "      <td>-0.043093</td>\n",
       "      <td>-0.054045</td>\n",
       "      <td>0.413449</td>\n",
       "      <td>-0.0</td>\n",
       "      <td>0.0</td>\n",
       "      <td>-0.0</td>\n",
       "      <td>-0.0</td>\n",
       "      <td>0.145461</td>\n",
       "      <td>0.084375</td>\n",
       "      <td>0.077706</td>\n",
       "      <td>0.117407</td>\n",
       "      <td>0.077008</td>\n",
       "      <td>0.009189</td>\n",
       "      <td>0.0</td>\n",
       "      <td>0.0</td>\n",
       "    </tr>\n",
       "    <tr>\n",
       "      <th>0.142105</th>\n",
       "      <td>0.000000</td>\n",
       "      <td>-0.049567</td>\n",
       "      <td>-0.067345</td>\n",
       "      <td>0.414068</td>\n",
       "      <td>-0.0</td>\n",
       "      <td>0.0</td>\n",
       "      <td>-0.0</td>\n",
       "      <td>-0.0</td>\n",
       "      <td>0.148598</td>\n",
       "      <td>0.043539</td>\n",
       "      <td>0.086135</td>\n",
       "      <td>0.010786</td>\n",
       "      <td>0.063789</td>\n",
       "      <td>0.001194</td>\n",
       "      <td>0.0</td>\n",
       "      <td>0.0</td>\n",
       "    </tr>\n",
       "    <tr>\n",
       "      <th>0.184211</th>\n",
       "      <td>0.000000</td>\n",
       "      <td>-0.047385</td>\n",
       "      <td>-0.065810</td>\n",
       "      <td>0.401016</td>\n",
       "      <td>-0.0</td>\n",
       "      <td>0.0</td>\n",
       "      <td>-0.0</td>\n",
       "      <td>-0.0</td>\n",
       "      <td>0.138143</td>\n",
       "      <td>0.000000</td>\n",
       "      <td>0.088863</td>\n",
       "      <td>0.000000</td>\n",
       "      <td>0.042168</td>\n",
       "      <td>0.000000</td>\n",
       "      <td>0.0</td>\n",
       "      <td>0.0</td>\n",
       "    </tr>\n",
       "    <tr>\n",
       "      <th>0.226316</th>\n",
       "      <td>0.000000</td>\n",
       "      <td>-0.041071</td>\n",
       "      <td>-0.050656</td>\n",
       "      <td>0.383622</td>\n",
       "      <td>0.0</td>\n",
       "      <td>0.0</td>\n",
       "      <td>-0.0</td>\n",
       "      <td>-0.0</td>\n",
       "      <td>0.122434</td>\n",
       "      <td>0.000000</td>\n",
       "      <td>0.089276</td>\n",
       "      <td>0.000000</td>\n",
       "      <td>0.016395</td>\n",
       "      <td>0.000000</td>\n",
       "      <td>0.0</td>\n",
       "      <td>0.0</td>\n",
       "    </tr>\n",
       "    <tr>\n",
       "      <th>0.268421</th>\n",
       "      <td>0.000000</td>\n",
       "      <td>-0.031421</td>\n",
       "      <td>-0.033926</td>\n",
       "      <td>0.364572</td>\n",
       "      <td>0.0</td>\n",
       "      <td>0.0</td>\n",
       "      <td>-0.0</td>\n",
       "      <td>-0.0</td>\n",
       "      <td>0.106676</td>\n",
       "      <td>0.000000</td>\n",
       "      <td>0.089307</td>\n",
       "      <td>0.000000</td>\n",
       "      <td>0.000000</td>\n",
       "      <td>0.000000</td>\n",
       "      <td>0.0</td>\n",
       "      <td>0.0</td>\n",
       "    </tr>\n",
       "    <tr>\n",
       "      <th>0.310526</th>\n",
       "      <td>0.000000</td>\n",
       "      <td>-0.016038</td>\n",
       "      <td>-0.014440</td>\n",
       "      <td>0.342662</td>\n",
       "      <td>0.0</td>\n",
       "      <td>0.0</td>\n",
       "      <td>-0.0</td>\n",
       "      <td>-0.0</td>\n",
       "      <td>0.090769</td>\n",
       "      <td>0.000000</td>\n",
       "      <td>0.088655</td>\n",
       "      <td>0.000000</td>\n",
       "      <td>0.000000</td>\n",
       "      <td>0.000000</td>\n",
       "      <td>0.0</td>\n",
       "      <td>0.0</td>\n",
       "    </tr>\n",
       "    <tr>\n",
       "      <th>0.352632</th>\n",
       "      <td>0.000000</td>\n",
       "      <td>-0.000000</td>\n",
       "      <td>-0.000000</td>\n",
       "      <td>0.319843</td>\n",
       "      <td>0.0</td>\n",
       "      <td>0.0</td>\n",
       "      <td>-0.0</td>\n",
       "      <td>-0.0</td>\n",
       "      <td>0.073748</td>\n",
       "      <td>0.000000</td>\n",
       "      <td>0.087983</td>\n",
       "      <td>0.000000</td>\n",
       "      <td>0.000000</td>\n",
       "      <td>0.000000</td>\n",
       "      <td>0.0</td>\n",
       "      <td>0.0</td>\n",
       "    </tr>\n",
       "    <tr>\n",
       "      <th>0.394737</th>\n",
       "      <td>0.000000</td>\n",
       "      <td>-0.000000</td>\n",
       "      <td>-0.000000</td>\n",
       "      <td>0.292593</td>\n",
       "      <td>0.0</td>\n",
       "      <td>0.0</td>\n",
       "      <td>-0.0</td>\n",
       "      <td>-0.0</td>\n",
       "      <td>0.045996</td>\n",
       "      <td>0.000000</td>\n",
       "      <td>0.086901</td>\n",
       "      <td>0.000000</td>\n",
       "      <td>0.000000</td>\n",
       "      <td>0.000000</td>\n",
       "      <td>0.0</td>\n",
       "      <td>0.0</td>\n",
       "    </tr>\n",
       "    <tr>\n",
       "      <th>0.436842</th>\n",
       "      <td>0.000000</td>\n",
       "      <td>-0.000000</td>\n",
       "      <td>-0.000000</td>\n",
       "      <td>0.265344</td>\n",
       "      <td>0.0</td>\n",
       "      <td>0.0</td>\n",
       "      <td>-0.0</td>\n",
       "      <td>-0.0</td>\n",
       "      <td>0.018245</td>\n",
       "      <td>0.000000</td>\n",
       "      <td>0.085819</td>\n",
       "      <td>0.000000</td>\n",
       "      <td>0.000000</td>\n",
       "      <td>0.000000</td>\n",
       "      <td>0.0</td>\n",
       "      <td>0.0</td>\n",
       "    </tr>\n",
       "    <tr>\n",
       "      <th>0.478947</th>\n",
       "      <td>0.000000</td>\n",
       "      <td>-0.000000</td>\n",
       "      <td>-0.000000</td>\n",
       "      <td>0.233838</td>\n",
       "      <td>0.0</td>\n",
       "      <td>0.0</td>\n",
       "      <td>-0.0</td>\n",
       "      <td>-0.0</td>\n",
       "      <td>0.000000</td>\n",
       "      <td>0.000000</td>\n",
       "      <td>0.084088</td>\n",
       "      <td>0.000000</td>\n",
       "      <td>0.000000</td>\n",
       "      <td>0.000000</td>\n",
       "      <td>0.0</td>\n",
       "      <td>0.0</td>\n",
       "    </tr>\n",
       "  </tbody>\n",
       "</table>\n",
       "</div>"
      ],
      "text/plain": [
       "           NormLot  NormAgeBuilt  NormAgeRemodel  NormGrLivArea  BsmtFullBath  \\\n",
       "0.100000  0.027993     -0.043093       -0.054045       0.413449          -0.0   \n",
       "0.142105  0.000000     -0.049567       -0.067345       0.414068          -0.0   \n",
       "0.184211  0.000000     -0.047385       -0.065810       0.401016          -0.0   \n",
       "0.226316  0.000000     -0.041071       -0.050656       0.383622           0.0   \n",
       "0.268421  0.000000     -0.031421       -0.033926       0.364572           0.0   \n",
       "0.310526  0.000000     -0.016038       -0.014440       0.342662           0.0   \n",
       "0.352632  0.000000     -0.000000       -0.000000       0.319843           0.0   \n",
       "0.394737  0.000000     -0.000000       -0.000000       0.292593           0.0   \n",
       "0.436842  0.000000     -0.000000       -0.000000       0.265344           0.0   \n",
       "0.478947  0.000000     -0.000000       -0.000000       0.233838           0.0   \n",
       "\n",
       "          BedroomAbvGr  KitchenAbvGr  GarageType  NormGarageArea   Kitchen  \\\n",
       "0.100000           0.0          -0.0        -0.0        0.145461  0.084375   \n",
       "0.142105           0.0          -0.0        -0.0        0.148598  0.043539   \n",
       "0.184211           0.0          -0.0        -0.0        0.138143  0.000000   \n",
       "0.226316           0.0          -0.0        -0.0        0.122434  0.000000   \n",
       "0.268421           0.0          -0.0        -0.0        0.106676  0.000000   \n",
       "0.310526           0.0          -0.0        -0.0        0.090769  0.000000   \n",
       "0.352632           0.0          -0.0        -0.0        0.073748  0.000000   \n",
       "0.394737           0.0          -0.0        -0.0        0.045996  0.000000   \n",
       "0.436842           0.0          -0.0        -0.0        0.018245  0.000000   \n",
       "0.478947           0.0          -0.0        -0.0        0.000000  0.000000   \n",
       "\n",
       "          Fireplace    ExterQ     BsmtQ  HeatingQ  n_toilets  n_showers  \n",
       "0.100000   0.077706  0.117407  0.077008  0.009189        0.0        0.0  \n",
       "0.142105   0.086135  0.010786  0.063789  0.001194        0.0        0.0  \n",
       "0.184211   0.088863  0.000000  0.042168  0.000000        0.0        0.0  \n",
       "0.226316   0.089276  0.000000  0.016395  0.000000        0.0        0.0  \n",
       "0.268421   0.089307  0.000000  0.000000  0.000000        0.0        0.0  \n",
       "0.310526   0.088655  0.000000  0.000000  0.000000        0.0        0.0  \n",
       "0.352632   0.087983  0.000000  0.000000  0.000000        0.0        0.0  \n",
       "0.394737   0.086901  0.000000  0.000000  0.000000        0.0        0.0  \n",
       "0.436842   0.085819  0.000000  0.000000  0.000000        0.0        0.0  \n",
       "0.478947   0.084088  0.000000  0.000000  0.000000        0.0        0.0  "
      ]
     },
     "execution_count": 111,
     "metadata": {},
     "output_type": "execute_result"
    }
   ],
   "source": [
    "lasso  = Lasso()\n",
    "alphas = np.linspace(0.1,0.9,20)\n",
    "lasso.set_params(normalize=False)\n",
    "coefs_lasso  = []\n",
    "intercepts_lasso = []\n",
    "\n",
    "for alpha in alphas:\n",
    "    lasso.set_params(alpha=alpha)\n",
    "    lasso.fit(train_x, train_y)  \n",
    "    coefs_lasso.append(lasso.coef_)\n",
    "    intercepts_lasso.append(lasso.intercept_)\n",
    "        \n",
    "coefs_lasso = pd.DataFrame(coefs_lasso, index = alphas, columns = train_x.columns)  \n",
    "coefs_lasso.head(10)"
   ]
  },
  {
   "cell_type": "code",
   "execution_count": 112,
   "metadata": {},
   "outputs": [
    {
     "data": {
      "text/plain": [
       "<matplotlib.legend.Legend at 0x1a1a7f5748>"
      ]
     },
     "execution_count": 112,
     "metadata": {},
     "output_type": "execute_result"
    },
    {
     "data": {
      "image/png": "[encoded data removed]",
      "text/plain": [
       "<Figure size 432x288 with 1 Axes>"
      ]
     },
     "metadata": {
      "needs_background": "light"
     },
     "output_type": "display_data"
    }
   ],
   "source": [
    "for name in coefs_lasso.columns:\n",
    "    plt.plot(coefs_lasso.index, coefs_lasso[name], label=name)\n",
    "plt.xlabel(r'hyperparameter $\\lambda$')\n",
    "plt.ylabel(r'slope values')\n",
    "\n",
    "plt.legend()   "
   ]
  },
  {
   "cell_type": "code",
   "execution_count": 122,
   "metadata": {},
   "outputs": [
    {
     "name": "stdout",
     "output_type": "stream",
     "text": [
      "The coef of determination of ridge regression is: 0.8333\n"
     ]
    }
   ],
   "source": [
    "ridge = Ridge() # create a ridge regression instance\n",
    "ridge.set_params(normalize=False)\n",
    "ridge.fit(train_x, train_y) # fit data\n",
    "ridge.coef_, ridge.intercept_ # print out the coefficients\n",
    "print(\"The coef of determination of ridge regression is: %.4f\" %ridge.score(train_x, train_y))"
   ]
  },
  {
   "cell_type": "code",
   "execution_count": 150,
   "metadata": {},
   "outputs": [
    {
     "name": "stdout",
     "output_type": "stream",
     "text": [
      "0.8333449290193717\n",
      "0.8333449274658979\n",
      "0.8333449074477044\n",
      "0.8333446510005407\n",
      "0.8333414325441014\n",
      "0.8333036771513808\n",
      "0.8329345600523276\n",
      "0.8303093397045922\n",
      "0.8177197567190041\n",
      "0.780622357464946\n"
     ]
    }
   ],
   "source": [
    "ridge_scores_train = []\n",
    "lasso_scores_train = []\n",
    "#ridge_scores_test  = []\n",
    "#lasso_scores_test  = []\n",
    "\n",
    "alphas = np.logspace(-2, 3, 10)\n",
    "\n",
    "for alpha in alphas:\n",
    "    ridge.set_params(alpha=alpha, normalize=False)\n",
    "    lasso.set_params(alpha=alpha, normalize=False)\n",
    "    ridge.fit(train_x, train_y)\n",
    "    lasso.fit(train_x, train_y)\n",
    "    print(ridge.score(train_x,train_y))\n",
    "    ridge_scores_train.append(ridge.score(train_x, train_y))\n",
    "    #ridge_scores_test.append(ridge.score(X_test, Y_test))\n",
    "    lasso_scores_train.append(lasso.score(train_x, train_y))\n",
    "    #lasso_scores_test.append(lasso.score(X_test, Y_test))\n",
    "    \n",
    "ridge_scores_train = np.array(ridge_scores_train) \n",
    "#ridge_scores_test  = np.array(ridge_scores_test)\n",
    "lasso_scores_train = np.array(lasso_scores_train) \n",
    "#lasso_scores_test  = np.array(lasso_scores_test)"
   ]
  },
  {
   "cell_type": "code",
   "execution_count": 151,
   "metadata": {},
   "outputs": [
    {
     "data": {
      "text/plain": [
       "array([0.83334493, 0.83334493, 0.83334491, 0.83334465, 0.83334143,\n",
       "       0.83330368, 0.83293456, 0.83030934, 0.81771976, 0.78062236])"
      ]
     },
     "execution_count": 151,
     "metadata": {},
     "output_type": "execute_result"
    },
    {
     "data": {
      "image/png": "[encoded data removed]",
      "text/plain": [
       "<Figure size 432x288 with 1 Axes>"
      ]
     },
     "metadata": {
      "needs_background": "light"
     },
     "output_type": "display_data"
    }
   ],
   "source": [
    "plt.plot(alphas, ridge_scores_train, label=r'$train\\ R^2$')\n",
    "#plt.plot(alphas, ridge_scores_test, label=r'$test\\ R^2$')\n",
    "plt.legend(loc=1)\n",
    "plt.title(r'Ridge Train $R^2$')\n",
    "#ridge_underfit = ridge_scores_train < ridge_scores_test\n",
    "#last_underfit  = np.max(alphas[ridge_underfit])\n",
    "#plt.axvline(last_underfit, linestyle='--', color='g', label='optimal lambda', alpha=0.4)\n",
    "plt.legend(loc=1)\n",
    "plt.xlabel(r'hyperparameter $\\lambda$')\n",
    "plt.ylabel(r'$R^2$')\n",
    "ridge_scores_train"
   ]
  },
  {
   "cell_type": "code",
   "execution_count": 117,
   "metadata": {},
   "outputs": [
    {
     "data": {
      "text/plain": [
       "Text(0,0.5,'$R^2$')"
      ]
     },
     "execution_count": 117,
     "metadata": {},
     "output_type": "execute_result"
    },
    {
     "data": {
      "image/png": "[encoded data removed]",
      "text/plain": [
       "<Figure size 432x288 with 1 Axes>"
      ]
     },
     "metadata": {
      "needs_background": "light"
     },
     "output_type": "display_data"
    }
   ],
   "source": [
    "plt.plot(alphas, lasso_scores_train, label=r'$train\\ R^2$')\n",
    "#plt.plot(alphas, lasso_scores_test, label=r'$test\\ R^2$')\n",
    "plt.title(r'Lasso Train $R^2$ Comparison')\n",
    "#lasso_underfit = lasso_scores_train < lasso_scores_test\n",
    "#last_underfit  = np.max(alphas[lasso_underfit])\n",
    "#plt.axvline(last_underfit, linestyle='--', color='g', label='optimal lambda', alpha=0.4)\n",
    "plt.legend(loc=1)\n",
    "plt.xlabel(r'hyperparameter $\\lambda$')\n",
    "plt.ylabel(r'$R^2$')"
   ]
  },
  {
   "cell_type": "code",
   "execution_count": 143,
   "metadata": {},
   "outputs": [
    {
     "data": {
      "text/plain": [
       "array([0.78345418, 0.75205883, 0.7231708 , 0.69954162, 0.67210427,\n",
       "       0.641538  , 0.60861514, 0.57181886, 0.53692683, 0.50286325])"
      ]
     },
     "execution_count": 143,
     "metadata": {},
     "output_type": "execute_result"
    }
   ],
   "source": [
    "lasso_scores_train"
   ]
  },
  {
   "cell_type": "code",
   "execution_count": 144,
   "metadata": {},
   "outputs": [
    {
     "data": {
      "text/plain": [
       "array([0.83334492, 0.83334491, 0.83334489, 0.83334488, 0.83334486,\n",
       "       0.83334484, 0.83334481, 0.83334479, 0.83334476, 0.83334472])"
      ]
     },
     "execution_count": 144,
     "metadata": {},
     "output_type": "execute_result"
    }
   ],
   "source": [
    "ridge_scores_train"
   ]
  },
  {
   "cell_type": "code",
   "execution_count": null,
   "metadata": {},
   "outputs": [],
   "source": []
  }
 ],
 "metadata": {
  "kernelspec": {
   "display_name": "Python 3",
   "language": "python",
   "name": "python3"
  },
  "language_info": {
   "codemirror_mode": {
    "name": "ipython",
    "version": 3
   },
   "file_extension": ".py",
   "mimetype": "text/x-python",
   "name": "python",
   "nbconvert_exporter": "python",
   "pygments_lexer": "ipython3",
   "version": "3.7.2"
  }
 },
 "nbformat": 4,
 "nbformat_minor": 2
}
