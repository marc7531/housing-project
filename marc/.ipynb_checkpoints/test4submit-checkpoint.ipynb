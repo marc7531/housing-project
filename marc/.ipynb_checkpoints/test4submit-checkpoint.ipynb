{
 "cells": [
  {
   "cell_type": "code",
   "execution_count": 1,
   "metadata": {},
   "outputs": [],
   "source": [
    "# Import modules\n",
    "import pandas as pd\n",
    "import numpy as np\n",
    "import scipy\n",
    "from scipy import stats\n",
    "import matplotlib.pyplot as plt\n",
    "import matplotlib as mpl\n",
    "from sklearn import preprocessing\n",
    "from sklearn import linear_model\n",
    "from sklearn.metrics import mean_squared_error\n",
    "from sklearn.metrics import r2_score"
   ]
  },
  {
   "cell_type": "code",
   "execution_count": 2,
   "metadata": {},
   "outputs": [],
   "source": [
    "final = pd.read_csv('../../data/test_clean.csv', index_col=0)\n",
    "train = pd.read_csv('../../data/train_clean.csv', index_col=0)"
   ]
  },
  {
   "cell_type": "code",
   "execution_count": 3,
   "metadata": {},
   "outputs": [],
   "source": [
    "final['Age'] = 2019 - final['YearBuilt']\n",
    "final_cont = final[['LotArea','Age','GarageArea']]\n",
    "final_categ = final[['BsmtFullBath','KitchenAbvGr','GarageType','Kitchen','Fireplace','ExterQ',\n",
    "                    'BsmtQ','HeatingQ','n_toilets']] #remove n_showers"
   ]
  },
  {
   "cell_type": "code",
   "execution_count": 4,
   "metadata": {},
   "outputs": [],
   "source": [
    "train['Age'] = 2019 - train['YearBuilt']\n",
    "train_cont = train[['LotArea','Age','GarageArea']]"
   ]
  },
  {
   "cell_type": "code",
   "execution_count": 5,
   "metadata": {},
   "outputs": [],
   "source": [
    "# boxcox and normalize dataframes with sklearn.stats\n",
    "def make_boxed_normal(df):\n",
    "    new_dict = {}\n",
    "    logs = []\n",
    "    devs = []\n",
    "    means = []\n",
    "    cols = df.columns\n",
    "    for name in cols: \n",
    "        key = 'norm_' + name\n",
    "        arr = np.array(df[name]) + 1\n",
    "        arr, log_num = stats.boxcox(arr)\n",
    "        upper = arr.max()\n",
    "        lower = arr.min()\n",
    "        value = (arr-lower)/(upper-lower)\n",
    "        new_dict[key] = value\n",
    "        logs.append(log_num)\n",
    "        devs.append(np.std(arr))\n",
    "        means.append(np.mean(arr))\n",
    "        \n",
    "    return pd.DataFrame(new_dict), logs, devs, means"
   ]
  },
  {
   "cell_type": "code",
   "execution_count": 6,
   "metadata": {},
   "outputs": [],
   "source": [
    "train_norm, logs,devs,means = make_boxed_normal(train_cont)"
   ]
  },
  {
   "cell_type": "code",
   "execution_count": 7,
   "metadata": {},
   "outputs": [],
   "source": [
    "train_categ = train[['BsmtFullBath','KitchenAbvGr','GarageType','Kitchen','Fireplace','ExterQ',\n",
    "                    'BsmtQ','HeatingQ','n_toilets']] #remove n_showers"
   ]
  },
  {
   "cell_type": "code",
   "execution_count": 8,
   "metadata": {},
   "outputs": [],
   "source": [
    "#We will pass into here the test data + log_list with lambdas from training data\n",
    "\n",
    "def normalize_test(df, mean_arr, std_arr, log_list):\n",
    "    new_dict = {}\n",
    "    cols = df.columns\n",
    "    i = 0\n",
    "    for name in cols: \n",
    "        key = 'test_norm_' + name\n",
    "        arr = np.array(df[name]) + 1 \n",
    "        tempnum = log_list[i]\n",
    "        print(tempnum)\n",
    "        arr = stats.boxcox(arr, lmbda = tempnum)\n",
    "        upper = arr.max()\n",
    "        lower = arr.min()\n",
    "        value = (arr-mean_arr[i])/(std_arr[i])\n",
    "        print('Iter=',i)\n",
    "        new_dict[key] = value\n",
    "        i += 1\n",
    "     \n",
    "    return pd.DataFrame(new_dict)"
   ]
  },
  {
   "cell_type": "code",
   "execution_count": 9,
   "metadata": {},
   "outputs": [
    {
     "name": "stdout",
     "output_type": "stream",
     "text": [
      "0.39726927868822215\n",
      "Iter= 0\n",
      "0.22006264293977928\n",
      "Iter= 1\n",
      "0.8207705726888868\n",
      "Iter= 2\n"
     ]
    }
   ],
   "source": [
    "final_norm = normalize_test(final_cont,means,devs,logs)"
   ]
  },
  {
   "cell_type": "code",
   "execution_count": 10,
   "metadata": {},
   "outputs": [
    {
     "data": {
      "text/plain": [
       "0"
      ]
     },
     "execution_count": 10,
     "metadata": {},
     "output_type": "execute_result"
    }
   ],
   "source": [
    "#FUNCTION TO LOG & TRANSFORM GrLivArea\n",
    "def make_log(df):\n",
    "    new_dict = {}\n",
    "    cols = df.columns\n",
    "    for name in cols: \n",
    "        key = 'log_' + name\n",
    "        arr = np.array(df[name])\n",
    "        value = (np.log(arr + 1) - arr.mean())/ arr.std()\n",
    "        new_dict[key] = value\n",
    "     \n",
    "    return pd.DataFrame(new_dict)\n",
    "\n",
    "temp = make_log(train[['GrLivArea']])\n",
    "\n",
    "temp.iloc[0].isnull().sum()"
   ]
  },
  {
   "cell_type": "code",
   "execution_count": 11,
   "metadata": {},
   "outputs": [],
   "source": [
    "final_norm.reset_index(drop=True, inplace=True)\n",
    "final_categ.reset_index(drop=True, inplace=True)\n",
    "final_combo = pd.concat([final_norm,final_categ],axis=1)\n",
    "final_templog = make_log(final[['GrLivArea']])\n",
    "\n",
    "##Transforming the GrLivArea in Final-Test Data Set with LOG:\n",
    "x = final['GrLivArea'] \n",
    "mnGrLivArea = np.log(train.GrLivArea).mean()\n",
    "stdGrLivArea = np.log(train.GrLivArea).std()\n",
    "final_combo['LogLivArea'] = final_templog"
   ]
  },
  {
   "cell_type": "code",
   "execution_count": 12,
   "metadata": {},
   "outputs": [],
   "source": [
    "train_norm.reset_index(drop=True, inplace=True)\n",
    "train_categ.reset_index(drop=True, inplace=True)\n",
    "train_combo = pd.concat([train_norm,train_categ],axis=1)\n",
    "train_templog = make_log(train[['GrLivArea']])\n",
    "\n",
    "#Transforming the GrLivArea in Training Data Set with LOG:\n",
    "y = train['GrLivArea'] \n",
    "mnGrLivArea = np.log(train.GrLivArea).mean()\n",
    "stdGrLivArea = np.log(train.GrLivArea).std()\n",
    "train_combo['LogLivArea'] = train_templog"
   ]
  },
  {
   "cell_type": "code",
   "execution_count": 13,
   "metadata": {},
   "outputs": [
    {
     "data": {
      "text/plain": [
       "LinearRegression(copy_X=True, fit_intercept=True, n_jobs=1, normalize=False)"
      ]
     },
     "execution_count": 13,
     "metadata": {},
     "output_type": "execute_result"
    }
   ],
   "source": [
    "multi = linear_model.LinearRegression()\n",
    "train_price = make_boxed_normal(train[['SalePrice']]-37800)\n",
    "multi.fit(X=train_combo, y=train_price[0])"
   ]
  },
  {
   "cell_type": "code",
   "execution_count": 14,
   "metadata": {},
   "outputs": [],
   "source": [
    "pricepredict = multi.predict(final_combo)"
   ]
  },
  {
   "cell_type": "code",
   "execution_count": 15,
   "metadata": {},
   "outputs": [
    {
     "data": {
      "text/plain": [
       "[94.95626602505818]"
      ]
     },
     "execution_count": 15,
     "metadata": {},
     "output_type": "execute_result"
    }
   ],
   "source": [
    "#To transform these predictions back to price\n",
    "#logs, devs, means = 1,2,3 of the object \n",
    "train_price[1] #=logs\n",
    "train_price[2] #=deviation\n",
    "train_price[3] #=means\n",
    "#You multiply by the standard deviation, add back the mean.\n",
    "#And then un-BoxCox it using the hyperparamter"
   ]
  },
  {
   "cell_type": "code",
   "execution_count": 16,
   "metadata": {},
   "outputs": [],
   "source": [
    "pricepredict = (pricepredict * train_price[2])+train_price[3]\n",
    "lmbda = train_price[1]\n",
    "adjprice = scipy.special.inv_boxcox(pricepredict, lmbda)"
   ]
  },
  {
   "cell_type": "code",
   "execution_count": 17,
   "metadata": {},
   "outputs": [
    {
     "data": {
      "text/plain": [
       "array([[3836780.90479961],\n",
       "       [3834433.38312399],\n",
       "       [3950974.06897165],\n",
       "       ...,\n",
       "       [4015746.84426903],\n",
       "       [3627045.92552471],\n",
       "       [3907271.66183868]])"
      ]
     },
     "execution_count": 17,
     "metadata": {},
     "output_type": "execute_result"
    }
   ],
   "source": [
    "adjprice"
   ]
  },
  {
   "cell_type": "code",
   "execution_count": 18,
   "metadata": {},
   "outputs": [
    {
     "data": {
      "text/plain": [
       "3807701.0444092136"
      ]
     },
     "execution_count": 18,
     "metadata": {},
     "output_type": "execute_result"
    }
   ],
   "source": [
    "adjprice.mean()"
   ]
  },
  {
   "cell_type": "code",
   "execution_count": null,
   "metadata": {},
   "outputs": [],
   "source": []
  }
 ],
 "metadata": {
  "kernelspec": {
   "display_name": "Python 3",
   "language": "python",
   "name": "python3"
  },
  "language_info": {
   "codemirror_mode": {
    "name": "ipython",
    "version": 3
   },
   "file_extension": ".py",
   "mimetype": "text/x-python",
   "name": "python",
   "nbconvert_exporter": "python",
   "pygments_lexer": "ipython3",
   "version": "3.7.2"
  }
 },
 "nbformat": 4,
 "nbformat_minor": 2
}
