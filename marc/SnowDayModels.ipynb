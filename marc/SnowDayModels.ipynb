{
 "cells": [
  {
   "cell_type": "code",
   "execution_count": 114,
   "metadata": {},
   "outputs": [],
   "source": [
    "# Import modules\n",
    "import pandas as pd\n",
    "import numpy as np\n",
    "from scipy import stats\n",
    "import matplotlib.pyplot as plt\n",
    "import matplotlib as mpl\n",
    "from sklearn import preprocessing\n",
    "from sklearn import linear_model\n",
    "from sklearn.metrics import mean_squared_error\n",
    "from sklearn.metrics import r2_score"
   ]
  },
  {
   "cell_type": "code",
   "execution_count": 203,
   "metadata": {},
   "outputs": [],
   "source": [
    "pd.set_option('display.max_columns', 500)"
   ]
  },
  {
   "cell_type": "code",
   "execution_count": 204,
   "metadata": {},
   "outputs": [],
   "source": [
    "# Import training data\n",
    "train = pd.read_csv('../../data/train.csv', index_col=0)"
   ]
  },
  {
   "cell_type": "code",
   "execution_count": 205,
   "metadata": {},
   "outputs": [],
   "source": [
    "def make_num_flex(val, rating_system):\n",
    "    if val in rating_system:\n",
    "        return int(len(rating_system) - 1 - rating_system.index(val))\n",
    "    return 0\n",
    "\n",
    "def make_boxed_normal(df):\n",
    "    new_dict = {}\n",
    "    logs = []\n",
    "    devs = []\n",
    "    means = []\n",
    "    cols = df.columns\n",
    "    for name in cols: \n",
    "        key = 'norm_' + name\n",
    "        arr = np.array(df[name]) + 1\n",
    "        arr, log_num = stats.boxcox(arr)\n",
    "        upper = arr.max()\n",
    "        lower = arr.min()\n",
    "        \n",
    "        value = (arr-np.mean(arr))/(np.std(arr))\n",
    "        print (arr)\n",
    "        new_dict[key] = value\n",
    "        logs.append(log_num)\n",
    "        devs.append(np.std(arr))\n",
    "        means.append(np.mean(arr))\n",
    "        \n",
    "    return pd.DataFrame(new_dict), logs, devs, means"
   ]
  },
  {
   "cell_type": "code",
   "execution_count": 206,
   "metadata": {},
   "outputs": [],
   "source": [
    "# Filter out commercial properties\n",
    "MSZoningMask = (train.MSZoning=='A') | (train.MSZoning=='C') | (train.MSZoning=='I') | (train.MSZoning=='C (all)')\n",
    "train = train[~MSZoningMask]\n",
    "\n",
    "# Drop NAs\n",
    "train = train.fillna(value=0)\n",
    "\n",
    "# Convert ordinals into numbers \n",
    "ord_list = ['KitchenQual', 'FireplaceQu', 'GarageQual', 'GarageCond', \n",
    " 'ExterQual', 'ExterCond', 'BsmtQual', 'BsmtCond', 'HeatingQC',\n",
    "'PoolQC', 'GarageType', 'Street', 'LandContour', 'Utilities', \n",
    "'SaleType', 'PavedDrive', 'GarageFinish', 'Functional', 'SaleCondition',\n",
    "'Electrical', 'CentralAir', 'Heating', 'BsmtExposure', 'Foundation',\n",
    "'MasVnrType', 'LandSlope', 'RoofMatl', 'Alley']\n",
    "\n",
    "for item in ord_list:\n",
    "\n",
    "    train[item] = train[item].astype('category')\n",
    "    cat_columns = train.select_dtypes(['category']).columns\n",
    "    train[cat_columns] = train[cat_columns].apply(lambda x: x.cat.codes)\n",
    "    \n",
    "# Create flag for irregular lot shape\n",
    "train['LotShape'] = [1 if x == 'Reg' else 0 for x in train['LotShape']]\n",
    "\n",
    "# # Dummify Remaining columns\n",
    "\n",
    "drop_list = ['MSSubClass', 'MSZoning', #'BsmtFinType1', 'BsmtFinType2',\n",
    "            'BldgType','HouseStyle', 'Condition1', 'Condition2',\n",
    "            'Neighborhood', 'LotConfig', 'RoofStyle', 'MoSold', 'YrSold',\n",
    "            'Exterior1st', 'Exterior2nd','MiscFeature','Fence']\n",
    "\n",
    "for item in drop_list:\n",
    "    dummies = pd.get_dummies(train[item]).rename(columns=lambda x: item + str(x))\n",
    "    train = pd.concat([train, dummies], axis=1)    \n",
    "\n",
    "train = train.drop(drop_list, axis=1)\n",
    "\n",
    "# Convert years to ages\n",
    "train['YearBuilt'] = 2019 - train['YearBuilt']\n",
    "train['YearRemodAdd'] = 2019 - train['YearRemodAdd']\n",
    "train['GarageYrBlt'] = 2019 - train['GarageYrBlt']"
   ]
  },
  {
   "cell_type": "code",
   "execution_count": 207,
   "metadata": {},
   "outputs": [],
   "source": [
    "# Separate price and drop\n",
    "train_price = train['SalePrice']\n",
    "train = train.drop('SalePrice', axis=1)"
   ]
  },
  {
   "cell_type": "markdown",
   "metadata": {},
   "source": [
    "**Additional Modification *****************************************************************\n",
    "\n",
    "Section 1) Separate toilets (half baths) and showers\n",
    "Section 2) Basements: Total number of livable (spaces) in the basement (1,2)\n",
    "            + Basements: Division of actual square footage into good/low quality space\n",
    "            + Creation of GrLivArea\n",
    "Section 3) Combine Porch Square Footage & create Rec Space\n",
    "Section 4) Drop additional columns"
   ]
  },
  {
   "cell_type": "code",
   "execution_count": 208,
   "metadata": {},
   "outputs": [],
   "source": [
    "# Section 1: create list for subset of data the includes the word bath \n",
    "all_bathrooms = [x for x in train.columns if \"Bath\" in  x]\n",
    "\n",
    "# create list for subset of data that tell us the number of showers\n",
    "with_shower = [x for x in all_bathrooms if 'Full' in x]\n",
    "\n",
    "train['n_toilets'] = np.sum(train[all_bathrooms], axis=1)\n",
    "train['n_showers'] = np.sum(train[with_shower], axis =1)"
   ]
  },
  {
   "cell_type": "code",
   "execution_count": 209,
   "metadata": {},
   "outputs": [],
   "source": [
    "# Section 2: Basement \n",
    "\n",
    "#Livible ratings -- Binomial Flag (1,2) depending on whether the basement space is livable or not\n",
    "rates = ['GLQ', 'ALQ', 'BLQ']\n",
    "# counts livible basements in fintype1\n",
    "train['Basement1'] = [1 if x in rates else 0 for x in train['BsmtFinType1']]\n",
    "# counts livible basements in fintype2\n",
    "train['Basement2'] = [1 if x in rates  else 0 for x in train['BsmtFinType2']]\n",
    "# combines the livible area\n",
    "train['Basement'] = train['Basement1'].values + train['Basement2'].values\n",
    "# counts livible basement as present when there's two types\n",
    "train['Basement'] = train['Basement'].replace(2,1) \n",
    "\n",
    "train['lowqualbsmt1'] = train['BsmtFinSF1'] * train['Basement1']\n",
    "train['lowqualbsmt2'] = train['BsmtFinSF2'] * train['Basement2']\n",
    "train['goodbsmt1'] = train['BsmtFinSF1'] * train['Basement1']\n",
    "train['goodbsmt2'] = train['BsmtFinSF2'] * train['Basement2']\n",
    "\n",
    "train['GrLivArea'] = train['GrLivArea'] + train['goodbsmt1'] + train['goodbsmt2']"
   ]
  },
  {
   "cell_type": "code",
   "execution_count": 210,
   "metadata": {},
   "outputs": [],
   "source": [
    "# Section 3: combine porch/deck areas & create RecSpace\n",
    "train['PorchFT'] = train['WoodDeckSF'] + train['OpenPorchSF'] + train['EnclosedPorch'] + train['3SsnPorch'] + train['ScreenPorch']\n",
    "\n",
    "# Flag the exsistance of a porch\n",
    "train['PorchYN'] = [0 if x==0 else 1 for x in train['PorchFT']]\n",
    "\n",
    "# Create the Rec space variable as the sum of deck area and rough basement\n",
    "train['RecSpaceFt'] = train['PorchFT'] + train['lowqualbsmt1'] + train['lowqualbsmt2']"
   ]
  },
  {
   "cell_type": "code",
   "execution_count": 211,
   "metadata": {},
   "outputs": [],
   "source": [
    "# Section 4: drops extra columns. Overwrites existing table \n",
    "train = train.drop(['Basement1', 'Basement2', 'BsmtFinType1', 'lowqualbsmt1','lowqualbsmt2','goodbsmt1', 'goodbsmt2', 'BsmtFinSF1', 'BsmtFinType2', 'BsmtFinSF2', 'LowQualFinSF', 'PorchFT', 'PorchYN', 'WoodDeckSF', 'OpenPorchSF', 'EnclosedPorch', '3SsnPorch', 'ScreenPorch'], axis = 1)"
   ]
  },
  {
   "cell_type": "code",
   "execution_count": 212,
   "metadata": {},
   "outputs": [
    {
     "data": {
      "text/plain": [
       "Index(['LotFrontage', 'LotArea', 'Street', 'Alley', 'LotShape', 'LandContour',\n",
       "       'Utilities', 'LandSlope', 'OverallQual', 'OverallCond',\n",
       "       ...\n",
       "       'MiscFeatureTenC', 'Fence0', 'FenceGdPrv', 'FenceGdWo', 'FenceMnPrv',\n",
       "       'FenceMnWw', 'n_toilets', 'n_showers', 'Basement', 'RecSpaceFt'],\n",
       "      dtype='object', length=201)"
      ]
     },
     "execution_count": 212,
     "metadata": {},
     "output_type": "execute_result"
    }
   ],
   "source": [
    "train.columns"
   ]
  },
  {
   "cell_type": "markdown",
   "metadata": {},
   "source": [
    "*** FILTER OUT ROWS WITH OUTLIERS -- NOT TO BE DONE WITH TEST DATA ***"
   ]
  },
  {
   "cell_type": "code",
   "execution_count": 213,
   "metadata": {},
   "outputs": [],
   "source": [
    "train = train[~(train['LotArea'] > 50000)]\n",
    "train = train[~(train['GrLivArea'] > 6000)]"
   ]
  },
  {
   "cell_type": "markdown",
   "metadata": {},
   "source": [
    "**SEPARATE TRAIN INTO CONTINUOUS & ALL OTHER FOR PURPOSES OF TRANSFORMATION"
   ]
  },
  {
   "cell_type": "code",
   "execution_count": 214,
   "metadata": {},
   "outputs": [],
   "source": [
    "continuous_varlist = ['YearBuilt','YearRemodAdd','LotArea','LotFrontage','GrLivArea','GarageArea']\n",
    "train_cont = train[continuous_varlist]\n",
    "train_other = train[train.columns.difference(continuous_varlist)]"
   ]
  },
  {
   "cell_type": "code",
   "execution_count": 215,
   "metadata": {},
   "outputs": [
    {
     "name": "stdout",
     "output_type": "stream",
     "text": [
      "[3.93259214 5.90583755 4.14263436 ... 7.34224395 7.03003521 6.43179868]\n",
      "[2.47020679 3.15557143 2.51325026 ... 2.32216222 2.72622739 3.30724749]\n",
      "[88.88466171 93.63673908 99.88961533 ... 91.37651357 94.10054238\n",
      " 94.96362037]\n",
      "[31.09793206 36.60768328 32.22144616 ... 31.47373455 32.22144616\n",
      " 34.7998865 ]\n",
      "[11.4662317  11.31006004 11.33926314 ... 11.63085028  9.94149209\n",
      " 11.16400515]\n",
      "[214.72436143 185.87808688 233.91277455 ... 113.11916884 108.64874634\n",
      " 121.94845642]\n"
     ]
    }
   ],
   "source": [
    "train_norm, logs,devs,means = make_boxed_normal(train_cont)"
   ]
  },
  {
   "cell_type": "code",
   "execution_count": 216,
   "metadata": {},
   "outputs": [],
   "source": [
    "train_norm.reset_index(drop=True, inplace=True)\n",
    "train_other.reset_index(drop=True, inplace=True)\n",
    "train = pd.concat([train_norm,train_other],axis=1)"
   ]
  },
  {
   "cell_type": "code",
   "execution_count": 237,
   "metadata": {},
   "outputs": [
    {
     "name": "stdout",
     "output_type": "stream",
     "text": [
      "[False False False False False False False False False False False False\n",
      " False False False False False False False False False False False False\n",
      " False False False False False False False False  True  True  True  True\n",
      "  True False  True  True False False False False False False False False\n",
      " False False False False False False False False False False False False\n",
      " False False False False False False False False False False False False\n",
      " False False  True  True  True  True  True False False False False False\n",
      " False False False False False False False False False False False False\n",
      " False False False False False False False False False False False False\n",
      " False False False  True  True False  True  True  True False False False\n",
      "  True  True  True  True False False False False False False False False\n",
      "  True  True  True  True False False False False False False False False\n",
      " False False False False False False False False False False False False\n",
      " False False False False False False False False False False False False\n",
      " False False False False False False False False False False False False\n",
      " False False False False False False False False False False False False\n",
      " False False False False False False False False False]\n",
      "[128 155 135 150 145 127 163 170 121 136 133 110 109 108 112 111 131 146\n",
      "  38  50 137 166 120 104 101 102 100 106  99 103 107 105   1   1   1   1\n",
      "   1 173   1   1 139 168 140  67  71  59  68 174  66  63  70  62  64  58\n",
      "  60  65  61  69  92  95  90  88 175  87  91  94  96  84  85  98  93  86\n",
      "  89  97   1   1   1   1   1 162 144 129  40 157 126 123 134 124 149 169\n",
      "  52 147 158 115 141 117 132 161 116 114 118 119 151 153 154  47  48  45\n",
      "  49  46 125   1   1   7   1   1   1   4   3   2   1   1   1   1   6   5\n",
      "  41  43  44  42 167 160   1   1   1   1 176 171  75  82  77  81  76  80\n",
      "  73  83  74  72  79  78   8  32  31  10  14  21  29  24  13  15  11  30\n",
      "  20   9  16  12  28  27  26  19  17  23  18  22  25 152 142 122 159 138\n",
      " 164 172  54  55  56  53  57 177 143 148 130 156 165 113  36  34  33  35\n",
      "  37  39  51]\n"
     ]
    }
   ],
   "source": [
    "# Recursive Feature Elimination\n",
    "\n",
    "from sklearn.feature_selection import RFE\n",
    "from sklearn.linear_model import LinearRegression\n",
    "\n",
    "train_x = train[0:1200]\n",
    "train_y = train_price[0:1200]\n",
    "\n",
    "# create a base classifier used to evaluate a subset of attributes\n",
    "model = LinearRegression()\n",
    "# create the RFE model and select 25 attributes\n",
    "rfe = RFE(model, 25)\n",
    "rfe = rfe.fit(train_x, train_y)\n",
    "# summarize the selection of the attributes\n",
    "#print(rfe.support_)\n",
    "#print(rfe.ranking_)\n",
    "\n",
    "df = train[train.columns[rfe.support_]]\n"
   ]
  },
  {
   "cell_type": "code",
   "execution_count": 235,
   "metadata": {},
   "outputs": [
    {
     "data": {
      "text/plain": [
       "Text(0,0.5,'$R^2$')"
      ]
     },
     "execution_count": 235,
     "metadata": {},
     "output_type": "execute_result"
    },
    {
     "data": {
      "image/png": "[encoded data removed]",
      "text/plain": [
       "<matplotlib.figure.Figure at 0x114503f98>"
      ]
     },
     "metadata": {
      "needs_background": "light"
     },
     "output_type": "display_data"
    }
   ],
   "source": [
    "# Woo doggies\n",
    "from sklearn.linear_model import Lasso\n",
    "\n",
    "train_x = df[0:1200]\n",
    "test_x = df[1200:1400]\n",
    "\n",
    "# Split the targets into training/testing sets\n",
    "train_y = train_price[0:1200]\n",
    "test_y = train_price[1200:1400]\n",
    "\n",
    "# create a ridge regression instance\n",
    "lasso = Lasso()\n",
    "\n",
    "lasso_scores_train = []\n",
    "lasso_scores_test = []\n",
    "coefs_lasso  = []\n",
    "intercepts_lasso = []\n",
    "\n",
    "alphas = np.linspace(0.1, 2500, 250)\n",
    "\n",
    "for alpha in alphas:\n",
    "    lasso.set_params(alpha=alpha,normalize=True)\n",
    "    lasso.fit(train_x, train_y)\n",
    "    lasso_scores_train.append(lasso.score(train_x, train_y))\n",
    "    lasso_scores_test.append(lasso.score(test_x, test_y))\n",
    "    coefs_lasso.append(lasso.coef_)\n",
    "    intercepts_lasso.append(lasso.intercept_)\n",
    "\n",
    "    \n",
    "lasso_scores_train = np.array(lasso_scores_train)\n",
    "lasso_scores_test = np.array(lasso_scores_test)\n",
    "\n",
    "plt.plot(alphas, lasso_scores_train, label=r'$train\\ R^2$')\n",
    "plt.plot(alphas, lasso_scores_test, label=r'$test\\ R^2$')\n",
    "plt.legend(loc=1)\n",
    "plt.title(r'Lasso Train-Test $R^2$ Comparison')\n",
    "\n",
    "plt.xlabel(r'hyperparameter $\\lambda$')\n",
    "plt.ylabel(r'$R^2$')"
   ]
  },
  {
   "cell_type": "code",
   "execution_count": 200,
   "metadata": {},
   "outputs": [
    {
     "data": {
      "image/png": "[encoded data removed]",
      "text/plain": [
       "<matplotlib.figure.Figure at 0x1179afe80>"
      ]
     },
     "metadata": {
      "needs_background": "light"
     },
     "output_type": "display_data"
    }
   ],
   "source": [
    "coefs_lasso = pd.DataFrame(coefs_lasso, index = alphas, columns = train_x.columns)  \n",
    "\n",
    "for name in coefs_lasso.columns:\n",
    "    plt.plot(coefs_lasso.index, coefs_lasso[name], label=name)\n",
    "plt.xlabel(r'hyperparameter $\\lambda$')\n",
    "plt.ylabel(r'slope values')\n",
    "plt.show()\n"
   ]
  },
  {
   "cell_type": "code",
   "execution_count": 201,
   "metadata": {},
   "outputs": [
    {
     "data": {
      "image/png": "[encoded data removed]",
      "text/plain": [
       "<matplotlib.figure.Figure at 0x113ce8898>"
      ]
     },
     "metadata": {
      "needs_background": "light"
     },
     "output_type": "display_data"
    }
   ],
   "source": [
    "coefs_lasso = pd.DataFrame(coefs_lasso, index = alphas, columns = train_x.columns)  \n",
    "\n",
    "for name in coefs_lasso.columns:\n",
    "    plt.plot(coefs_lasso.index, coefs_lasso[name], label=name)\n",
    "plt.xlabel(r'hyperparameter $\\lambda$')\n",
    "plt.ylabel(r'slope values')\n",
    "\n",
    "plt.xlim(0, 1000)\n",
    "plt.ylim(-20000, 50000)\n",
    "\n",
    "plt.show()\n"
   ]
  },
  {
   "cell_type": "code",
   "execution_count": null,
   "metadata": {},
   "outputs": [],
   "source": [
    "# Wow, model doesn't converge, we must not have overfit, lol"
   ]
  },
  {
   "cell_type": "code",
   "execution_count": 11,
   "metadata": {},
   "outputs": [],
   "source": [
    "test['SalePrice'] = lasso.predict(test)\n"
   ]
  },
  {
   "cell_type": "code",
   "execution_count": 13,
   "metadata": {},
   "outputs": [
    {
     "data": {
      "text/plain": [
       "179016.45312345325"
      ]
     },
     "execution_count": 13,
     "metadata": {},
     "output_type": "execute_result"
    }
   ],
   "source": [
    "test['SalePrice'].mean()"
   ]
  },
  {
   "cell_type": "code",
   "execution_count": 15,
   "metadata": {},
   "outputs": [
    {
     "data": {
      "text/plain": [
       "181654.94206896552"
      ]
     },
     "execution_count": 15,
     "metadata": {},
     "output_type": "execute_result"
    }
   ],
   "source": [
    "train_price.mean()"
   ]
  },
  {
   "cell_type": "code",
   "execution_count": 242,
   "metadata": {},
   "outputs": [],
   "source": [
    "test = pd.read_csv('../../data/test.csv', index_col=0)\n",
    "\n",
    "# Filter out commercial properties\n",
    "MSZoningMask = (test.MSZoning=='A') | (test.MSZoning=='C') | (test.MSZoning=='I') | (test.MSZoning=='C (all)')\n",
    "#test = test[~MSZoningMask]\n",
    "\n",
    "# Drop NAs\n",
    "test = test.fillna(value=0)\n",
    "\n",
    "# Convert ordinals into numbers \n",
    "ord_list = ['KitchenQual', 'FireplaceQu', 'GarageQual', 'GarageCond', \n",
    " 'ExterQual', 'ExterCond', 'BsmtQual', 'BsmtCond', 'HeatingQC',\n",
    "'PoolQC', 'GarageType', 'Street', 'LandContour', 'Utilities', \n",
    "'SaleType', 'PavedDrive', 'GarageFinish', 'Functional', 'SaleCondition',\n",
    "'Electrical', 'CentralAir', 'Heating', 'BsmtExposure', 'Foundation',\n",
    "'MasVnrType', 'LandSlope', 'RoofMatl', 'Alley']\n",
    "\n",
    "for item in ord_list:\n",
    "\n",
    "    test[item] = test[item].astype('category')\n",
    "    cat_columns = test.select_dtypes(['category']).columns\n",
    "    test[cat_columns] = test[cat_columns].apply(lambda x: x.cat.codes)\n",
    "    \n",
    "# Create flag for irregular lot shape\n",
    "test['LotShape'] = [1 if x == 'Reg' else 0 for x in test['LotShape']]\n",
    "\n",
    "# # Dummify Remaining columns\n",
    "\n",
    "drop_list = ['MSSubClass', 'MSZoning', #'BsmtFinType1', 'BsmtFinType2',\n",
    "            'BldgType','HouseStyle', 'Condition1', 'Condition2',\n",
    "            'Neighborhood', 'LotConfig', 'RoofStyle', 'MoSold', 'YrSold',\n",
    "            'Exterior1st', 'Exterior2nd','MiscFeature','Fence']\n",
    "\n",
    "for item in drop_list:\n",
    "    dummies = pd.get_dummies(test[item]).rename(columns=lambda x: item + str(x))\n",
    "    test = pd.concat([test, dummies], axis=1)    \n",
    "\n",
    "test = test.drop(drop_list, axis=1)\n",
    "\n",
    "# Convert years to ages\n",
    "test['YearBuilt'] = 2019 - test['YearBuilt']\n",
    "test['YearRemodAdd'] = 2019 - test['YearRemodAdd']\n",
    "test['GarageYrBlt'] = 2019 - test['GarageYrBlt']\n",
    "\n",
    "# Section 1: create list for subset of data the includes the word bath \n",
    "all_bathrooms = [x for x in test.columns if \"Bath\" in  x]\n",
    "\n",
    "# create list for subset of data that tell us the number of showers\n",
    "with_shower = [x for x in all_bathrooms if 'Full' in x]\n",
    "\n",
    "test['n_toilets'] = np.sum(test[all_bathrooms], axis=1)\n",
    "test['n_showers'] = np.sum(test[with_shower], axis =1)\n",
    "\n",
    "# Section 2: Basement \n",
    "\n",
    "#Livible ratings -- Binomial Flag (1,2) depending on whether the basement space is livable or not\n",
    "rates = ['GLQ', 'ALQ', 'BLQ']\n",
    "# counts livible basements in fintype1\n",
    "test['Basement1'] = [1 if x in rates else 0 for x in test['BsmtFinType1']]\n",
    "# counts livible basements in fintype2\n",
    "test['Basement2'] = [1 if x in rates  else 0 for x in test['BsmtFinType2']]\n",
    "# combines the livible area\n",
    "test['Basement'] = test['Basement1'].values + test['Basement2'].values\n",
    "# counts livible basement as present when there's two types\n",
    "test['Basement'] = test['Basement'].replace(2,1) \n",
    "\n",
    "test['lowqualbsmt1'] = test['BsmtFinSF1'] * test['Basement1']\n",
    "test['lowqualbsmt2'] = test['BsmtFinSF2'] * test['Basement2']\n",
    "test['goodbsmt1'] = test['BsmtFinSF1'] * test['Basement1']\n",
    "test['goodbsmt2'] = test['BsmtFinSF2'] * test['Basement2']\n",
    "\n",
    "test['GrLivArea'] = test['GrLivArea'] + test['goodbsmt1'] + test['goodbsmt2']\n",
    "\n",
    "# Section 3: combine porch/deck areas & create RecSpace\n",
    "test['PorchFT'] = test['WoodDeckSF'] + test['OpenPorchSF'] + test['EnclosedPorch'] + test['3SsnPorch'] + test['ScreenPorch']\n",
    "\n",
    "# Flag the exsistance of a porch\n",
    "test['PorchYN'] = [0 if x==0 else 1 for x in test['PorchFT']]\n",
    "\n",
    "# Create the Rec space variable as the sum of deck area and rough basement\n",
    "test['RecSpaceFt'] = test['PorchFT'] + test['lowqualbsmt1'] + test['lowqualbsmt2']\n",
    "\n",
    "# Section 4: drops extra columns. Overwrites existing table \n",
    "test = test.drop(['Basement1', 'Basement2', 'BsmtFinType1', 'lowqualbsmt1','lowqualbsmt2','goodbsmt1', 'goodbsmt2', 'BsmtFinSF1', 'BsmtFinType2', 'BsmtFinSF2', 'LowQualFinSF', 'PorchFT', 'PorchYN', 'WoodDeckSF', 'OpenPorchSF', 'EnclosedPorch', '3SsnPorch', 'ScreenPorch'], axis = 1)\n",
    "\n"
   ]
  },
  {
   "cell_type": "code",
   "execution_count": 249,
   "metadata": {},
   "outputs": [
    {
     "name": "stdout",
     "output_type": "stream",
     "text": [
      "[6.50854617 6.62782704 4.46748147 ... 6.54882568 4.8603879  4.78649643]\n",
      "[4.10871313 4.15907507 3.10893598 ... 3.19697098 3.3530053  3.27798057]\n",
      "[67.41270166 72.47417005 71.68345958 ... 81.61836546 64.90420593\n",
      " 63.06384109]\n",
      "[44.085921   44.54602385 41.30370579 ... 78.55039202 35.61641614\n",
      " 41.30370579]\n",
      "[6.71390445 7.61036049 7.6802358  ... 7.69140656 7.08143708 7.49507316]\n",
      "[230.31245433 117.23187267 165.66419063 ... 190.83953063   0.\n",
      " 210.05181127]\n"
     ]
    }
   ],
   "source": [
    "#Box-Cox\n",
    "continuous_varlist = ['YearBuilt','YearRemodAdd','LotArea','LotFrontage','GrLivArea','GarageArea']\n",
    "test_cont = test[continuous_varlist]\n",
    "test_other = test[test.columns.difference(continuous_varlist)]\n",
    "\n",
    "test_norm, logs,devs,means = make_boxed_normal(test_cont)\n",
    "\n",
    "test_norm.reset_index(drop=True, inplace=True)\n",
    "test_other.reset_index(drop=True, inplace=True)\n",
    "test = pd.concat([test_norm,test_other],axis=1)"
   ]
  },
  {
   "cell_type": "code",
   "execution_count": 250,
   "metadata": {},
   "outputs": [
    {
     "data": {
      "text/plain": [
       "(1459, 198)"
      ]
     },
     "execution_count": 250,
     "metadata": {},
     "output_type": "execute_result"
    }
   ],
   "source": [
    "test.shape"
   ]
  },
  {
   "cell_type": "code",
   "execution_count": null,
   "metadata": {},
   "outputs": [],
   "source": []
  }
 ],
 "metadata": {
  "kernelspec": {
   "display_name": "Python 3",
   "language": "python",
   "name": "python3"
  },
  "language_info": {
   "codemirror_mode": {
    "name": "ipython",
    "version": 3
   },
   "file_extension": ".py",
   "mimetype": "text/x-python",
   "name": "python",
   "nbconvert_exporter": "python",
   "pygments_lexer": "ipython3",
   "version": "3.6.7"
  }
 },
 "nbformat": 4,
 "nbformat_minor": 2
}
