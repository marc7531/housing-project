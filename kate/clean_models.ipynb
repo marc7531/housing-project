{
 "cells": [
  {
   "cell_type": "markdown",
   "metadata": {},
   "source": [
    "MULTILINEAR REGRESSION FRAMEWORK FOR TRAIN/TEST"
   ]
  },
  {
   "cell_type": "code",
   "execution_count": 26,
   "metadata": {},
   "outputs": [],
   "source": [
    "import pandas as pd\n",
    "import numpy as np\n",
    "from scipy import stats\n",
    "import matplotlib.pyplot as plt\n",
    "import seaborn as sns\n",
    "from sklearn import preprocessing, datasets, linear_model\n",
    "from sklearn.model_selection import train_test_split, KFold\n"
   ]
  },
  {
   "cell_type": "code",
   "execution_count": 2,
   "metadata": {},
   "outputs": [
    {
     "data": {
      "text/plain": [
       "(1437, 17)"
      ]
     },
     "execution_count": 2,
     "metadata": {},
     "output_type": "execute_result"
    }
   ],
   "source": [
    "training = pd.read_csv('../data/train_clean.csv', index_col=0)\n",
    "training.shape"
   ]
  },
  {
   "cell_type": "code",
   "execution_count": 3,
   "metadata": {},
   "outputs": [],
   "source": [
    "#Convert year building was builtinto a numeric Age \n",
    "training['Age'] = 2019 - training['YearBuilt']\n"
   ]
  },
  {
   "cell_type": "code",
   "execution_count": 66,
   "metadata": {},
   "outputs": [],
   "source": [
    "# normalizes dataframes using preprocessing from sklearn\n",
    "\n",
    "# def make_normal(df):\n",
    "#     new_dict = {}\n",
    "#     cols = df.columns\n",
    "#     for name in cols: \n",
    "#         key = 'norm_' + name\n",
    "#         arr = np.array(df[name])\n",
    "#         value = preprocessing.normalize([arr])      \n",
    "#         new_dict[key] = value[0] \n",
    "#     return pd.DataFrame(new_dict)\n",
    "    "
   ]
  },
  {
   "cell_type": "code",
   "execution_count": 74,
   "metadata": {},
   "outputs": [],
   "source": [
    "# normalizes dataframes with math\n",
    "def make_normal(df):\n",
    "    new_dict = {}\n",
    "    cols = df.columns\n",
    "    for name in cols: \n",
    "        key = 'norm_' + name\n",
    "        arr = np.array(df[name])\n",
    "        upper = arr.max()\n",
    "        lower = arr.min()\n",
    "        value = (arr-lower)/(upper-lower)\n",
    "        new_dict[key] = value\n",
    "     \n",
    "    return pd.DataFrame(new_dict)\n"
   ]
  },
  {
   "cell_type": "code",
   "execution_count": 81,
   "metadata": {},
   "outputs": [],
   "source": [
    "# sigmoid\n",
    "\n",
    "def sigmoid(df):\n",
    "    new_dict = {}\n",
    "    cols = df.columns\n",
    "    for name in cols: \n",
    "        key = 'sig_' + name\n",
    "        arr = np.array(df[name])\n",
    "        e = np.exp(1)\n",
    "        value = 1/(1+e**(arr))\n",
    "        new_dict[key] = value\n",
    "    return pd.DataFrame(new_dict)\n"
   ]
  },
  {
   "cell_type": "code",
   "execution_count": 84,
   "metadata": {},
   "outputs": [
    {
     "data": {
      "text/html": [
       "<div>\n",
       "<style scoped>\n",
       "    .dataframe tbody tr th:only-of-type {\n",
       "        vertical-align: middle;\n",
       "    }\n",
       "\n",
       "    .dataframe tbody tr th {\n",
       "        vertical-align: top;\n",
       "    }\n",
       "\n",
       "    .dataframe thead th {\n",
       "        text-align: right;\n",
       "    }\n",
       "</style>\n",
       "<table border=\"1\" class=\"dataframe\">\n",
       "  <thead>\n",
       "    <tr style=\"text-align: right;\">\n",
       "      <th></th>\n",
       "      <th>norm_log_SalePrice</th>\n",
       "    </tr>\n",
       "  </thead>\n",
       "  <tbody>\n",
       "    <tr>\n",
       "      <th>count</th>\n",
       "      <td>1424.000000</td>\n",
       "    </tr>\n",
       "    <tr>\n",
       "      <th>mean</th>\n",
       "      <td>0.495731</td>\n",
       "    </tr>\n",
       "    <tr>\n",
       "      <th>std</th>\n",
       "      <td>0.129744</td>\n",
       "    </tr>\n",
       "    <tr>\n",
       "      <th>min</th>\n",
       "      <td>0.000000</td>\n",
       "    </tr>\n",
       "    <tr>\n",
       "      <th>25%</th>\n",
       "      <td>0.411989</td>\n",
       "    </tr>\n",
       "    <tr>\n",
       "      <th>50%</th>\n",
       "      <td>0.487602</td>\n",
       "    </tr>\n",
       "    <tr>\n",
       "      <th>75%</th>\n",
       "      <td>0.577800</td>\n",
       "    </tr>\n",
       "    <tr>\n",
       "      <th>max</th>\n",
       "      <td>1.000000</td>\n",
       "    </tr>\n",
       "  </tbody>\n",
       "</table>\n",
       "</div>"
      ],
      "text/plain": [
       "       norm_log_SalePrice\n",
       "count         1424.000000\n",
       "mean             0.495731\n",
       "std              0.129744\n",
       "min              0.000000\n",
       "25%              0.411989\n",
       "50%              0.487602\n",
       "75%              0.577800\n",
       "max              1.000000"
      ]
     },
     "execution_count": 84,
     "metadata": {},
     "output_type": "execute_result"
    }
   ],
   "source": [
    "def make_log(df):\n",
    "    new_dict = {}\n",
    "    cols = df.columns\n",
    "    for name in cols: \n",
    "        key = 'log_' + name\n",
    "        arr = np.array(df[name])\n",
    "        value = np.log(arr + 1)\n",
    "        new_dict[key] = value\n",
    "     \n",
    "    return pd.DataFrame(new_dict)\n",
    "\n"
   ]
  },
  {
   "cell_type": "code",
   "execution_count": 5,
   "metadata": {},
   "outputs": [],
   "source": [
    "# Make continuous features normal. Return normed df\n",
    "norm_list = ['LotArea', 'Age', 'GrLivArea', 'GarageArea']\n",
    "norm_df = training[norm_list]\n",
    "\n",
    "norm_df = make_normal(norm_df)"
   ]
  },
  {
   "cell_type": "code",
   "execution_count": 6,
   "metadata": {},
   "outputs": [],
   "source": [
    "# Mutates main df. Drops un-normed continuous values\n",
    "training = training.drop(norm_list, axis=1)"
   ]
  },
  {
   "cell_type": "code",
   "execution_count": 7,
   "metadata": {},
   "outputs": [],
   "source": [
    "# Mutates main df. Removes ordinal years. Keeps as subset years_df\n",
    "years_df = training[['YearBuilt', 'YearRemodAdd']]\n",
    "training = training.drop(['YearBuilt', 'YearRemodAdd'], axis=1)"
   ]
  },
  {
   "cell_type": "code",
   "execution_count": 8,
   "metadata": {},
   "outputs": [],
   "source": [
    "# Mutates main df. Adds normed values\n",
    "training = pd.concat([training, norm_df], axis = 1)"
   ]
  },
  {
   "cell_type": "code",
   "execution_count": 9,
   "metadata": {},
   "outputs": [
    {
     "data": {
      "text/html": [
       "<div>\n",
       "<style scoped>\n",
       "    .dataframe tbody tr th:only-of-type {\n",
       "        vertical-align: middle;\n",
       "    }\n",
       "\n",
       "    .dataframe tbody tr th {\n",
       "        vertical-align: top;\n",
       "    }\n",
       "\n",
       "    .dataframe thead th {\n",
       "        text-align: right;\n",
       "    }\n",
       "</style>\n",
       "<table border=\"1\" class=\"dataframe\">\n",
       "  <thead>\n",
       "    <tr style=\"text-align: right;\">\n",
       "      <th></th>\n",
       "      <th>BsmtFullBath</th>\n",
       "      <th>BedroomAbvGr</th>\n",
       "      <th>KitchenAbvGr</th>\n",
       "      <th>GarageType</th>\n",
       "      <th>SalePrice</th>\n",
       "      <th>Kitchen</th>\n",
       "      <th>Fireplace</th>\n",
       "      <th>ExterQ</th>\n",
       "      <th>BsmtQ</th>\n",
       "      <th>HeatingQ</th>\n",
       "      <th>n_toilets</th>\n",
       "      <th>n_showers</th>\n",
       "      <th>norm_LotArea</th>\n",
       "      <th>norm_Age</th>\n",
       "      <th>norm_GrLivArea</th>\n",
       "      <th>norm_GarageArea</th>\n",
       "    </tr>\n",
       "  </thead>\n",
       "  <tbody>\n",
       "    <tr>\n",
       "      <th>430</th>\n",
       "      <td>0.0</td>\n",
       "      <td>3.0</td>\n",
       "      <td>1.0</td>\n",
       "      <td>1.0</td>\n",
       "      <td>181000.0</td>\n",
       "      <td>3.0</td>\n",
       "      <td>3.0</td>\n",
       "      <td>3.0</td>\n",
       "      <td>4.0</td>\n",
       "      <td>5.0</td>\n",
       "      <td>3.0</td>\n",
       "      <td>2.0</td>\n",
       "      <td>0.010423</td>\n",
       "      <td>0.049756</td>\n",
       "      <td>0.009025</td>\n",
       "      <td>0.017988</td>\n",
       "    </tr>\n",
       "    <tr>\n",
       "      <th>280</th>\n",
       "      <td>0.0</td>\n",
       "      <td>3.0</td>\n",
       "      <td>1.0</td>\n",
       "      <td>1.0</td>\n",
       "      <td>244600.0</td>\n",
       "      <td>4.0</td>\n",
       "      <td>4.0</td>\n",
       "      <td>4.0</td>\n",
       "      <td>4.0</td>\n",
       "      <td>5.0</td>\n",
       "      <td>2.0</td>\n",
       "      <td>2.0</td>\n",
       "      <td>0.010353</td>\n",
       "      <td>0.006102</td>\n",
       "      <td>0.016255</td>\n",
       "      <td>0.026981</td>\n",
       "    </tr>\n",
       "    <tr>\n",
       "      <th>817</th>\n",
       "      <td>0.0</td>\n",
       "      <td>3.0</td>\n",
       "      <td>1.0</td>\n",
       "      <td>1.0</td>\n",
       "      <td>232600.0</td>\n",
       "      <td>4.0</td>\n",
       "      <td>4.0</td>\n",
       "      <td>4.0</td>\n",
       "      <td>4.0</td>\n",
       "      <td>5.0</td>\n",
       "      <td>2.0</td>\n",
       "      <td>2.0</td>\n",
       "      <td>0.019179</td>\n",
       "      <td>0.027225</td>\n",
       "      <td>0.014877</td>\n",
       "      <td>0.023302</td>\n",
       "    </tr>\n",
       "    <tr>\n",
       "      <th>640</th>\n",
       "      <td>1.0</td>\n",
       "      <td>3.0</td>\n",
       "      <td>1.0</td>\n",
       "      <td>1.0</td>\n",
       "      <td>143250.0</td>\n",
       "      <td>3.0</td>\n",
       "      <td>0.0</td>\n",
       "      <td>3.0</td>\n",
       "      <td>3.0</td>\n",
       "      <td>3.0</td>\n",
       "      <td>3.0</td>\n",
       "      <td>2.0</td>\n",
       "      <td>0.025133</td>\n",
       "      <td>0.053042</td>\n",
       "      <td>0.019103</td>\n",
       "      <td>0.011038</td>\n",
       "    </tr>\n",
       "    <tr>\n",
       "      <th>24</th>\n",
       "      <td>1.0</td>\n",
       "      <td>3.0</td>\n",
       "      <td>1.0</td>\n",
       "      <td>1.0</td>\n",
       "      <td>154000.0</td>\n",
       "      <td>4.0</td>\n",
       "      <td>3.0</td>\n",
       "      <td>3.0</td>\n",
       "      <td>3.0</td>\n",
       "      <td>5.0</td>\n",
       "      <td>2.0</td>\n",
       "      <td>2.0</td>\n",
       "      <td>0.020082</td>\n",
       "      <td>0.023939</td>\n",
       "      <td>0.022471</td>\n",
       "      <td>0.013797</td>\n",
       "    </tr>\n",
       "  </tbody>\n",
       "</table>\n",
       "</div>"
      ],
      "text/plain": [
       "     BsmtFullBath  BedroomAbvGr  KitchenAbvGr  GarageType  SalePrice  Kitchen  \\\n",
       "430           0.0           3.0           1.0         1.0   181000.0      3.0   \n",
       "280           0.0           3.0           1.0         1.0   244600.0      4.0   \n",
       "817           0.0           3.0           1.0         1.0   232600.0      4.0   \n",
       "640           1.0           3.0           1.0         1.0   143250.0      3.0   \n",
       "24            1.0           3.0           1.0         1.0   154000.0      4.0   \n",
       "\n",
       "     Fireplace  ExterQ  BsmtQ  HeatingQ  n_toilets  n_showers  norm_LotArea  \\\n",
       "430        3.0     3.0    4.0       5.0        3.0        2.0      0.010423   \n",
       "280        4.0     4.0    4.0       5.0        2.0        2.0      0.010353   \n",
       "817        4.0     4.0    4.0       5.0        2.0        2.0      0.019179   \n",
       "640        0.0     3.0    3.0       3.0        3.0        2.0      0.025133   \n",
       "24         3.0     3.0    3.0       5.0        2.0        2.0      0.020082   \n",
       "\n",
       "     norm_Age  norm_GrLivArea  norm_GarageArea  \n",
       "430  0.049756        0.009025         0.017988  \n",
       "280  0.006102        0.016255         0.026981  \n",
       "817  0.027225        0.014877         0.023302  \n",
       "640  0.053042        0.019103         0.011038  \n",
       "24   0.023939        0.022471         0.013797  "
      ]
     },
     "execution_count": 9,
     "metadata": {},
     "output_type": "execute_result"
    }
   ],
   "source": [
    "training.sample(5) # for inspection. This df will be used for training/testing"
   ]
  },
  {
   "cell_type": "code",
   "execution_count": 10,
   "metadata": {},
   "outputs": [],
   "source": [
    "norm_list = ['norm_'+x for x in norm_list]"
   ]
  },
  {
   "cell_type": "code",
   "execution_count": 12,
   "metadata": {},
   "outputs": [
    {
     "data": {
      "text/plain": [
       "(1424, 16)"
      ]
     },
     "execution_count": 12,
     "metadata": {},
     "output_type": "execute_result"
    }
   ],
   "source": [
    "training = training.dropna()\n",
    "training.shape"
   ]
  },
  {
   "cell_type": "code",
   "execution_count": 50,
   "metadata": {},
   "outputs": [],
   "source": [
    "# Remove \"SalePrice column from train_x\"\n",
    "y = training['SalePrice']\n",
    "X = training.drop('SalePrice', axis=1)"
   ]
  },
  {
   "cell_type": "code",
   "execution_count": 55,
   "metadata": {},
   "outputs": [],
   "source": [
    "\n",
    "X_train, X_test, y_train, y_test = train_test_split(X, y, test_size = 0.33, random_state = 5)\n"
   ]
  },
  {
   "cell_type": "code",
   "execution_count": null,
   "metadata": {},
   "outputs": [],
   "source": []
  },
  {
   "cell_type": "code",
   "execution_count": 59,
   "metadata": {},
   "outputs": [
    {
     "name": "stdout",
     "output_type": "stream",
     "text": [
      "Intercept: -167295.624809\n",
      "Coefficient: -6832.095257449038 : BsmtFullBath\n",
      "Coefficient: 9131.504197065846 : BedroomAbvGr\n",
      "Coefficient: -6352.579455539479 : KitchenAbvGr\n",
      "Coefficient: 1326.8525931377133 : GarageType\n",
      "Coefficient: 22757.01231655067 : Kitchen\n",
      "Coefficient: 9292.239151508284 : Fireplace\n",
      "Coefficient: 36680.76420705245 : ExterQ\n",
      "Coefficient: 13162.692534377547 : BsmtQ\n",
      "Coefficient: 1494.0336202853953 : HeatingQ\n",
      "Coefficient: 15172.249568566242 : n_toilets\n",
      "Coefficient: 14105.019171478614 : n_showers\n",
      "Coefficient: 3136.6226917203894 : norm_LotArea\n",
      "Coefficient: -64022.3881384693 : norm_Age\n",
      "Coefficient: -84897.34432361068 : norm_GrLivArea\n",
      "Coefficient: -154752.87486523372 : norm_GarageArea\n",
      "R^2: 0.704855\n"
     ]
    },
    {
     "data": {
      "text/plain": [
       "0.7048551289159072"
      ]
     },
     "execution_count": 59,
     "metadata": {},
     "output_type": "execute_result"
    }
   ],
   "source": [
    "#Multilinear - Simple -- Unpenalized model i.e. lambda = 0\n",
    "from sklearn import linear_model\n",
    "ols = linear_model.LinearRegression()\n",
    "ols.fit(X_train, y_train)\n",
    "\n",
    "print(\"Intercept: %f\" %ols.intercept_)\n",
    "for i in range(len(X.columns)):\n",
    "    print(\"Coefficient: %s : %s\" %(ols.coef_[i], list(X.columns)[i]))\n",
    "print(\"R^2: %f\" %(ols.score(X_train, y_train)))\n",
    "\n",
    "predictions = ols.predict(X)\n",
    "ols.score(X_train,y_train)\n"
   ]
  },
  {
   "cell_type": "code",
   "execution_count": 16,
   "metadata": {},
   "outputs": [],
   "source": [
    "from sklearn.linear_model import LinearRegression, Ridge, Lasso, ElasticNet"
   ]
  },
  {
   "cell_type": "markdown",
   "metadata": {},
   "source": [
    "LASSO REGRESSION / COEFFICIENT ESTIMATES AT DIFFERENT ALPHA LEVELS"
   ]
  },
  {
   "cell_type": "code",
   "execution_count": 60,
   "metadata": {},
   "outputs": [
    {
     "data": {
      "text/html": [
       "<div>\n",
       "<style scoped>\n",
       "    .dataframe tbody tr th:only-of-type {\n",
       "        vertical-align: middle;\n",
       "    }\n",
       "\n",
       "    .dataframe tbody tr th {\n",
       "        vertical-align: top;\n",
       "    }\n",
       "\n",
       "    .dataframe thead th {\n",
       "        text-align: right;\n",
       "    }\n",
       "</style>\n",
       "<table border=\"1\" class=\"dataframe\">\n",
       "  <thead>\n",
       "    <tr style=\"text-align: right;\">\n",
       "      <th></th>\n",
       "      <th>BsmtFullBath</th>\n",
       "      <th>BedroomAbvGr</th>\n",
       "      <th>KitchenAbvGr</th>\n",
       "      <th>GarageType</th>\n",
       "      <th>Kitchen</th>\n",
       "      <th>Fireplace</th>\n",
       "      <th>ExterQ</th>\n",
       "      <th>BsmtQ</th>\n",
       "      <th>HeatingQ</th>\n",
       "      <th>n_toilets</th>\n",
       "      <th>n_showers</th>\n",
       "      <th>norm_LotArea</th>\n",
       "      <th>norm_Age</th>\n",
       "      <th>norm_GrLivArea</th>\n",
       "      <th>norm_GarageArea</th>\n",
       "    </tr>\n",
       "  </thead>\n",
       "  <tbody>\n",
       "    <tr>\n",
       "      <th>0.100000</th>\n",
       "      <td>-6831.516248</td>\n",
       "      <td>9131.943299</td>\n",
       "      <td>-6349.719110</td>\n",
       "      <td>1328.240072</td>\n",
       "      <td>22759.385884</td>\n",
       "      <td>9291.247412</td>\n",
       "      <td>36677.912418</td>\n",
       "      <td>13163.802781</td>\n",
       "      <td>1495.900854</td>\n",
       "      <td>15176.089814</td>\n",
       "      <td>14099.542688</td>\n",
       "      <td>1349.350174</td>\n",
       "      <td>-62504.055174</td>\n",
       "      <td>-82990.869471</td>\n",
       "      <td>-153131.371412</td>\n",
       "    </tr>\n",
       "    <tr>\n",
       "      <th>0.142105</th>\n",
       "      <td>-6831.270773</td>\n",
       "      <td>9132.130552</td>\n",
       "      <td>-6348.513875</td>\n",
       "      <td>1328.820483</td>\n",
       "      <td>22760.386089</td>\n",
       "      <td>9290.830246</td>\n",
       "      <td>36676.711462</td>\n",
       "      <td>13164.272372</td>\n",
       "      <td>1496.687083</td>\n",
       "      <td>15177.698472</td>\n",
       "      <td>14097.242017</td>\n",
       "      <td>596.848726</td>\n",
       "      <td>-61864.776248</td>\n",
       "      <td>-82188.190079</td>\n",
       "      <td>-152448.630542</td>\n",
       "    </tr>\n",
       "    <tr>\n",
       "      <th>0.184211</th>\n",
       "      <td>-6831.028703</td>\n",
       "      <td>9132.264050</td>\n",
       "      <td>-6347.424083</td>\n",
       "      <td>1329.261894</td>\n",
       "      <td>22761.249489</td>\n",
       "      <td>9290.441806</td>\n",
       "      <td>36675.566036</td>\n",
       "      <td>13164.768443</td>\n",
       "      <td>1497.331623</td>\n",
       "      <td>15179.071030</td>\n",
       "      <td>14095.312824</td>\n",
       "      <td>0.000000</td>\n",
       "      <td>-61253.470683</td>\n",
       "      <td>-81450.011923</td>\n",
       "      <td>-151805.032261</td>\n",
       "    </tr>\n",
       "    <tr>\n",
       "      <th>0.226316</th>\n",
       "      <td>-6830.833252</td>\n",
       "      <td>9132.175861</td>\n",
       "      <td>-6346.809580</td>\n",
       "      <td>1329.183900</td>\n",
       "      <td>22761.587246</td>\n",
       "      <td>9290.160932</td>\n",
       "      <td>36674.633189</td>\n",
       "      <td>13165.350055</td>\n",
       "      <td>1497.426826</td>\n",
       "      <td>15179.565802</td>\n",
       "      <td>14094.813791</td>\n",
       "      <td>0.000000</td>\n",
       "      <td>-60749.534968</td>\n",
       "      <td>-80958.914095</td>\n",
       "      <td>-151311.680178</td>\n",
       "    </tr>\n",
       "    <tr>\n",
       "      <th>0.268421</th>\n",
       "      <td>-6830.637801</td>\n",
       "      <td>9132.087673</td>\n",
       "      <td>-6346.195078</td>\n",
       "      <td>1329.105907</td>\n",
       "      <td>22761.925003</td>\n",
       "      <td>9289.880057</td>\n",
       "      <td>36673.700342</td>\n",
       "      <td>13165.931666</td>\n",
       "      <td>1497.522029</td>\n",
       "      <td>15180.060573</td>\n",
       "      <td>14094.314758</td>\n",
       "      <td>0.000000</td>\n",
       "      <td>-60245.599253</td>\n",
       "      <td>-80467.816267</td>\n",
       "      <td>-150818.328094</td>\n",
       "    </tr>\n",
       "    <tr>\n",
       "      <th>0.310526</th>\n",
       "      <td>-6830.442350</td>\n",
       "      <td>9131.999484</td>\n",
       "      <td>-6345.580575</td>\n",
       "      <td>1329.027913</td>\n",
       "      <td>22762.262760</td>\n",
       "      <td>9289.599183</td>\n",
       "      <td>36672.767495</td>\n",
       "      <td>13166.513278</td>\n",
       "      <td>1497.617232</td>\n",
       "      <td>15180.555345</td>\n",
       "      <td>14093.815725</td>\n",
       "      <td>0.000000</td>\n",
       "      <td>-59741.663538</td>\n",
       "      <td>-79976.718439</td>\n",
       "      <td>-150324.976010</td>\n",
       "    </tr>\n",
       "    <tr>\n",
       "      <th>0.352632</th>\n",
       "      <td>-6830.226697</td>\n",
       "      <td>9131.923251</td>\n",
       "      <td>-6344.947623</td>\n",
       "      <td>1328.935690</td>\n",
       "      <td>22762.602379</td>\n",
       "      <td>9289.320327</td>\n",
       "      <td>36671.834168</td>\n",
       "      <td>13167.106975</td>\n",
       "      <td>1497.715526</td>\n",
       "      <td>15181.020896</td>\n",
       "      <td>14093.323664</td>\n",
       "      <td>0.000000</td>\n",
       "      <td>-59237.752715</td>\n",
       "      <td>-79485.747489</td>\n",
       "      <td>-149831.582096</td>\n",
       "    </tr>\n",
       "    <tr>\n",
       "      <th>0.394737</th>\n",
       "      <td>-6830.031246</td>\n",
       "      <td>9131.835059</td>\n",
       "      <td>-6344.333119</td>\n",
       "      <td>1328.857701</td>\n",
       "      <td>22762.940135</td>\n",
       "      <td>9289.039452</td>\n",
       "      <td>36670.901322</td>\n",
       "      <td>13167.688585</td>\n",
       "      <td>1497.810730</td>\n",
       "      <td>15181.515680</td>\n",
       "      <td>14092.824621</td>\n",
       "      <td>-0.000000</td>\n",
       "      <td>-58733.816987</td>\n",
       "      <td>-78994.649608</td>\n",
       "      <td>-149338.230037</td>\n",
       "    </tr>\n",
       "    <tr>\n",
       "      <th>0.436842</th>\n",
       "      <td>-6829.835794</td>\n",
       "      <td>9131.746868</td>\n",
       "      <td>-6343.718614</td>\n",
       "      <td>1328.779713</td>\n",
       "      <td>22763.277890</td>\n",
       "      <td>9288.758577</td>\n",
       "      <td>36669.968475</td>\n",
       "      <td>13168.270195</td>\n",
       "      <td>1497.905933</td>\n",
       "      <td>15182.010464</td>\n",
       "      <td>14092.325578</td>\n",
       "      <td>-0.000000</td>\n",
       "      <td>-58229.881258</td>\n",
       "      <td>-78503.551726</td>\n",
       "      <td>-148844.877979</td>\n",
       "    </tr>\n",
       "    <tr>\n",
       "      <th>0.478947</th>\n",
       "      <td>-6829.640342</td>\n",
       "      <td>9131.658677</td>\n",
       "      <td>-6343.104110</td>\n",
       "      <td>1328.701724</td>\n",
       "      <td>22763.615645</td>\n",
       "      <td>9288.477702</td>\n",
       "      <td>36669.035628</td>\n",
       "      <td>13168.851804</td>\n",
       "      <td>1498.001137</td>\n",
       "      <td>15182.505247</td>\n",
       "      <td>14091.826535</td>\n",
       "      <td>-0.000000</td>\n",
       "      <td>-57725.945530</td>\n",
       "      <td>-78012.453845</td>\n",
       "      <td>-148351.525920</td>\n",
       "    </tr>\n",
       "  </tbody>\n",
       "</table>\n",
       "</div>"
      ],
      "text/plain": [
       "          BsmtFullBath  BedroomAbvGr  KitchenAbvGr   GarageType       Kitchen  \\\n",
       "0.100000  -6831.516248   9131.943299  -6349.719110  1328.240072  22759.385884   \n",
       "0.142105  -6831.270773   9132.130552  -6348.513875  1328.820483  22760.386089   \n",
       "0.184211  -6831.028703   9132.264050  -6347.424083  1329.261894  22761.249489   \n",
       "0.226316  -6830.833252   9132.175861  -6346.809580  1329.183900  22761.587246   \n",
       "0.268421  -6830.637801   9132.087673  -6346.195078  1329.105907  22761.925003   \n",
       "0.310526  -6830.442350   9131.999484  -6345.580575  1329.027913  22762.262760   \n",
       "0.352632  -6830.226697   9131.923251  -6344.947623  1328.935690  22762.602379   \n",
       "0.394737  -6830.031246   9131.835059  -6344.333119  1328.857701  22762.940135   \n",
       "0.436842  -6829.835794   9131.746868  -6343.718614  1328.779713  22763.277890   \n",
       "0.478947  -6829.640342   9131.658677  -6343.104110  1328.701724  22763.615645   \n",
       "\n",
       "            Fireplace        ExterQ         BsmtQ     HeatingQ     n_toilets  \\\n",
       "0.100000  9291.247412  36677.912418  13163.802781  1495.900854  15176.089814   \n",
       "0.142105  9290.830246  36676.711462  13164.272372  1496.687083  15177.698472   \n",
       "0.184211  9290.441806  36675.566036  13164.768443  1497.331623  15179.071030   \n",
       "0.226316  9290.160932  36674.633189  13165.350055  1497.426826  15179.565802   \n",
       "0.268421  9289.880057  36673.700342  13165.931666  1497.522029  15180.060573   \n",
       "0.310526  9289.599183  36672.767495  13166.513278  1497.617232  15180.555345   \n",
       "0.352632  9289.320327  36671.834168  13167.106975  1497.715526  15181.020896   \n",
       "0.394737  9289.039452  36670.901322  13167.688585  1497.810730  15181.515680   \n",
       "0.436842  9288.758577  36669.968475  13168.270195  1497.905933  15182.010464   \n",
       "0.478947  9288.477702  36669.035628  13168.851804  1498.001137  15182.505247   \n",
       "\n",
       "             n_showers  norm_LotArea      norm_Age  norm_GrLivArea  \\\n",
       "0.100000  14099.542688   1349.350174 -62504.055174   -82990.869471   \n",
       "0.142105  14097.242017    596.848726 -61864.776248   -82188.190079   \n",
       "0.184211  14095.312824      0.000000 -61253.470683   -81450.011923   \n",
       "0.226316  14094.813791      0.000000 -60749.534968   -80958.914095   \n",
       "0.268421  14094.314758      0.000000 -60245.599253   -80467.816267   \n",
       "0.310526  14093.815725      0.000000 -59741.663538   -79976.718439   \n",
       "0.352632  14093.323664      0.000000 -59237.752715   -79485.747489   \n",
       "0.394737  14092.824621     -0.000000 -58733.816987   -78994.649608   \n",
       "0.436842  14092.325578     -0.000000 -58229.881258   -78503.551726   \n",
       "0.478947  14091.826535     -0.000000 -57725.945530   -78012.453845   \n",
       "\n",
       "          norm_GarageArea  \n",
       "0.100000   -153131.371412  \n",
       "0.142105   -152448.630542  \n",
       "0.184211   -151805.032261  \n",
       "0.226316   -151311.680178  \n",
       "0.268421   -150818.328094  \n",
       "0.310526   -150324.976010  \n",
       "0.352632   -149831.582096  \n",
       "0.394737   -149338.230037  \n",
       "0.436842   -148844.877979  \n",
       "0.478947   -148351.525920  "
      ]
     },
     "execution_count": 60,
     "metadata": {},
     "output_type": "execute_result"
    }
   ],
   "source": [
    "lasso  = Lasso()\n",
    "alphas = np.linspace(0.1,0.9,20)\n",
    "lasso.set_params(normalize=False)\n",
    "coefs_lasso  = []\n",
    "intercepts_lasso = []\n",
    "\n",
    "for alpha in alphas:\n",
    "    lasso.set_params(alpha=alpha)\n",
    "    lasso.fit(X_train, y_train)  \n",
    "    coefs_lasso.append(lasso.coef_)\n",
    "    intercepts_lasso.append(lasso.intercept_)\n",
    "        \n",
    "coefs_lasso = pd.DataFrame(coefs_lasso, index = alphas, columns = X_train.columns)  \n",
    "coefs_lasso.head(10)"
   ]
  },
  {
   "cell_type": "code",
   "execution_count": 61,
   "metadata": {},
   "outputs": [
    {
     "data": {
      "text/plain": [
       "<matplotlib.legend.Legend at 0x1a1796c400>"
      ]
     },
     "execution_count": 61,
     "metadata": {},
     "output_type": "execute_result"
    },
    {
     "data": {
      "image/png": "[encoded data removed]",
      "text/plain": [
       "<Figure size 432x288 with 1 Axes>"
      ]
     },
     "metadata": {
      "needs_background": "light"
     },
     "output_type": "display_data"
    }
   ],
   "source": [
    "for name in coefs_lasso.columns:\n",
    "    plt.plot(coefs_lasso.index, coefs_lasso[name], label=name)\n",
    "plt.xlabel(r'hyperparameter $\\lambda$')\n",
    "plt.ylabel(r'slope values')\n",
    "\n",
    "plt.legend()   "
   ]
  },
  {
   "cell_type": "code",
   "execution_count": 19,
   "metadata": {},
   "outputs": [
    {
     "name": "stdout",
     "output_type": "stream",
     "text": [
      "The coef of determination of ridge regression is: 0.7039\n"
     ]
    }
   ],
   "source": [
    "ridge = Ridge() # create a ridge regression instance\n",
    "ridge.set_params(normalize=False)\n",
    "ridge.fit(X_train, y_train) # fit data\n",
    "ridge.coef_, ridge.intercept_ # print out the coefficients\n",
    "print(\"The coef of determination of ridge regression is: %.4f\" %ridge.score(train_x, train_y))"
   ]
  },
  {
   "cell_type": "code",
   "execution_count": 63,
   "metadata": {},
   "outputs": [
    {
     "name": "stdout",
     "output_type": "stream",
     "text": [
      "0.7048486428571673\n",
      "0.704809064406523\n",
      "0.7046829391815446\n",
      "0.7045030410753579\n",
      "0.7043707983931131\n",
      "0.7042712833933542\n",
      "0.7037999142762271\n",
      "0.7004178297656247\n",
      "0.6834701227562852\n",
      "0.6225388113908767\n"
     ]
    }
   ],
   "source": [
    "ridge_scores_train = []\n",
    "ridge_scores_test = []\n",
    "lasso_scores_train = []\n",
    "lasso_scores_test = []\n",
    "\n",
    "\n",
    "alphas = np.logspace(-2, 3, 10)\n",
    "\n",
    "for alpha in alphas:\n",
    "    ridge.set_params(alpha=alpha, normalize=False)\n",
    "    lasso.set_params(alpha=alpha, normalize=False)\n",
    "    ridge.fit(X_train, y_train)\n",
    "    lasso.fit(X_train, y_train)\n",
    "    print(ridge.score(X_train,y_train))\n",
    "    ridge_scores_train.append(ridge.score(X_train, y_train))\n",
    "    ridge_scores_test.append(ridge.score(X_test, y_test))\n",
    "    lasso_scores_train.append(lasso.score(X_train, y_train))\n",
    "    lasso_scores_test.append(lasso.score(X_test, y_test))\n",
    "    \n",
    "ridge_scores_train = np.array(ridge_scores_train) \n",
    "ridge_scores_test  = np.array(ridge_scores_test)\n",
    "lasso_scores_train = np.array(lasso_scores_train) \n",
    "lasso_scores_test  = np.array(lasso_scores_test)"
   ]
  },
  {
   "cell_type": "code",
   "execution_count": 64,
   "metadata": {},
   "outputs": [
    {
     "data": {
      "text/plain": [
       "array([0.70484864, 0.70480906, 0.70468294, 0.70450304, 0.7043708 ,\n",
       "       0.70427128, 0.70379991, 0.70041783, 0.68347012, 0.62253881])"
      ]
     },
     "execution_count": 64,
     "metadata": {},
     "output_type": "execute_result"
    },
    {
     "data": {
      "image/png": "[encoded data removed]",
      "text/plain": [
       "<Figure size 432x288 with 1 Axes>"
      ]
     },
     "metadata": {
      "needs_background": "light"
     },
     "output_type": "display_data"
    }
   ],
   "source": [
    "plt.plot(alphas, ridge_scores_train, label=r'$train\\ R^2$')\n",
    "plt.plot(alphas, ridge_scores_test, label=r'$test\\ R^2$')\n",
    "plt.legend(loc=1)\n",
    "plt.title(r'Ridge Train $R^2$')\n",
    "\n",
    "plt.legend(loc=1)\n",
    "plt.xlabel(r'hyperparameter $\\lambda$')\n",
    "plt.ylabel(r'$R^2$')\n",
    "ridge_scores_train"
   ]
  },
  {
   "cell_type": "code",
   "execution_count": 65,
   "metadata": {},
   "outputs": [
    {
     "data": {
      "text/plain": [
       "Text(0,0.5,'$R^2$')"
      ]
     },
     "execution_count": 65,
     "metadata": {},
     "output_type": "execute_result"
    },
    {
     "data": {
      "image/png": "[encoded data removed]",
      "text/plain": [
       "<Figure size 432x288 with 1 Axes>"
      ]
     },
     "metadata": {
      "needs_background": "light"
     },
     "output_type": "display_data"
    }
   ],
   "source": [
    "plt.plot(alphas, lasso_scores_train, label=r'$train\\ R^2$')\n",
    "plt.plot(alphas, lasso_scores_test, label=r'$test\\ R^2$')\n",
    "plt.title(r'Lasso Train $R^2$ Comparison')\n",
    "\n",
    "plt.legend(loc=1)\n",
    "plt.xlabel(r'hyperparameter $\\lambda$')\n",
    "plt.ylabel(r'$R^2$')"
   ]
  },
  {
   "cell_type": "code",
   "execution_count": 23,
   "metadata": {},
   "outputs": [
    {
     "data": {
      "text/plain": [
       "array([0.70410087, 0.70410086, 0.70410068, 0.70409844, 0.7040751 ,\n",
       "       0.7039592 , 0.70385885, 0.70380161, 0.70330464, 0.70197924])"
      ]
     },
     "execution_count": 23,
     "metadata": {},
     "output_type": "execute_result"
    }
   ],
   "source": [
    "lasso_scores_train"
   ]
  },
  {
   "cell_type": "code",
   "execution_count": 24,
   "metadata": {},
   "outputs": [
    {
     "data": {
      "text/plain": [
       "array([0.7040985 , 0.70408199, 0.7040226 , 0.70394235, 0.70389066,\n",
       "       0.7038499 , 0.70362014, 0.7017344 , 0.69091292, 0.6496845 ])"
      ]
     },
     "execution_count": 24,
     "metadata": {},
     "output_type": "execute_result"
    }
   ],
   "source": [
    "ridge_scores_train"
   ]
  },
  {
   "cell_type": "code",
   "execution_count": null,
   "metadata": {},
   "outputs": [],
   "source": []
  }
 ],
 "metadata": {
  "kernelspec": {
   "display_name": "Python 3",
   "language": "python",
   "name": "python3"
  },
  "language_info": {
   "codemirror_mode": {
    "name": "ipython",
    "version": 3
   },
   "file_extension": ".py",
   "mimetype": "text/x-python",
   "name": "python",
   "nbconvert_exporter": "python",
   "pygments_lexer": "ipython3",
   "version": "3.7.2"
  }
 },
 "nbformat": 4,
 "nbformat_minor": 2
}
