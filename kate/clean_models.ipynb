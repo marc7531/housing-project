{
 "cells": [
  {
   "cell_type": "markdown",
   "metadata": {},
   "source": [
    "MULTILINEAR REGRESSION FRAMEWORK FOR TRAIN/TEST"
   ]
  },
  {
   "cell_type": "code",
   "execution_count": 1,
   "metadata": {},
   "outputs": [],
   "source": [
    "import pandas as pd\n",
    "import numpy as np\n",
    "from scipy import stats\n",
    "import matplotlib.pyplot as plt\n",
    "import seaborn as sns\n",
    "from sklearn import preprocessing, datasets, linear_model\n",
    "from sklearn.model_selection import train_test_split, KFold\n"
   ]
  },
  {
   "cell_type": "code",
   "execution_count": 2,
   "metadata": {},
   "outputs": [
    {
     "data": {
      "text/plain": [
       "(1437, 17)"
      ]
     },
     "execution_count": 2,
     "metadata": {},
     "output_type": "execute_result"
    }
   ],
   "source": [
    "training = pd.read_csv('../data/train_clean.csv', index_col=0)\n",
    "training.shape"
   ]
  },
  {
   "cell_type": "code",
   "execution_count": 3,
   "metadata": {},
   "outputs": [],
   "source": [
    "#Convert year building was builtinto a numeric Age \n",
    "training['Age'] = 2019 - training['YearBuilt']\n"
   ]
  },
  {
   "cell_type": "code",
   "execution_count": 4,
   "metadata": {},
   "outputs": [],
   "source": [
    "# normalizes dataframes using preprocessing from sklearn\n",
    "\n",
    "def make_normal(df):\n",
    "    new_dict = {}\n",
    "    cols = df.columns\n",
    "    for name in cols: \n",
    "        key = 'norm_' + name\n",
    "        arr = np.array(df[name])\n",
    "        value = preprocessing.normalize([arr])      \n",
    "        new_dict[key] = value[0]\n",
    "        ind = range(df.shape[0]-1) \n",
    "    return pd.DataFrame(new_dict)\n",
    "    "
   ]
  },
  {
   "cell_type": "code",
   "execution_count": 5,
   "metadata": {},
   "outputs": [],
   "source": [
    "# Make continuous features normal. Return normed df\n",
    "norm_list = ['LotArea', 'Age', 'GrLivArea', 'GarageArea']\n",
    "norm_df = training[norm_list]\n",
    "\n",
    "norm_df = make_normal(norm_df)"
   ]
  },
  {
   "cell_type": "code",
   "execution_count": 6,
   "metadata": {},
   "outputs": [],
   "source": [
    "# Mutates main df. Drops un-normed continuous values\n",
    "training = training.drop(norm_list, axis=1)"
   ]
  },
  {
   "cell_type": "code",
   "execution_count": 7,
   "metadata": {},
   "outputs": [],
   "source": [
    "# Mutates main df. Removes ordinal years. Keeps as subset\n",
    "years_df = training[['YearBuilt', 'YearRemodAdd']]\n",
    "training = training.drop(['YearBuilt', 'YearRemodAdd'], axis=1)"
   ]
  },
  {
   "cell_type": "code",
   "execution_count": 8,
   "metadata": {},
   "outputs": [],
   "source": [
    "# Mutates main df. Adds normed values\n",
    "training = pd.concat([training, norm_df], axis = 1)"
   ]
  },
  {
   "cell_type": "code",
   "execution_count": 9,
   "metadata": {},
   "outputs": [
    {
     "data": {
      "text/html": [
       "<div>\n",
       "<style scoped>\n",
       "    .dataframe tbody tr th:only-of-type {\n",
       "        vertical-align: middle;\n",
       "    }\n",
       "\n",
       "    .dataframe tbody tr th {\n",
       "        vertical-align: top;\n",
       "    }\n",
       "\n",
       "    .dataframe thead th {\n",
       "        text-align: right;\n",
       "    }\n",
       "</style>\n",
       "<table border=\"1\" class=\"dataframe\">\n",
       "  <thead>\n",
       "    <tr style=\"text-align: right;\">\n",
       "      <th></th>\n",
       "      <th>BsmtFullBath</th>\n",
       "      <th>BedroomAbvGr</th>\n",
       "      <th>KitchenAbvGr</th>\n",
       "      <th>GarageType</th>\n",
       "      <th>SalePrice</th>\n",
       "      <th>Kitchen</th>\n",
       "      <th>Fireplace</th>\n",
       "      <th>ExterQ</th>\n",
       "      <th>BsmtQ</th>\n",
       "      <th>HeatingQ</th>\n",
       "      <th>n_toilets</th>\n",
       "      <th>n_showers</th>\n",
       "      <th>norm_LotArea</th>\n",
       "      <th>norm_Age</th>\n",
       "      <th>norm_GrLivArea</th>\n",
       "      <th>norm_GarageArea</th>\n",
       "    </tr>\n",
       "  </thead>\n",
       "  <tbody>\n",
       "    <tr>\n",
       "      <th>430</th>\n",
       "      <td>0.0</td>\n",
       "      <td>3.0</td>\n",
       "      <td>1.0</td>\n",
       "      <td>1.0</td>\n",
       "      <td>181000.0</td>\n",
       "      <td>3.0</td>\n",
       "      <td>3.0</td>\n",
       "      <td>3.0</td>\n",
       "      <td>4.0</td>\n",
       "      <td>5.0</td>\n",
       "      <td>3.0</td>\n",
       "      <td>2.0</td>\n",
       "      <td>0.010423</td>\n",
       "      <td>0.049756</td>\n",
       "      <td>0.009025</td>\n",
       "      <td>0.017988</td>\n",
       "    </tr>\n",
       "    <tr>\n",
       "      <th>280</th>\n",
       "      <td>0.0</td>\n",
       "      <td>3.0</td>\n",
       "      <td>1.0</td>\n",
       "      <td>1.0</td>\n",
       "      <td>244600.0</td>\n",
       "      <td>4.0</td>\n",
       "      <td>4.0</td>\n",
       "      <td>4.0</td>\n",
       "      <td>4.0</td>\n",
       "      <td>5.0</td>\n",
       "      <td>2.0</td>\n",
       "      <td>2.0</td>\n",
       "      <td>0.010353</td>\n",
       "      <td>0.006102</td>\n",
       "      <td>0.016255</td>\n",
       "      <td>0.026981</td>\n",
       "    </tr>\n",
       "    <tr>\n",
       "      <th>817</th>\n",
       "      <td>0.0</td>\n",
       "      <td>3.0</td>\n",
       "      <td>1.0</td>\n",
       "      <td>1.0</td>\n",
       "      <td>232600.0</td>\n",
       "      <td>4.0</td>\n",
       "      <td>4.0</td>\n",
       "      <td>4.0</td>\n",
       "      <td>4.0</td>\n",
       "      <td>5.0</td>\n",
       "      <td>2.0</td>\n",
       "      <td>2.0</td>\n",
       "      <td>0.019179</td>\n",
       "      <td>0.027225</td>\n",
       "      <td>0.014877</td>\n",
       "      <td>0.023302</td>\n",
       "    </tr>\n",
       "    <tr>\n",
       "      <th>640</th>\n",
       "      <td>1.0</td>\n",
       "      <td>3.0</td>\n",
       "      <td>1.0</td>\n",
       "      <td>1.0</td>\n",
       "      <td>143250.0</td>\n",
       "      <td>3.0</td>\n",
       "      <td>0.0</td>\n",
       "      <td>3.0</td>\n",
       "      <td>3.0</td>\n",
       "      <td>3.0</td>\n",
       "      <td>3.0</td>\n",
       "      <td>2.0</td>\n",
       "      <td>0.025133</td>\n",
       "      <td>0.053042</td>\n",
       "      <td>0.019103</td>\n",
       "      <td>0.011038</td>\n",
       "    </tr>\n",
       "    <tr>\n",
       "      <th>24</th>\n",
       "      <td>1.0</td>\n",
       "      <td>3.0</td>\n",
       "      <td>1.0</td>\n",
       "      <td>1.0</td>\n",
       "      <td>154000.0</td>\n",
       "      <td>4.0</td>\n",
       "      <td>3.0</td>\n",
       "      <td>3.0</td>\n",
       "      <td>3.0</td>\n",
       "      <td>5.0</td>\n",
       "      <td>2.0</td>\n",
       "      <td>2.0</td>\n",
       "      <td>0.020082</td>\n",
       "      <td>0.023939</td>\n",
       "      <td>0.022471</td>\n",
       "      <td>0.013797</td>\n",
       "    </tr>\n",
       "  </tbody>\n",
       "</table>\n",
       "</div>"
      ],
      "text/plain": [
       "     BsmtFullBath  BedroomAbvGr  KitchenAbvGr  GarageType  SalePrice  Kitchen  \\\n",
       "430           0.0           3.0           1.0         1.0   181000.0      3.0   \n",
       "280           0.0           3.0           1.0         1.0   244600.0      4.0   \n",
       "817           0.0           3.0           1.0         1.0   232600.0      4.0   \n",
       "640           1.0           3.0           1.0         1.0   143250.0      3.0   \n",
       "24            1.0           3.0           1.0         1.0   154000.0      4.0   \n",
       "\n",
       "     Fireplace  ExterQ  BsmtQ  HeatingQ  n_toilets  n_showers  norm_LotArea  \\\n",
       "430        3.0     3.0    4.0       5.0        3.0        2.0      0.010423   \n",
       "280        4.0     4.0    4.0       5.0        2.0        2.0      0.010353   \n",
       "817        4.0     4.0    4.0       5.0        2.0        2.0      0.019179   \n",
       "640        0.0     3.0    3.0       3.0        3.0        2.0      0.025133   \n",
       "24         3.0     3.0    3.0       5.0        2.0        2.0      0.020082   \n",
       "\n",
       "     norm_Age  norm_GrLivArea  norm_GarageArea  \n",
       "430  0.049756        0.009025         0.017988  \n",
       "280  0.006102        0.016255         0.026981  \n",
       "817  0.027225        0.014877         0.023302  \n",
       "640  0.053042        0.019103         0.011038  \n",
       "24   0.023939        0.022471         0.013797  "
      ]
     },
     "execution_count": 9,
     "metadata": {},
     "output_type": "execute_result"
    }
   ],
   "source": [
    "training.sample(5) # for inspection. This df will be used for training/testing"
   ]
  },
  {
   "cell_type": "code",
   "execution_count": 10,
   "metadata": {},
   "outputs": [],
   "source": [
    "norm_list = ['norm_'+x for x in norm_list]"
   ]
  },
  {
   "cell_type": "code",
   "execution_count": 11,
   "metadata": {},
   "outputs": [
    {
     "data": {
      "text/plain": [
       "(1450, 16)"
      ]
     },
     "execution_count": 11,
     "metadata": {},
     "output_type": "execute_result"
    }
   ],
   "source": [
    "training.shape"
   ]
  },
  {
   "cell_type": "code",
   "execution_count": 12,
   "metadata": {},
   "outputs": [
    {
     "data": {
      "text/plain": [
       "(1424, 16)"
      ]
     },
     "execution_count": 12,
     "metadata": {},
     "output_type": "execute_result"
    }
   ],
   "source": [
    "training = training.dropna()\n",
    "training.shape"
   ]
  },
  {
   "cell_type": "code",
   "execution_count": 13,
   "metadata": {},
   "outputs": [],
   "source": [
    "# Remove \"SalePrice column from train_x\"\n",
    "train_y = training['SalePrice'] \n",
    "train_x = training.drop('SalePrice', axis=1)"
   ]
  },
  {
   "cell_type": "code",
   "execution_count": 14,
   "metadata": {},
   "outputs": [
    {
     "data": {
      "text/plain": [
       "BsmtFullBath       0\n",
       "BedroomAbvGr       0\n",
       "KitchenAbvGr       0\n",
       "GarageType         0\n",
       "Kitchen            0\n",
       "Fireplace          0\n",
       "ExterQ             0\n",
       "BsmtQ              0\n",
       "HeatingQ           0\n",
       "n_toilets          0\n",
       "n_showers          0\n",
       "norm_LotArea       0\n",
       "norm_Age           0\n",
       "norm_GrLivArea     0\n",
       "norm_GarageArea    0\n",
       "dtype: int64"
      ]
     },
     "execution_count": 14,
     "metadata": {},
     "output_type": "execute_result"
    }
   ],
   "source": [
    "# Split Training data \n",
    "\n"
   ]
  },
  {
   "cell_type": "code",
   "execution_count": 15,
   "metadata": {},
   "outputs": [
    {
     "name": "stdout",
     "output_type": "stream",
     "text": [
      "Intercept: -161410.547310\n",
      "Coefficients: [  -5960.73958637    9613.90726685   -6179.47749914   -3420.25981561\n",
      "   23663.43559291    9143.06749581   35603.71297442   13084.35281478\n",
      "    1034.82355445   11307.75085226   16050.51738475   50920.55313945\n",
      "  -50415.82636795  -18965.2376629  -126982.39855108]\n",
      "R^2: 0.704101\n"
     ]
    }
   ],
   "source": [
    "#Multilinear - Simple -- Unpenalized model i.e. lambda = 0\n",
    "from sklearn import linear_model\n",
    "ols = linear_model.LinearRegression()\n",
    "ols.fit(train_x, train_y)\n",
    "print(\"Intercept: %f\" %ols.intercept_)\n",
    "print(\"Coefficients: %s\" %str(ols.coef_))\n",
    "print(\"R^2: %f\" %(ols.score(train_x, train_y)))"
   ]
  },
  {
   "cell_type": "code",
   "execution_count": 16,
   "metadata": {},
   "outputs": [],
   "source": [
    "from sklearn.linear_model import LinearRegression, Ridge, Lasso, ElasticNet"
   ]
  },
  {
   "cell_type": "markdown",
   "metadata": {},
   "source": [
    "LASSO REGRESSION / COEFFICIENT ESTIMATES AT DIFFERENT ALPHA LEVELS"
   ]
  },
  {
   "cell_type": "code",
   "execution_count": 17,
   "metadata": {},
   "outputs": [
    {
     "data": {
      "text/html": [
       "<div>\n",
       "<style scoped>\n",
       "    .dataframe tbody tr th:only-of-type {\n",
       "        vertical-align: middle;\n",
       "    }\n",
       "\n",
       "    .dataframe tbody tr th {\n",
       "        vertical-align: top;\n",
       "    }\n",
       "\n",
       "    .dataframe thead th {\n",
       "        text-align: right;\n",
       "    }\n",
       "</style>\n",
       "<table border=\"1\" class=\"dataframe\">\n",
       "  <thead>\n",
       "    <tr style=\"text-align: right;\">\n",
       "      <th></th>\n",
       "      <th>BsmtFullBath</th>\n",
       "      <th>BedroomAbvGr</th>\n",
       "      <th>KitchenAbvGr</th>\n",
       "      <th>GarageType</th>\n",
       "      <th>Kitchen</th>\n",
       "      <th>Fireplace</th>\n",
       "      <th>ExterQ</th>\n",
       "      <th>BsmtQ</th>\n",
       "      <th>HeatingQ</th>\n",
       "      <th>n_toilets</th>\n",
       "      <th>n_showers</th>\n",
       "      <th>norm_LotArea</th>\n",
       "      <th>norm_Age</th>\n",
       "      <th>norm_GrLivArea</th>\n",
       "      <th>norm_GarageArea</th>\n",
       "    </tr>\n",
       "  </thead>\n",
       "  <tbody>\n",
       "    <tr>\n",
       "      <th>0.100000</th>\n",
       "      <td>-5962.606580</td>\n",
       "      <td>9613.823485</td>\n",
       "      <td>-6177.920441</td>\n",
       "      <td>-3415.865075</td>\n",
       "      <td>23665.312539</td>\n",
       "      <td>9142.102820</td>\n",
       "      <td>35601.014732</td>\n",
       "      <td>13085.742607</td>\n",
       "      <td>1034.735890</td>\n",
       "      <td>11312.648547</td>\n",
       "      <td>16044.667717</td>\n",
       "      <td>49088.580013</td>\n",
       "      <td>-48958.776253</td>\n",
       "      <td>-17119.758075</td>\n",
       "      <td>-125420.817092</td>\n",
       "    </tr>\n",
       "    <tr>\n",
       "      <th>0.142105</th>\n",
       "      <td>-5963.393155</td>\n",
       "      <td>9613.788788</td>\n",
       "      <td>-6177.265578</td>\n",
       "      <td>-3414.015944</td>\n",
       "      <td>23666.102923</td>\n",
       "      <td>9141.696770</td>\n",
       "      <td>35599.878728</td>\n",
       "      <td>13086.328270</td>\n",
       "      <td>1034.698860</td>\n",
       "      <td>11314.707578</td>\n",
       "      <td>16042.207595</td>\n",
       "      <td>48317.237769</td>\n",
       "      <td>-48345.289026</td>\n",
       "      <td>-16342.723751</td>\n",
       "      <td>-124763.318741</td>\n",
       "    </tr>\n",
       "    <tr>\n",
       "      <th>0.184211</th>\n",
       "      <td>-5964.182491</td>\n",
       "      <td>9613.751990</td>\n",
       "      <td>-6176.612983</td>\n",
       "      <td>-3412.163833</td>\n",
       "      <td>23666.893510</td>\n",
       "      <td>9141.290306</td>\n",
       "      <td>35598.742578</td>\n",
       "      <td>13086.911763</td>\n",
       "      <td>1034.661276</td>\n",
       "      <td>11316.772997</td>\n",
       "      <td>16039.744481</td>\n",
       "      <td>47545.862443</td>\n",
       "      <td>-47731.778249</td>\n",
       "      <td>-15565.668425</td>\n",
       "      <td>-124105.795141</td>\n",
       "    </tr>\n",
       "    <tr>\n",
       "      <th>0.226316</th>\n",
       "      <td>-5964.968556</td>\n",
       "      <td>9613.718278</td>\n",
       "      <td>-6175.957925</td>\n",
       "      <td>-3410.316396</td>\n",
       "      <td>23667.683891</td>\n",
       "      <td>9140.884460</td>\n",
       "      <td>35597.606679</td>\n",
       "      <td>13087.498373</td>\n",
       "      <td>1034.624331</td>\n",
       "      <td>11318.828140</td>\n",
       "      <td>16037.287083</td>\n",
       "      <td>46774.539383</td>\n",
       "      <td>-47118.302754</td>\n",
       "      <td>-14788.646459</td>\n",
       "      <td>-123448.310342</td>\n",
       "    </tr>\n",
       "    <tr>\n",
       "      <th>0.268421</th>\n",
       "      <td>-5965.757893</td>\n",
       "      <td>9613.681481</td>\n",
       "      <td>-6175.305331</td>\n",
       "      <td>-3408.464285</td>\n",
       "      <td>23668.474479</td>\n",
       "      <td>9140.477997</td>\n",
       "      <td>35596.470529</td>\n",
       "      <td>13088.081866</td>\n",
       "      <td>1034.586748</td>\n",
       "      <td>11320.893561</td>\n",
       "      <td>16034.823967</td>\n",
       "      <td>46003.164049</td>\n",
       "      <td>-46504.791971</td>\n",
       "      <td>-14011.591127</td>\n",
       "      <td>-122790.786736</td>\n",
       "    </tr>\n",
       "    <tr>\n",
       "      <th>0.310526</th>\n",
       "      <td>-5966.547230</td>\n",
       "      <td>9613.644683</td>\n",
       "      <td>-6174.652737</td>\n",
       "      <td>-3406.612174</td>\n",
       "      <td>23669.265066</td>\n",
       "      <td>9140.071534</td>\n",
       "      <td>35595.334379</td>\n",
       "      <td>13088.665359</td>\n",
       "      <td>1034.549164</td>\n",
       "      <td>11322.958981</td>\n",
       "      <td>16032.360852</td>\n",
       "      <td>45231.788715</td>\n",
       "      <td>-45891.281189</td>\n",
       "      <td>-13234.535795</td>\n",
       "      <td>-122133.263130</td>\n",
       "    </tr>\n",
       "    <tr>\n",
       "      <th>0.352632</th>\n",
       "      <td>-5967.333051</td>\n",
       "      <td>9613.612310</td>\n",
       "      <td>-6173.997911</td>\n",
       "      <td>-3404.767209</td>\n",
       "      <td>23670.055500</td>\n",
       "      <td>9139.665970</td>\n",
       "      <td>35594.198643</td>\n",
       "      <td>13089.253215</td>\n",
       "      <td>1034.512237</td>\n",
       "      <td>11325.008332</td>\n",
       "      <td>16029.907911</td>\n",
       "      <td>44460.493817</td>\n",
       "      <td>-45277.822026</td>\n",
       "      <td>-12457.532049</td>\n",
       "      <td>-121475.797721</td>\n",
       "    </tr>\n",
       "    <tr>\n",
       "      <th>0.394737</th>\n",
       "      <td>-5968.122388</td>\n",
       "      <td>9613.575512</td>\n",
       "      <td>-6173.345317</td>\n",
       "      <td>-3402.915097</td>\n",
       "      <td>23670.846087</td>\n",
       "      <td>9139.259507</td>\n",
       "      <td>35593.062492</td>\n",
       "      <td>13089.836708</td>\n",
       "      <td>1034.474654</td>\n",
       "      <td>11327.073755</td>\n",
       "      <td>16027.444794</td>\n",
       "      <td>43689.118471</td>\n",
       "      <td>-44664.311236</td>\n",
       "      <td>-11680.476710</td>\n",
       "      <td>-120818.274107</td>\n",
       "    </tr>\n",
       "    <tr>\n",
       "      <th>0.436842</th>\n",
       "      <td>-5968.911726</td>\n",
       "      <td>9613.538713</td>\n",
       "      <td>-6172.692722</td>\n",
       "      <td>-3401.062985</td>\n",
       "      <td>23671.636675</td>\n",
       "      <td>9138.853043</td>\n",
       "      <td>35591.926342</td>\n",
       "      <td>13090.420201</td>\n",
       "      <td>1034.437070</td>\n",
       "      <td>11329.139178</td>\n",
       "      <td>16024.981676</td>\n",
       "      <td>42917.743125</td>\n",
       "      <td>-44050.800447</td>\n",
       "      <td>-10903.421371</td>\n",
       "      <td>-120160.750493</td>\n",
       "    </tr>\n",
       "    <tr>\n",
       "      <th>0.478947</th>\n",
       "      <td>-5969.701063</td>\n",
       "      <td>9613.501915</td>\n",
       "      <td>-6172.040128</td>\n",
       "      <td>-3399.210873</td>\n",
       "      <td>23672.427262</td>\n",
       "      <td>9138.446580</td>\n",
       "      <td>35590.790192</td>\n",
       "      <td>13091.003693</td>\n",
       "      <td>1034.399486</td>\n",
       "      <td>11331.204601</td>\n",
       "      <td>16022.518559</td>\n",
       "      <td>42146.367780</td>\n",
       "      <td>-43437.289657</td>\n",
       "      <td>-10126.366031</td>\n",
       "      <td>-119503.226879</td>\n",
       "    </tr>\n",
       "  </tbody>\n",
       "</table>\n",
       "</div>"
      ],
      "text/plain": [
       "          BsmtFullBath  BedroomAbvGr  KitchenAbvGr   GarageType       Kitchen  \\\n",
       "0.100000  -5962.606580   9613.823485  -6177.920441 -3415.865075  23665.312539   \n",
       "0.142105  -5963.393155   9613.788788  -6177.265578 -3414.015944  23666.102923   \n",
       "0.184211  -5964.182491   9613.751990  -6176.612983 -3412.163833  23666.893510   \n",
       "0.226316  -5964.968556   9613.718278  -6175.957925 -3410.316396  23667.683891   \n",
       "0.268421  -5965.757893   9613.681481  -6175.305331 -3408.464285  23668.474479   \n",
       "0.310526  -5966.547230   9613.644683  -6174.652737 -3406.612174  23669.265066   \n",
       "0.352632  -5967.333051   9613.612310  -6173.997911 -3404.767209  23670.055500   \n",
       "0.394737  -5968.122388   9613.575512  -6173.345317 -3402.915097  23670.846087   \n",
       "0.436842  -5968.911726   9613.538713  -6172.692722 -3401.062985  23671.636675   \n",
       "0.478947  -5969.701063   9613.501915  -6172.040128 -3399.210873  23672.427262   \n",
       "\n",
       "            Fireplace        ExterQ         BsmtQ     HeatingQ     n_toilets  \\\n",
       "0.100000  9142.102820  35601.014732  13085.742607  1034.735890  11312.648547   \n",
       "0.142105  9141.696770  35599.878728  13086.328270  1034.698860  11314.707578   \n",
       "0.184211  9141.290306  35598.742578  13086.911763  1034.661276  11316.772997   \n",
       "0.226316  9140.884460  35597.606679  13087.498373  1034.624331  11318.828140   \n",
       "0.268421  9140.477997  35596.470529  13088.081866  1034.586748  11320.893561   \n",
       "0.310526  9140.071534  35595.334379  13088.665359  1034.549164  11322.958981   \n",
       "0.352632  9139.665970  35594.198643  13089.253215  1034.512237  11325.008332   \n",
       "0.394737  9139.259507  35593.062492  13089.836708  1034.474654  11327.073755   \n",
       "0.436842  9138.853043  35591.926342  13090.420201  1034.437070  11329.139178   \n",
       "0.478947  9138.446580  35590.790192  13091.003693  1034.399486  11331.204601   \n",
       "\n",
       "             n_showers  norm_LotArea      norm_Age  norm_GrLivArea  \\\n",
       "0.100000  16044.667717  49088.580013 -48958.776253   -17119.758075   \n",
       "0.142105  16042.207595  48317.237769 -48345.289026   -16342.723751   \n",
       "0.184211  16039.744481  47545.862443 -47731.778249   -15565.668425   \n",
       "0.226316  16037.287083  46774.539383 -47118.302754   -14788.646459   \n",
       "0.268421  16034.823967  46003.164049 -46504.791971   -14011.591127   \n",
       "0.310526  16032.360852  45231.788715 -45891.281189   -13234.535795   \n",
       "0.352632  16029.907911  44460.493817 -45277.822026   -12457.532049   \n",
       "0.394737  16027.444794  43689.118471 -44664.311236   -11680.476710   \n",
       "0.436842  16024.981676  42917.743125 -44050.800447   -10903.421371   \n",
       "0.478947  16022.518559  42146.367780 -43437.289657   -10126.366031   \n",
       "\n",
       "          norm_GarageArea  \n",
       "0.100000   -125420.817092  \n",
       "0.142105   -124763.318741  \n",
       "0.184211   -124105.795141  \n",
       "0.226316   -123448.310342  \n",
       "0.268421   -122790.786736  \n",
       "0.310526   -122133.263130  \n",
       "0.352632   -121475.797721  \n",
       "0.394737   -120818.274107  \n",
       "0.436842   -120160.750493  \n",
       "0.478947   -119503.226879  "
      ]
     },
     "execution_count": 17,
     "metadata": {},
     "output_type": "execute_result"
    }
   ],
   "source": [
    "lasso  = Lasso()\n",
    "alphas = np.linspace(0.1,0.9,20)\n",
    "lasso.set_params(normalize=False)\n",
    "coefs_lasso  = []\n",
    "intercepts_lasso = []\n",
    "\n",
    "for alpha in alphas:\n",
    "    lasso.set_params(alpha=alpha)\n",
    "    lasso.fit(train_x, train_y)  \n",
    "    coefs_lasso.append(lasso.coef_)\n",
    "    intercepts_lasso.append(lasso.intercept_)\n",
    "        \n",
    "coefs_lasso = pd.DataFrame(coefs_lasso, index = alphas, columns = train_x.columns)  \n",
    "coefs_lasso.head(10)"
   ]
  },
  {
   "cell_type": "code",
   "execution_count": 18,
   "metadata": {},
   "outputs": [
    {
     "data": {
      "text/plain": [
       "<matplotlib.legend.Legend at 0x1a167e2438>"
      ]
     },
     "execution_count": 18,
     "metadata": {},
     "output_type": "execute_result"
    },
    {
     "data": {
      "image/png": "[encoded data removed]",
      "text/plain": [
       "<Figure size 432x288 with 1 Axes>"
      ]
     },
     "metadata": {
      "needs_background": "light"
     },
     "output_type": "display_data"
    }
   ],
   "source": [
    "for name in coefs_lasso.columns:\n",
    "    plt.plot(coefs_lasso.index, coefs_lasso[name], label=name)\n",
    "plt.xlabel(r'hyperparameter $\\lambda$')\n",
    "plt.ylabel(r'slope values')\n",
    "\n",
    "plt.legend()   "
   ]
  },
  {
   "cell_type": "code",
   "execution_count": 19,
   "metadata": {},
   "outputs": [
    {
     "name": "stdout",
     "output_type": "stream",
     "text": [
      "The coef of determination of ridge regression is: 0.7039\n"
     ]
    }
   ],
   "source": [
    "ridge = Ridge() # create a ridge regression instance\n",
    "ridge.set_params(normalize=False)\n",
    "ridge.fit(train_x, train_y) # fit data\n",
    "ridge.coef_, ridge.intercept_ # print out the coefficients\n",
    "print(\"The coef of determination of ridge regression is: %.4f\" %ridge.score(train_x, train_y))"
   ]
  },
  {
   "cell_type": "code",
   "execution_count": 20,
   "metadata": {},
   "outputs": [
    {
     "name": "stdout",
     "output_type": "stream",
     "text": [
      "0.7040984967271039\n",
      "0.7040819901375721\n",
      "0.7040225953689689\n",
      "0.7039423505650568\n",
      "0.7038906616821945\n",
      "0.7038499002791114\n",
      "0.703620137063512\n",
      "0.7017343992864756\n",
      "0.6909129204279516\n",
      "0.6496844964263456\n"
     ]
    }
   ],
   "source": [
    "ridge_scores_train = []\n",
    "lasso_scores_train = []\n",
    "#ridge_scores_test  = []\n",
    "#lasso_scores_test  = []\n",
    "\n",
    "alphas = np.logspace(-2, 3, 10)\n",
    "\n",
    "for alpha in alphas:\n",
    "    ridge.set_params(alpha=alpha, normalize=False)\n",
    "    lasso.set_params(alpha=alpha, normalize=False)\n",
    "    ridge.fit(train_x, train_y)\n",
    "    lasso.fit(train_x, train_y)\n",
    "    print(ridge.score(train_x,train_y))\n",
    "    ridge_scores_train.append(ridge.score(train_x, train_y))\n",
    "    #ridge_scores_test.append(ridge.score(X_test, Y_test))\n",
    "    lasso_scores_train.append(lasso.score(train_x, train_y))\n",
    "    #lasso_scores_test.append(lasso.score(X_test, Y_test))\n",
    "    \n",
    "ridge_scores_train = np.array(ridge_scores_train) \n",
    "#ridge_scores_test  = np.array(ridge_scores_test)\n",
    "lasso_scores_train = np.array(lasso_scores_train) \n",
    "#lasso_scores_test  = np.array(lasso_scores_test)"
   ]
  },
  {
   "cell_type": "code",
   "execution_count": 21,
   "metadata": {},
   "outputs": [
    {
     "data": {
      "text/plain": [
       "array([0.7040985 , 0.70408199, 0.7040226 , 0.70394235, 0.70389066,\n",
       "       0.7038499 , 0.70362014, 0.7017344 , 0.69091292, 0.6496845 ])"
      ]
     },
     "execution_count": 21,
     "metadata": {},
     "output_type": "execute_result"
    },
    {
     "data": {
      "image/png": "[encoded data removed]",
      "text/plain": [
       "<Figure size 432x288 with 1 Axes>"
      ]
     },
     "metadata": {
      "needs_background": "light"
     },
     "output_type": "display_data"
    }
   ],
   "source": [
    "plt.plot(alphas, ridge_scores_train, label=r'$train\\ R^2$')\n",
    "#plt.plot(alphas, ridge_scores_test, label=r'$test\\ R^2$')\n",
    "plt.legend(loc=1)\n",
    "plt.title(r'Ridge Train $R^2$')\n",
    "#ridge_underfit = ridge_scores_train < ridge_scores_test\n",
    "#last_underfit  = np.max(alphas[ridge_underfit])\n",
    "#plt.axvline(last_underfit, linestyle='--', color='g', label='optimal lambda', alpha=0.4)\n",
    "plt.legend(loc=1)\n",
    "plt.xlabel(r'hyperparameter $\\lambda$')\n",
    "plt.ylabel(r'$R^2$')\n",
    "ridge_scores_train"
   ]
  },
  {
   "cell_type": "code",
   "execution_count": 22,
   "metadata": {},
   "outputs": [
    {
     "data": {
      "text/plain": [
       "Text(0,0.5,'$R^2$')"
      ]
     },
     "execution_count": 22,
     "metadata": {},
     "output_type": "execute_result"
    },
    {
     "data": {
      "image/png": "[encoded data removed]",
      "text/plain": [
       "<Figure size 432x288 with 1 Axes>"
      ]
     },
     "metadata": {
      "needs_background": "light"
     },
     "output_type": "display_data"
    }
   ],
   "source": [
    "plt.plot(alphas, lasso_scores_train, label=r'$train\\ R^2$')\n",
    "#plt.plot(alphas, lasso_scores_test, label=r'$test\\ R^2$')\n",
    "plt.title(r'Lasso Train $R^2$ Comparison')\n",
    "#lasso_underfit = lasso_scores_train < lasso_scores_test\n",
    "#last_underfit  = np.max(alphas[lasso_underfit])\n",
    "#plt.axvline(last_underfit, linestyle='--', color='g', label='optimal lambda', alpha=0.4)\n",
    "plt.legend(loc=1)\n",
    "plt.xlabel(r'hyperparameter $\\lambda$')\n",
    "plt.ylabel(r'$R^2$')"
   ]
  },
  {
   "cell_type": "code",
   "execution_count": 23,
   "metadata": {},
   "outputs": [
    {
     "data": {
      "text/plain": [
       "array([0.70410087, 0.70410086, 0.70410068, 0.70409844, 0.7040751 ,\n",
       "       0.7039592 , 0.70385885, 0.70380161, 0.70330464, 0.70197924])"
      ]
     },
     "execution_count": 23,
     "metadata": {},
     "output_type": "execute_result"
    }
   ],
   "source": [
    "lasso_scores_train"
   ]
  },
  {
   "cell_type": "code",
   "execution_count": 24,
   "metadata": {},
   "outputs": [
    {
     "data": {
      "text/plain": [
       "array([0.7040985 , 0.70408199, 0.7040226 , 0.70394235, 0.70389066,\n",
       "       0.7038499 , 0.70362014, 0.7017344 , 0.69091292, 0.6496845 ])"
      ]
     },
     "execution_count": 24,
     "metadata": {},
     "output_type": "execute_result"
    }
   ],
   "source": [
    "ridge_scores_train"
   ]
  },
  {
   "cell_type": "code",
   "execution_count": null,
   "metadata": {},
   "outputs": [],
   "source": []
  }
 ],
 "metadata": {
  "kernelspec": {
   "display_name": "Python 3",
   "language": "python",
   "name": "python3"
  },
  "language_info": {
   "codemirror_mode": {
    "name": "ipython",
    "version": 3
   },
   "file_extension": ".py",
   "mimetype": "text/x-python",
   "name": "python",
   "nbconvert_exporter": "python",
   "pygments_lexer": "ipython3",
   "version": "3.7.2"
  }
 },
 "nbformat": 4,
 "nbformat_minor": 2
}
