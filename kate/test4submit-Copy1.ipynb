{
 "cells": [
  {
   "cell_type": "code",
   "execution_count": 1,
   "metadata": {},
   "outputs": [],
   "source": [
    "# Import modules\n",
    "import pandas as pd\n",
    "import numpy as np\n",
    "import scipy\n",
    "from scipy import stats\n",
    "import matplotlib.pyplot as plt\n",
    "import matplotlib as mpl\n",
    "from sklearn import preprocessing\n",
    "from sklearn import linear_model\n",
    "from sklearn.metrics import mean_squared_error\n",
    "from sklearn.metrics import r2_score"
   ]
  },
  {
   "cell_type": "code",
   "execution_count": 2,
   "metadata": {},
   "outputs": [],
   "source": [
    "final = pd.read_csv('../data/test_clean.csv', index_col=0)\n",
    "train = pd.read_csv('../data/train_clean.csv', index_col=0)"
   ]
  },
  {
   "cell_type": "code",
   "execution_count": 3,
   "metadata": {},
   "outputs": [],
   "source": [
    "final['Age'] = 2019 - final['YearBuilt']\n",
    "final_cont = final[['LotArea','Age','GarageArea']]\n",
    "final_categ = final[['BsmtFullBath','KitchenAbvGr','GarageType','Kitchen','Fireplace','ExterQ',\n",
    "                    'BsmtQ','HeatingQ','n_toilets']] #remove n_showers"
   ]
  },
  {
   "cell_type": "code",
   "execution_count": 4,
   "metadata": {},
   "outputs": [],
   "source": [
    "train['Age'] = 2019 - train['YearBuilt']\n",
    "train_cont = train[['LotArea','Age','GarageArea']]"
   ]
  },
  {
   "cell_type": "code",
   "execution_count": 5,
   "metadata": {},
   "outputs": [],
   "source": [
    "# boxcox and normalize dataframes with sklearn.stats\n",
    "def make_boxed_normal(df):\n",
    "    new_dict = {}\n",
    "    logs = []\n",
    "    devs = []\n",
    "    means = []\n",
    "    cols = df.columns\n",
    "    for name in cols: \n",
    "        key = 'norm_' + name\n",
    "        arr = np.array(df[name]) + 1\n",
    "        arr, log_num = stats.boxcox(arr)\n",
    "        upper = arr.max()\n",
    "        lower = arr.min()\n",
    "        \n",
    "        value = (arr-np.mean(arr))/(np.std(arr))\n",
    "        print (arr)\n",
    "        new_dict[key] = value\n",
    "        logs.append(log_num)\n",
    "        devs.append(np.std(arr))\n",
    "        means.append(np.mean(arr))\n",
    "        \n",
    "    return pd.DataFrame(new_dict), logs, devs, means"
   ]
  },
  {
   "cell_type": "code",
   "execution_count": 6,
   "metadata": {},
   "outputs": [
    {
     "name": "stdout",
     "output_type": "stream",
     "text": [
      "[88.88466171 93.63673908 99.88961533 ... 91.37651357 94.10054238\n",
      " 94.96362037]\n",
      "[3.93259214 5.90583755 4.14263436 ... 7.34224395 7.03003521 6.43179868]\n",
      "[214.72436143 185.87808688 233.91277455 ... 113.11916884 108.64874634\n",
      " 121.94845642]\n"
     ]
    }
   ],
   "source": [
    "train_norm, logs,devs,means = make_boxed_normal(train_cont)\n",
    "\n",
    "# train['Age'] = stats.boxcox(train['Age'])\n",
    "# train['Age'] - np.mean(train['Age'])/np.std(train['Age'])"
   ]
  },
  {
   "cell_type": "code",
   "execution_count": 7,
   "metadata": {},
   "outputs": [],
   "source": [
    "train_categ = train[['BsmtFullBath','KitchenAbvGr','GarageType','Kitchen','Fireplace','ExterQ',\n",
    "                    'BsmtQ','HeatingQ','n_toilets']] #remove n_showers"
   ]
  },
  {
   "cell_type": "code",
   "execution_count": 8,
   "metadata": {},
   "outputs": [],
   "source": [
    "#We will pass into here the test data + log_list with lambdas from training data\n",
    "\n",
    "def normalize_test(df, mean_arr, std_arr, log_list):\n",
    "    new_dict = {}\n",
    "    cols = df.columns\n",
    "    i = 0\n",
    "    for name in cols: \n",
    "        key = 'test_norm_' + name\n",
    "        arr = np.array(df[name]) + 1 \n",
    "        tempnum = log_list[i]\n",
    "        print(tempnum)\n",
    "        arr = stats.boxcox(arr, lmbda = tempnum)\n",
    "        upper = arr.max()\n",
    "        lower = arr.min()\n",
    "        value = (arr-mean_arr[i])/(std_arr[i])\n",
    "        print('Iter=',i)\n",
    "        new_dict[key] = value\n",
    "        i += 1\n",
    "     \n",
    "    return pd.DataFrame(new_dict)"
   ]
  },
  {
   "cell_type": "code",
   "execution_count": 9,
   "metadata": {},
   "outputs": [
    {
     "name": "stdout",
     "output_type": "stream",
     "text": [
      "0.39726927868822215\n",
      "Iter= 0\n",
      "0.22006264293977928\n",
      "Iter= 1\n",
      "0.8207705726888868\n",
      "Iter= 2\n"
     ]
    }
   ],
   "source": [
    "final_norm = normalize_test(final_cont,means,devs,logs)"
   ]
  },
  {
   "cell_type": "code",
   "execution_count": 20,
   "metadata": {},
   "outputs": [],
   "source": [
    "#FUNCTION TO LOG & TRANSFORM GrLivArea\n",
    "def make_log(df):\n",
    "    new_dict = {}\n",
    "    cols = df.columns\n",
    "    for name in cols: \n",
    "        key = 'log_' + name\n",
    "        arr = np.array(df[name])\n",
    "        log_arr = np.log(arr+1)\n",
    "        value = (log_arr - log_arr.mean())/ log_arr.std()\n",
    "        new_dict[key] = value\n",
    "     \n",
    "    return pd.DataFrame(new_dict)\n",
    "\n",
    "# temp = make_log(train[['GrLivArea']])\n",
    "\n",
    "# temp.iloc[0].isnull().sum()"
   ]
  },
  {
   "cell_type": "code",
   "execution_count": 21,
   "metadata": {},
   "outputs": [
    {
     "name": "stdout",
     "output_type": "stream",
     "text": [
      "      log_GrLivArea\n",
      "0         -1.793177\n",
      "1          0.643966\n",
      "2          0.834282\n",
      "3          0.589376\n",
      "4         -0.356035\n",
      "5         -0.170718\n",
      "6          0.486689\n",
      "7         -0.493216\n",
      "8          0.300817\n",
      "9         -0.121638\n",
      "10         0.799071\n",
      "11        -1.537473\n",
      "12        -1.270200\n",
      "13         0.290098\n",
      "14        -1.976385\n",
      "15         0.738569\n",
      "16        -0.354321\n",
      "17         0.063133\n",
      "18         0.123871\n",
      "19         2.208936\n",
      "20         1.246424\n",
      "21        -0.624587\n",
      "22        -0.760824\n",
      "23        -1.108203\n",
      "24        -0.099767\n",
      "25        -0.048920\n",
      "26         0.893728\n",
      "27        -0.268379\n",
      "28        -0.981476\n",
      "29         1.296461\n",
      "...             ...\n",
      "1414      -1.567101\n",
      "1415      -0.164334\n",
      "1416      -2.553487\n",
      "1417      -2.678278\n",
      "1418      -0.198025\n",
      "1419       1.695326\n",
      "1420       1.581602\n",
      "1421       0.813432\n",
      "1422      -0.156375\n",
      "1423      -0.446694\n",
      "1424       0.030753\n",
      "1425       0.982016\n",
      "1426       1.079437\n",
      "1427       1.662758\n",
      "1428       1.649136\n",
      "1429      -0.260101\n",
      "1430       1.035230\n",
      "1431      -0.801072\n",
      "1432      -0.778860\n",
      "1433       0.052873\n",
      "1434      -1.128779\n",
      "1435      -1.270200\n",
      "1436      -0.093552\n",
      "1437      -1.270200\n",
      "1438      -1.270200\n",
      "1439      -1.270200\n",
      "1440      -1.270200\n",
      "1441       0.864712\n",
      "1442      -0.794996\n",
      "1443       0.330073\n",
      "\n",
      "[1444 rows x 1 columns]\n"
     ]
    }
   ],
   "source": [
    "final_norm.reset_index(drop=True, inplace=True)\n",
    "final_categ.reset_index(drop=True, inplace=True)\n",
    "final_combo = pd.concat([final_norm,final_categ],axis=1)\n",
    "\n",
    "final_templog = make_log(final[['GrLivArea']])\n",
    "\n",
    "\n",
    "print (final_templog)\n",
    "##Transforming the GrLivArea in Final-Test Data Set with LOG:\n",
    "x = final['GrLivArea'] \n",
    "mnGrLivArea = np.log(train.GrLivArea).mean()\n",
    "stdGrLivArea = np.log(train.GrLivArea).std()\n",
    "final_combo['LogLivArea'] = final_templog"
   ]
  },
  {
   "cell_type": "code",
   "execution_count": 22,
   "metadata": {},
   "outputs": [],
   "source": [
    "train_norm.reset_index(drop=True, inplace=True)\n",
    "train_categ.reset_index(drop=True, inplace=True)\n",
    "train_combo = pd.concat([train_norm,train_categ],axis=1)\n",
    "train_templog = make_log(train[['GrLivArea']])\n",
    "\n",
    "#Transforming the GrLivArea in Training Data Set with LOG:\n",
    "y = train['GrLivArea'] \n",
    "mnGrLivArea = np.log(train.GrLivArea).mean()\n",
    "stdGrLivArea = np.log(train.GrLivArea).std()\n",
    "train_combo['LogLivArea'] = train_templog"
   ]
  },
  {
   "cell_type": "code",
   "execution_count": 23,
   "metadata": {},
   "outputs": [
    {
     "name": "stdout",
     "output_type": "stream",
     "text": [
      "[102.88252769  97.83021699 105.44490873 ... 112.0494597   89.06318741\n",
      "  90.38673086]\n"
     ]
    },
    {
     "data": {
      "text/plain": [
       "LinearRegression(copy_X=True, fit_intercept=True, n_jobs=1, normalize=False)"
      ]
     },
     "execution_count": 23,
     "metadata": {},
     "output_type": "execute_result"
    }
   ],
   "source": [
    "multi = linear_model.LinearRegression()\n",
    "train_price, train_logs, train_devs, train_means = make_boxed_normal(train[['SalePrice']]-37800)\n",
    "multi.fit(X=train_combo, y=train_price)"
   ]
  },
  {
   "cell_type": "code",
   "execution_count": 24,
   "metadata": {},
   "outputs": [
    {
     "data": {
      "text/plain": [
       "array([[-0.91483279],\n",
       "       [ 0.03331182],\n",
       "       [ 0.6064589 ],\n",
       "       ...,\n",
       "       [ 0.40546667],\n",
       "       [-0.83562147],\n",
       "       [ 0.44477303]])"
      ]
     },
     "execution_count": 24,
     "metadata": {},
     "output_type": "execute_result"
    }
   ],
   "source": [
    "pricepredict = multi.predict(final_combo)\n",
    "\n",
    "pricepredict"
   ]
  },
  {
   "cell_type": "code",
   "execution_count": 25,
   "metadata": {},
   "outputs": [
    {
     "data": {
      "text/plain": [
       "[94.95626602505818]"
      ]
     },
     "execution_count": 25,
     "metadata": {},
     "output_type": "execute_result"
    }
   ],
   "source": [
    "#To transform these predictions back to price\n",
    "#logs, devs, means = 1,2,3 of the object \n",
    "train_price\n",
    "train_logs\n",
    "train_devs\n",
    "train_means\n",
    "#You multiply by the standard deviation, add back the mean.\n",
    "#And then un-BoxCox it using the hyperparamter\n",
    "\n",
    "\n",
    "\n"
   ]
  },
  {
   "cell_type": "code",
   "execution_count": 26,
   "metadata": {},
   "outputs": [
    {
     "name": "stdout",
     "output_type": "stream",
     "text": [
      "[[-0.91483279]\n",
      " [ 0.03331182]\n",
      " [ 0.6064589 ]\n",
      " ...\n",
      " [ 0.40546667]\n",
      " [-0.83562147]\n",
      " [ 0.44477303]]\n"
     ]
    }
   ],
   "source": [
    "print (pricepredict)\n",
    "\n",
    "pricepredict = (pricepredict * train_devs[0])+train_means[0]\n",
    "lmbda = train_logs\n",
    "adjprice = scipy.special.inv_boxcox(pricepredict, lmbda[0])"
   ]
  },
  {
   "cell_type": "code",
   "execution_count": 27,
   "metadata": {},
   "outputs": [
    {
     "data": {
      "text/plain": [
       "array([[ 77806.32534174],\n",
       "       [132056.22396204],\n",
       "       [175643.38748498],\n",
       "       ...,\n",
       "       [159337.80289055],\n",
       "       [ 81579.05587887],\n",
       "       [162437.28843059]])"
      ]
     },
     "execution_count": 27,
     "metadata": {},
     "output_type": "execute_result"
    }
   ],
   "source": [
    "adjprice"
   ]
  },
  {
   "cell_type": "code",
   "execution_count": 33,
   "metadata": {},
   "outputs": [
    {
     "data": {
      "text/plain": [
       "179029.16506937367"
      ]
     },
     "execution_count": 33,
     "metadata": {},
     "output_type": "execute_result"
    }
   ],
   "source": [
    "adjprice.mean()+37800"
   ]
  },
  {
   "cell_type": "code",
   "execution_count": 34,
   "metadata": {},
   "outputs": [
    {
     "data": {
      "text/plain": [
       "SalePrice    180423.080028\n",
       "dtype: float64"
      ]
     },
     "execution_count": 34,
     "metadata": {},
     "output_type": "execute_result"
    }
   ],
   "source": [
    "train[['SalePrice']].mean()"
   ]
  },
  {
   "cell_type": "code",
   "execution_count": null,
   "metadata": {},
   "outputs": [],
   "source": []
  }
 ],
 "metadata": {
  "kernelspec": {
   "display_name": "Python 3",
   "language": "python",
   "name": "python3"
  },
  "language_info": {
   "codemirror_mode": {
    "name": "ipython",
    "version": 3
   },
   "file_extension": ".py",
   "mimetype": "text/x-python",
   "name": "python",
   "nbconvert_exporter": "python",
   "pygments_lexer": "ipython3",
   "version": "3.7.2"
  }
 },
 "nbformat": 4,
 "nbformat_minor": 2
}
